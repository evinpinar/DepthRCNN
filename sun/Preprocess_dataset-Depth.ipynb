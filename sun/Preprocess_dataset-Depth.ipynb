{
 "cells": [
  {
   "cell_type": "code",
   "execution_count": 2,
   "metadata": {},
   "outputs": [],
   "source": [
    "import cv2\n",
    "import SUNRGBD\n",
    "import random as rand\n",
    "import pandas as pd\n",
    "import numpy as np\n",
    "import json\n",
    "import os\n",
    "import shutil\n",
    "import sys\n",
    "import h5py\n",
    "import scipy.io"
   ]
  },
  {
   "cell_type": "code",
   "execution_count": 2,
   "metadata": {},
   "outputs": [],
   "source": [
    "path_to_sun = \"../../SUNRGBD/\""
   ]
  },
  {
   "cell_type": "code",
   "execution_count": 3,
   "metadata": {},
   "outputs": [
    {
     "data": {
      "text/plain": [
       "'/home/orneke/planercnn/sun'"
      ]
     },
     "execution_count": 3,
     "metadata": {},
     "output_type": "execute_result"
    }
   ],
   "source": [
    "%pwd"
   ]
  },
  {
   "cell_type": "code",
   "execution_count": 4,
   "metadata": {},
   "outputs": [],
   "source": [
    "store = []\n",
    "for f in os.listdir(path_to_sun):\n",
    "    if not f.startswith('.'):\n",
    "        store.append(f)\n",
    "        \n",
    "b = []\n",
    "for i in range(len(store)):\n",
    "    for f in os.listdir(path_to_sun + store[i]):\n",
    "        if not f.startswith('.'):\n",
    "            b.append(path_to_sun + store[i] + \"/\" + f + \"/\")\n",
    "store = []\n",
    "\n",
    "c = []\n",
    "for i in range(len(b)):\n",
    "    if b[i] != (path_to_sun + \"xtion/sun3ddata/\"):\n",
    "        for f in os.listdir(b[i]):\n",
    "            if not f.startswith('.'):\n",
    "                store.append(b[i]  + f + \"/\")\n",
    "    else:\n",
    "        for f in os.listdir(b[i]):\n",
    "            if not f.startswith('.'):\n",
    "                c.append(b[i]  + f + \"/\")"
   ]
  },
  {
   "cell_type": "code",
   "execution_count": 5,
   "metadata": {},
   "outputs": [],
   "source": [
    "for i in range(len(c)):\n",
    "    for f in os.listdir(c[i]):\n",
    "        if not f.startswith('.'):\n",
    "            for r in os.listdir(c[i]  + f + \"/\"):\n",
    "                if not r.startswith('.'):\n",
    "                    store.append(c[i]  + f + \"/\" + r + \"/\")\n"
   ]
  },
  {
   "cell_type": "code",
   "execution_count": 6,
   "metadata": {},
   "outputs": [
    {
     "data": {
      "text/plain": [
       "10335"
      ]
     },
     "execution_count": 6,
     "metadata": {},
     "output_type": "execute_result"
    }
   ],
   "source": [
    "#just excluded\n",
    "#'/Users/ekaterina/Desktop/diploma/mask_rcnn/datasets/SUNRGBD/kv2/kinect2data/000667_2014-06-09_21-06-12_260595134347_rgbf000145-resize/'\n",
    "#checking that we collected all the pictures\n",
    "len(store)"
   ]
  },
  {
   "cell_type": "code",
   "execution_count": 7,
   "metadata": {},
   "outputs": [],
   "source": [
    "#The standdard trainval-test split uses the first 5050 images for testing and the rest for trainval.\n",
    "if not os.path.exists((path_to_sun + \"test\") or (path_to_sun + \"train\")):\n",
    "    os.makedirs(path_to_sun + \"test\")\n",
    "    os.makedirs(path_to_sun + \"train\")\n",
    "if not os.path.exists((path_to_sun + \"train\" + \"/train\") or (path_to_sun + \"train\"+ \"/val\")):\n",
    "    os.makedirs(path_to_sun + \"train\" + \"/train\")\n",
    "    os.makedirs(path_to_sun + \"train\"+ \"/val\")"
   ]
  },
  {
   "cell_type": "markdown",
   "metadata": {},
   "source": [
    "# Work with a class mapping"
   ]
  },
  {
   "cell_type": "code",
   "execution_count": 8,
   "metadata": {},
   "outputs": [],
   "source": [
    "import pandas as pd\n",
    "import scipy.io\n",
    "\n",
    "mat = scipy.io.loadmat('classMapping40.mat')\n",
    "\n",
    "label_13 = [1,2,3,4,5,6,7,8,9,10,11,12,13]\n",
    "name_13 = [\"bed\", \"books\", \"ceiling\", \n",
    "                 \"chair\", \"floor\", \"furniture\", \n",
    "                 \"objects\", \"picture\", \"sofa\", \n",
    "                 \"table\", \"tv\", \"wall\", \"window\"]\n",
    "\n",
    "labels_13 = pd.DataFrame({\n",
    "     'label_13': label_13,\n",
    "     'name_13': name_13})"
   ]
  },
  {
   "cell_type": "code",
   "execution_count": 9,
   "metadata": {},
   "outputs": [],
   "source": [
    "list_of_40 = []\n",
    "for i in range(0, len(mat[\"className\"][0])):\n",
    "    list_of_40.append(mat[\"className\"][0][i][0]) \n",
    "    \n",
    "label_of_40 = list(range(1,41))\n",
    "merging = [12,5,6,1,4,9,10,12,13,6,8,6,13,10,6,13,6,7,7,5,7,3,2,6,11,7,7,7,7,7,7,6,7,7,7,7,7,7,6,7]\n",
    "\n",
    "labels_40 = pd.DataFrame({\n",
    "     'Label_40': label_of_40,\n",
    "     'Name_40': list_of_40,\n",
    "     \"label_13\": merging})"
   ]
  },
  {
   "cell_type": "code",
   "execution_count": 10,
   "metadata": {},
   "outputs": [],
   "source": [
    "allClassName_894 = []\n",
    "for i in range(0, len(mat[\"allClassName\"][0])):\n",
    "    allClassName_894.append(mat[\"allClassName\"][0][i][0])\n",
    "\n",
    "mapClass_894 = []\n",
    "for i in range(0, len(mat[\"mapClass\"][0])):\n",
    "    mapClass_894.append(mat[\"mapClass\"][0][i])\n",
    "    \n",
    "labels_894 = pd.DataFrame({\n",
    "     'Label_40': list(mapClass_894),\n",
    "     'Name_894': list(allClassName_894)})"
   ]
  },
  {
   "cell_type": "code",
   "execution_count": 11,
   "metadata": {},
   "outputs": [],
   "source": [
    "df = pd.read_csv('name_mapping_from_toolbox')\n",
    "df = df.drop(['Unnamed: 0'], axis=1)\n",
    "df = pd.merge(df, labels_40, left_on=\"Label_37\", right_on=\"Label_40\").drop([ 'Label_37', 'Name_37'], axis=1)"
   ]
  },
  {
   "cell_type": "code",
   "execution_count": 12,
   "metadata": {},
   "outputs": [
    {
     "name": "stdout",
     "output_type": "stream",
     "text": [
      "   Label_40 Name_894\n",
      "0        40     book\n"
     ]
    }
   ],
   "source": [
    "print(labels_894.loc[labels_894['Name_894'] == 'book'])\n",
    "df3 = pd.merge(labels_894, labels_40)\n",
    "final_dataset = pd.merge(df3, labels_13)"
   ]
  },
  {
   "cell_type": "code",
   "execution_count": 15,
   "metadata": {},
   "outputs": [
    {
     "data": {
      "text/plain": [
       "(Label_6585                   995\n",
       " Name_6585     clothing detergent\n",
       " Label_40                      21\n",
       " Name_40                  clothes\n",
       " label_13                       7\n",
       " Name: 0, dtype: object, Label_40           40\n",
       " Name_894         book\n",
       " Name_40     otherprop\n",
       " label_13            7\n",
       " name_13       objects\n",
       " Name: 0, dtype: object)"
      ]
     },
     "execution_count": 15,
     "metadata": {},
     "output_type": "execute_result"
    }
   ],
   "source": [
    "df.iloc[0], final_dataset.iloc[0]"
   ]
  },
  {
   "cell_type": "code",
   "execution_count": 13,
   "metadata": {},
   "outputs": [],
   "source": [
    "labels_needed = {}\n",
    "#Converting data to work with 13 classes\n",
    "for i in range(0, len(df)):\n",
    "    labels_needed[str(df.iloc[i]['Name_6585'])] = df.iloc[i]['label_13']\n",
    "    \n",
    "# Adding data for the dun from matlab file\n",
    "#Converting data to work with 13 classes\n",
    "for i in range(0, len(final_dataset)):\n",
    "    labels_needed[str(final_dataset.iloc[i]['Name_894'])] = final_dataset.iloc[i]['label_13']"
   ]
  },
  {
   "cell_type": "code",
   "execution_count": 16,
   "metadata": {},
   "outputs": [],
   "source": [
    "labels_needed = {}\n",
    "#Converting data to work with 40 classes\n",
    "for i in range(0, len(df)):\n",
    "    labels_needed[str(df.iloc[i]['Name_6585'])] = df.iloc[i]['Label_40']\n",
    "    \n",
    "# Adding data for the dun from matlab file\n",
    "#Converting data to work with 40 classes\n",
    "for i in range(0, len(final_dataset)):\n",
    "    labels_needed[str(final_dataset.iloc[i]['Name_894'])] = final_dataset.iloc[i]['Label_40']"
   ]
  },
  {
   "cell_type": "markdown",
   "metadata": {},
   "source": [
    "# Start the parsing"
   ]
  },
  {
   "cell_type": "code",
   "execution_count": 18,
   "metadata": {},
   "outputs": [],
   "source": [
    "all_labels = []\n",
    "for key in labels_needed.keys():\n",
    "    all_labels.append(key)"
   ]
  },
  {
   "cell_type": "code",
   "execution_count": 19,
   "metadata": {},
   "outputs": [],
   "source": [
    "import stringdist\n",
    "\n",
    "ufo = {}\n",
    "def transformation(image_root, number_of_image):\n",
    "    # Set the paths\n",
    "    image_root = image_root\n",
    "    path_to_image = image_root + \"image/\" + (os.listdir(image_root + \"/image/\")[0])\n",
    "    anotation = image_root + 'annotation2Dfinal'\n",
    "    \n",
    "    with open(anotation + \"/index.json\") as data_file:\n",
    "        data = json.load(data_file)\n",
    "    \n",
    "    numberOfAnot = len(data[\"frames\"][0][\"polygon\"])\n",
    "    element = {}\n",
    "\n",
    "    size =  os.path.getsize(path_to_image)\n",
    "    filename = os.listdir(image_root + \"/image\")\n",
    "    filename = filename[0]\n",
    "\n",
    "    element = {\"fileref\": '', \"size\": size, \n",
    "        \"filename\": str(number_of_image) + \".jpg\", 'base64_img_data': '', 'file_attributes': {}, 'regions': {}}\n",
    "    \n",
    "    anootation2D = []\n",
    "    labels2D = []\n",
    "    regions = {}\n",
    "    \n",
    "    for i in range(0, numberOfAnot):\n",
    "        x = data[\"frames\"][0][\"polygon\"][i][\"x\"]\n",
    "        y = data[\"frames\"][0][\"polygon\"][i][\"y\"]\n",
    "        idxObj = data[\"frames\"][0][\"polygon\"][i][\"object\"]\n",
    "        if idxObj <= len(data['objects']):\n",
    "            label = data['objects'][idxObj][\"name\"].lower()\n",
    "            label = ''.join(i for i in label if not i.isdigit())\n",
    "            if label in labels_needed:\n",
    "                label = labels_needed[label]\n",
    "            else:\n",
    "                leve = {}\n",
    "                for i in range(0,len(all_labels)):\n",
    "                    leve[all_labels[i]] = stringdist.levenshtein(label, all_labels[i])\n",
    "                label = labels_needed[min(leve, key=leve.get)]\n",
    "                ufo[min(leve, key=leve.get)] = label\n",
    "            if int(label) in [38, 39, 40]:\n",
    "                continue\n",
    "            if type(x) == list and type(y) == list:\n",
    "                all_points_x = list(map(round, x))\n",
    "                all_points_y = list(map(round, y))\n",
    "                if len(all_points_y) != 0 and len(all_points_x) != 0:\n",
    "                    shape_attributes = {'name':'polygon',\"all_points_x\":x,\"all_points_y\":y}\n",
    "                    region = {'shape_attributes': {'name': 'polygon',\n",
    "                    'all_points_x': x, 'all_points_y': y}, 'region_attributes': {\"class\": int(label)}}  \n",
    "                    element['regions'][str(i)] = region\n",
    "    return element"
   ]
  },
  {
   "cell_type": "code",
   "execution_count": 20,
   "metadata": {},
   "outputs": [
    {
     "name": "stdout",
     "output_type": "stream",
     "text": [
      "Fuckup with ../../SUNRGBD/realsense/sa/2014_10_24-20_40_16-1311000073/\n",
      "Fuckup with ../../SUNRGBD/kv1/b3dodata/img_0174/\n",
      "Fuckup with ../../SUNRGBD/kv1/b3dodata/img_0139/\n",
      "Fuckup with ../../SUNRGBD/xtion/sun3ddata/harvard_conf_big/hv_conf_big_1/0003496-000117171936/\n",
      "Fuckup with ../../SUNRGBD/xtion/sun3ddata/hotel_beijing/beijing_hotel_1/0000634-000021249144/\n",
      "Fuckup with ../../SUNRGBD/xtion/sun3ddata/brown_cs_7/brown_cs7/0000004-000000105238/\n",
      "Fuckup with ../../SUNRGBD/xtion/sun3ddata/home_md/home_md_scan4_2012_july_29/0003900-000466989990/\n",
      "Fuckup with ../../SUNRGBD/xtion/sun3ddata/mit_26_100/classroom_26100_nov_2_2012_scan1_erika/0006997-000305722660/\n",
      "Fuckup with ../../SUNRGBD/xtion/sun3ddata/home_ph_cz/ph_cz_1/0001900-000063646884/\n",
      "Fuckup with ../../SUNRGBD/xtion/sun3ddata/mit_lab_16/lab_16_nov_2_2012_scan1_erika/0000094-000003787308/\n",
      "Fuckup with ../../SUNRGBD/xtion/sun3ddata/mit_lab_16/lab_16_nov_2_2012_scan1_erika/0011684-000499388400/\n",
      "Fuckup with ../../SUNRGBD/xtion/sun3ddata/mit_46_6lounge/bcs_floor6_long/0002484-000083508909/\n",
      "Fuckup with ../../SUNRGBD/xtion/sun3ddata/mit_46_6lounge/bcs_floor6_long/0006018-000201954453/\n",
      "Fuckup with ../../SUNRGBD/xtion/sun3ddata/mit_dorm_masseeh_xc/dorm_masseeh_xc_oct_29_2012_scan1_erika/0001352-000058820628/\n",
      "Fuckup with ../../SUNRGBD/xtion/sun3ddata/mit_32_144/classroom_32144_nov_2_2012_scan1_erika/0000005-000000203603/\n"
     ]
    }
   ],
   "source": [
    "# For the NYU dataset\n",
    "# 80% of train images - 1160 pics (0, 1160)\n",
    "   # 10% test - 145 pics (1160,1305)\n",
    "   # 10: validation - 144 pics (1305, 1449)\n",
    "# 20% of test images - 289\n",
    "\n",
    "# 5050 test images store[0 : 5049]\n",
    "# 5285 train-val images [5050 : 10334]\n",
    "   # 4226 train images [5050:9275]\n",
    "   # 1056 validation images [9276: 10333]\n",
    "d = {}\n",
    "fail = []\n",
    "# Working with a test dataset - 5050 images\n",
    "for i in range(5050, 9275):\n",
    "    try:\n",
    "        element2 = {}\n",
    "        number_of_image = i\n",
    "        #print(number_of_image)\n",
    "        element2 = transformation(store[i], number_of_image)\n",
    "    #except json.decoder.JSONDecodeError:\n",
    "    except ValueError:\n",
    "        print(\"Fuckup with \" + store[i])\n",
    "        fail.append(store[i])\n",
    "    #print(element2)\n",
    "    if element2:\n",
    "        file_name = os.listdir(store[i] + \"/image\")[0]\n",
    "        file_to_copy = store[i] + \"image/\" + file_name\n",
    "        target_dir = path_to_sun + \"train/train/\"\n",
    "        shutil.copyfile(file_to_copy, target_dir + str(i) + \".jpg\")\n",
    "        \n",
    "        depth_file_name = os.listdir(store[i] + \"/depth_bfx\")[0]\n",
    "        depth_file_to_copy = store[i] + \"depth_bfx/\" + depth_file_name\n",
    "        depth_target_dir = path_to_sun + \"train/train/\"\n",
    "        shutil.copyfile(depth_file_to_copy, depth_target_dir + str(i) + \"_depth.png\")\n",
    "        \n",
    "        d[str(i) + \".jpg\" + str(os.path.getsize(file_to_copy))] = element2\n",
    "\n",
    "jsonname2 =  path_to_sun + \"train/train/\" + \"via_region_data.json\"\n",
    "with open(jsonname2, 'w') as fp:\n",
    "        json.dump(d, fp)"
   ]
  },
  {
   "cell_type": "code",
   "execution_count": 21,
   "metadata": {},
   "outputs": [
    {
     "name": "stdout",
     "output_type": "stream",
     "text": [
      "Pictures failed:15\n",
      "Pictures parsed:4210\n"
     ]
    }
   ],
   "source": [
    "print(\"Pictures failed:\" + str(len(fail)))\n",
    "print(\"Pictures parsed:\" + str(len(d)))"
   ]
  },
  {
   "cell_type": "code",
   "execution_count": 24,
   "metadata": {},
   "outputs": [
    {
     "name": "stdout",
     "output_type": "stream",
     "text": [
      "Fuckup with ../../SUNRGBD/kv2/kinect2data/000667_2014-06-09_21-06-12_260595134347_rgbf000145-resize/\n",
      "Fuckup with ../../SUNRGBD/kv2/kinect2data/000504_2014-06-08_23-03-02_260595134347_rgbf000064-resize/\n",
      "Fuckup with ../../SUNRGBD/kv2/kinect2data/002922_2014-06-26_15-43-16_094959634447_rgbf000089-resize/\n",
      "Fuckup with ../../SUNRGBD/kv2/kinect2data/003054_2014-06-15_13-54-54_094959634447_rgbf000113-resize/\n",
      "Fuckup with ../../SUNRGBD/kv2/kinect2data/000467_2014-06-09_19-35-24_260595134347_rgbf000188-resize/\n",
      "Fuckup with ../../SUNRGBD/kv2/kinect2data/000424_2014-06-08_17-05-00_260595134347_rgbf000115-resize/\n",
      "Fuckup with ../../SUNRGBD/kv2/kinect2data/003158_2014-05-12_11-32-40_094959634447_rgbf002887-resize/\n",
      "Fuckup with ../../SUNRGBD/kv2/kinect2data/000631_2014-06-08_16-30-36_260595134347_rgbf000088-resize/\n",
      "Fuckup with ../../SUNRGBD/kv2/kinect2data/000668_2014-06-09_21-07-12_260595134347_rgbf000161-resize/\n",
      "Fuckup with ../../SUNRGBD/kv2/kinect2data/001177_2014-06-17_15-46-38_260595134347_rgbf000056-resize/\n",
      "Fuckup with ../../SUNRGBD/kv2/kinect2data/002295_2014-06-28_19-00-10_260595134347_rgbf000138-resize/\n",
      "Fuckup with ../../SUNRGBD/realsense/sh/2014_10_21-13_38_40-1311000073/\n",
      "Fuckup with ../../SUNRGBD/realsense/lg/2014_10_28-15_42_33-1311000073/\n",
      "Fuckup with ../../SUNRGBD/realsense/lg/2014_10_30-16_08_49-1311000073/\n",
      "Fuckup with ../../SUNRGBD/realsense/lg/2014_10_29-16_30_32-1311000073/\n",
      "Fuckup with ../../SUNRGBD/realsense/lg/2014_10_28-15_40_43-1311000073/\n",
      "Fuckup with ../../SUNRGBD/realsense/sa/2014_10_22-16_08_18-1311000073/\n",
      "Fuckup with ../../SUNRGBD/realsense/sa/2014_10_24-21_13_08-1311000073/\n",
      "Fuckup with ../../SUNRGBD/realsense/sa/2014_10_22-15_23_07-1311000073/\n",
      "Fuckup with ../../SUNRGBD/realsense/sa/2014_10_23-15_50_52-1311000073/\n",
      "Fuckup with ../../SUNRGBD/realsense/sa/2014_10_22-16_08_45-1311000073/\n"
     ]
    }
   ],
   "source": [
    "d2 = {}\n",
    "fail2 = []\n",
    "# Working with a train dataset - 4226 images\n",
    "for i in range(0, 5049):\n",
    "    try:\n",
    "        element2 = {}\n",
    "        number_of_image = i\n",
    "        #print(number_of_image)\n",
    "        element2 = transformation(store[i], number_of_image)\n",
    "        #print(element2)\n",
    "        if element2:\n",
    "            file_name = os.listdir(store[i] + \"/image\")[0]\n",
    "            file_to_copy = store[i] + \"image/\" + file_name\n",
    "            target_dir = path_to_sun + \"test/\"\n",
    "            shutil.copyfile(file_to_copy, target_dir + str(i) + \".jpg\")\n",
    "            \n",
    "            depth_file_name = os.listdir(store[i] + \"/depth_bfx\")[0]\n",
    "            depth_file_to_copy = store[i] + \"depth_bfx/\" + depth_file_name\n",
    "            depth_target_dir = path_to_sun + \"test/\"\n",
    "            shutil.copyfile(depth_file_to_copy, depth_target_dir + str(i) + \"_depth.png\")\n",
    "            \n",
    "            d2[str(i) + \".jpg\" + str(os.path.getsize(file_to_copy))] = element2\n",
    "    #except json.decoder.JSONDecodeError:\n",
    "    except ValueError:\n",
    "        print(\"Fuckup with \" + store[i])\n",
    "        fail2.append(store[i])\n",
    "\n",
    "jsonname2 =  path_to_sun + \"test/\" + \"via_region_data.json\"\n",
    "with open(jsonname2, 'w') as fp:\n",
    "        json.dump(d2, fp)"
   ]
  },
  {
   "cell_type": "code",
   "execution_count": 25,
   "metadata": {},
   "outputs": [
    {
     "name": "stdout",
     "output_type": "stream",
     "text": [
      "Pictures failed:21\n",
      "Pictures parsed:5028\n"
     ]
    }
   ],
   "source": [
    "print(\"Pictures failed:\" + str(len(fail2)))\n",
    "print(\"Pictures parsed:\" + str(len(d2)))"
   ]
  },
  {
   "cell_type": "code",
   "execution_count": 26,
   "metadata": {},
   "outputs": [
    {
     "name": "stdout",
     "output_type": "stream",
     "text": [
      "Fuckup with ../../SUNRGBD/xtion/sun3ddata/mit_dorm_mcc_flr1/dorm_mcc_flr1_oct_31_2012_scan1_erika/0001153-000051532234/\n",
      "Fuckup with ../../SUNRGBD/xtion/sun3ddata/hotel_uc/scan2/0000311-000157225998/\n",
      "Fuckup with ../../SUNRGBD/xtion/sun3ddata/brown_cs_5/brown_cs5/0000634-000021457030/\n",
      "Fuckup with ../../SUNRGBD/xtion/sun3ddata/mit_dorm_mcc_wph/dorm_mcc_wph_oct_31_2012_scan1_erika/0005980-000266256626/\n"
     ]
    }
   ],
   "source": [
    "d3 = {}\n",
    "fail3 = []\n",
    "# Working with a train dataset - 4226 images\n",
    "for i in range(9276, 10333):\n",
    "    try:\n",
    "        element2 = {}\n",
    "        number_of_image = i\n",
    "        #print(number_of_image)\n",
    "        element2 = transformation(store[i], number_of_image)\n",
    "    except json.decoder.JSONDecodeError:\n",
    "        print(\"Fuckup with \" + store[i])\n",
    "        fail3.append(store[i])\n",
    "    #print(element2)\n",
    "    if element2:\n",
    "        file_name = os.listdir(store[i] + \"/image\")[0]\n",
    "        file_to_copy = store[i] + \"image/\" + file_name\n",
    "        target_dir = path_to_sun + \"train/val/\"\n",
    "        shutil.copyfile(file_to_copy, target_dir + str(i) + \".jpg\")\n",
    "        \n",
    "        depth_file_name = os.listdir(store[i] + \"/depth_bfx\")[0]\n",
    "        depth_file_to_copy = store[i] + \"depth_bfx/\" + depth_file_name\n",
    "        depth_target_dir = path_to_sun + \"train/val/\"\n",
    "        shutil.copyfile(depth_file_to_copy, depth_target_dir + str(i) + \"_depth.png\")\n",
    "        \n",
    "        d3[str(i) + \".jpg\" + str(os.path.getsize(file_to_copy))] = element2\n",
    "\n",
    "jsonname2 =  path_to_sun + \"train/val/\" + \"via_region_data.json\"\n",
    "with open(jsonname2, 'w') as fp:\n",
    "        json.dump(d3, fp)"
   ]
  },
  {
   "cell_type": "code",
   "execution_count": 27,
   "metadata": {},
   "outputs": [
    {
     "name": "stdout",
     "output_type": "stream",
     "text": [
      "Pictures failed:4\n",
      "Pictures parsed:1053\n"
     ]
    }
   ],
   "source": [
    "print(\"Pictures failed:\" + str(len(fail3)))\n",
    "print(\"Pictures parsed:\" + str(len(d3)))"
   ]
  },
  {
   "cell_type": "code",
   "execution_count": 28,
   "metadata": {},
   "outputs": [
    {
     "data": {
      "text/plain": [
       "10335"
      ]
     },
     "execution_count": 28,
     "metadata": {},
     "output_type": "execute_result"
    }
   ],
   "source": [
    "len(store)"
   ]
  },
  {
   "cell_type": "code",
   "execution_count": 29,
   "metadata": {},
   "outputs": [],
   "source": [
    "image_root = store[6029]"
   ]
  },
  {
   "cell_type": "code",
   "execution_count": 30,
   "metadata": {},
   "outputs": [],
   "source": [
    "frameData = SUNRGBD.readFrame(image_root, True )"
   ]
  },
  {
   "cell_type": "code",
   "execution_count": 31,
   "metadata": {},
   "outputs": [
    {
     "data": {
      "text/plain": [
       "((427, 561, 3), dtype('uint8'), (427, 561, 3), dtype('uint8'))"
      ]
     },
     "execution_count": 31,
     "metadata": {},
     "output_type": "execute_result"
    }
   ],
   "source": [
    "frameData.imgRGB.shape, frameData.imgRGB.dtype, frameData.imgD.shape, frameData.imgD.dtype"
   ]
  },
  {
   "cell_type": "code",
   "execution_count": null,
   "metadata": {},
   "outputs": [],
   "source": [
    "import matplotlib.pyplot as plt\n",
    "imgRGBWithAnnotations = np.array(frameData.imgRGB, copy=True)\n",
    "\n",
    "for i in range(0, len(frameData.annotation2D)):\n",
    "    color = [rand.randint(0,255), rand.randint(0,255), rand.randint(0,255)]\n",
    "    cv2.fillPoly(imgRGBWithAnnotations, [frameData.annotation2D[i]], color)\n",
    "    \n",
    "for i in range(0, len(frameData.annotation2D)):\n",
    "    data = frameData.annotation2D[i];\n",
    "    centroid = np.mean(data,axis=0)\n",
    "    cv2.putText(imgRGBWithAnnotations, frameData.labels2D[i], (int(centroid[0]), int(centroid[1])), cv2.FONT_HERSHEY_SIMPLEX, 0.7, [0,0,0],2)\n",
    "    "
   ]
  },
  {
   "cell_type": "code",
   "execution_count": 71,
   "metadata": {},
   "outputs": [],
   "source": [
    "data = frameData.annotation2D\n",
    "data2 = frameData.labels2D"
   ]
  },
  {
   "cell_type": "code",
   "execution_count": 1,
   "metadata": {},
   "outputs": [
    {
     "ename": "NameError",
     "evalue": "name 'image_root' is not defined",
     "output_type": "error",
     "traceback": [
      "\u001b[0;31m---------------------------------------------------------------------------\u001b[0m",
      "\u001b[0;31mNameError\u001b[0m                                 Traceback (most recent call last)",
      "\u001b[0;32m<ipython-input-1-084d8d162dad>\u001b[0m in \u001b[0;36m<module>\u001b[0;34m\u001b[0m\n\u001b[0;32m----> 1\u001b[0;31m \u001b[0manotation2D\u001b[0m \u001b[0;34m=\u001b[0m \u001b[0mimage_root\u001b[0m \u001b[0;34m+\u001b[0m \u001b[0;34m\"/annotation2Dfinal/index.json\"\u001b[0m\u001b[0;34m\u001b[0m\u001b[0m\n\u001b[0m\u001b[1;32m      2\u001b[0m \u001b[0;34m\u001b[0m\u001b[0m\n\u001b[1;32m      3\u001b[0m \u001b[0;32mwith\u001b[0m \u001b[0mopen\u001b[0m\u001b[0;34m(\u001b[0m\u001b[0manotation2D\u001b[0m\u001b[0;34m)\u001b[0m \u001b[0;32mas\u001b[0m \u001b[0mdata_file\u001b[0m\u001b[0;34m:\u001b[0m\u001b[0;34m\u001b[0m\u001b[0m\n\u001b[1;32m      4\u001b[0m     \u001b[0mdata\u001b[0m \u001b[0;34m=\u001b[0m \u001b[0mjson\u001b[0m\u001b[0;34m.\u001b[0m\u001b[0mload\u001b[0m\u001b[0;34m(\u001b[0m\u001b[0mdata_file\u001b[0m\u001b[0;34m)\u001b[0m\u001b[0;34m\u001b[0m\u001b[0m\n\u001b[1;32m      5\u001b[0m \u001b[0;34m\u001b[0m\u001b[0m\n",
      "\u001b[0;31mNameError\u001b[0m: name 'image_root' is not defined"
     ]
    }
   ],
   "source": [
    "anotation2D = image_root + \"/annotation2Dfinal/index.json\"\n",
    "\n",
    "with open(anotation2D) as data_file:    \n",
    "    data = json.load(data_file)\n",
    "\n",
    "    numberOfAnot = len(data[\"frames\"][0][\"polygon\"]);\n",
    "    anootation2D = [];\n",
    "    labels2D = [];\n",
    "    for i in range(0,numberOfAnot):\n",
    "        x = data[\"frames\"][0][\"polygon\"][i][\"x\"]\n",
    "        y = data[\"frames\"][0][\"polygon\"][i][\"y\"]\n",
    "\n",
    "        idxObj = data[\"frames\"][0][\"polygon\"][i][\"object\"];\n",
    "        pts2 = np.array([x,y], np.int32)\n",
    "        pts2 = np.transpose(pts2);\n",
    "        anootation2D.append(pts2);\n",
    "        labels2D.append(data['objects'][idxObj][\"name\"])"
   ]
  },
  {
   "cell_type": "code",
   "execution_count": 45,
   "metadata": {},
   "outputs": [
    {
     "name": "stdout",
     "output_type": "stream",
     "text": [
      "Depth data\n"
     ]
    },
    {
     "data": {
      "image/png": "[encoded data removed]",
      "text/plain": [
       "<Figure size 432x288 with 1 Axes>"
      ]
     },
     "metadata": {
      "needs_background": "light"
     },
     "output_type": "display_data"
    }
   ],
   "source": [
    "print(\"Depth data\")\n",
    "plt.imshow(frameData.imgD);"
   ]
  },
  {
   "cell_type": "code",
   "execution_count": 44,
   "metadata": {},
   "outputs": [
    {
     "name": "stdout",
     "output_type": "stream",
     "text": [
      "RGB Image\n"
     ]
    },
    {
     "data": {
      "image/png": "[encoded data removed]",
      "text/plain": [
       "<Figure size 432x288 with 1 Axes>"
      ]
     },
     "metadata": {
      "needs_background": "light"
     },
     "output_type": "display_data"
    }
   ],
   "source": [
    "print(\"RGB Image\")\n",
    "plt.imshow(frameData.imgRGB);"
   ]
  },
  {
   "cell_type": "code",
   "execution_count": 46,
   "metadata": {},
   "outputs": [
    {
     "name": "stdout",
     "output_type": "stream",
     "text": [
      "Annotated Image\n"
     ]
    },
    {
     "ename": "NameError",
     "evalue": "name 'imgRGBWithAnnotations' is not defined",
     "output_type": "error",
     "traceback": [
      "\u001b[0;31m---------------------------------------------------------------------------\u001b[0m",
      "\u001b[0;31mNameError\u001b[0m                                 Traceback (most recent call last)",
      "\u001b[0;32m<ipython-input-46-df0a888da5f1>\u001b[0m in \u001b[0;36m<module>\u001b[0;34m\u001b[0m\n\u001b[1;32m      1\u001b[0m \u001b[0mprint\u001b[0m\u001b[0;34m(\u001b[0m\u001b[0;34m\"Annotated Image\"\u001b[0m\u001b[0;34m)\u001b[0m\u001b[0;34m\u001b[0m\u001b[0m\n\u001b[0;32m----> 2\u001b[0;31m \u001b[0mplt\u001b[0m\u001b[0;34m.\u001b[0m\u001b[0mimshow\u001b[0m\u001b[0;34m(\u001b[0m\u001b[0mimgRGBWithAnnotations\u001b[0m\u001b[0;34m)\u001b[0m\u001b[0;34m;\u001b[0m\u001b[0;34m\u001b[0m\u001b[0m\n\u001b[0m",
      "\u001b[0;31mNameError\u001b[0m: name 'imgRGBWithAnnotations' is not defined"
     ]
    }
   ],
   "source": [
    "print(\"Annotated Image\")\n",
    "plt.imshow(imgRGBWithAnnotations);"
   ]
  },
  {
   "cell_type": "code",
   "execution_count": 29,
   "metadata": {},
   "outputs": [],
   "source": [
    "import matplotlib.pyplot as plt\n",
    "imgdepth = frameData.imgD.astype('uint16')\n",
    "imgdepth = (imgdepth >> 3) | (imgdepth << 13)\n",
    "imgdepth = imgdepth.astype('single') / 1000"
   ]
  },
  {
   "cell_type": "code",
   "execution_count": 41,
   "metadata": {},
   "outputs": [],
   "source": [
    "imgdepth = frameData.imgD.astype('uint16')\n",
    "imgdepth = imgdepth.astype('single') / 1000"
   ]
  },
  {
   "cell_type": "code",
   "execution_count": 43,
   "metadata": {},
   "outputs": [
    {
     "name": "stdout",
     "output_type": "stream",
     "text": [
      "Depth data\n"
     ]
    },
    {
     "data": {
      "image/png": "[encoded data removed]",
      "text/plain": [
       "<Figure size 432x288 with 1 Axes>"
      ]
     },
     "metadata": {
      "needs_background": "light"
     },
     "output_type": "display_data"
    }
   ],
   "source": [
    "print(\"Depth data\")\n",
    "plt.imshow(imgdepth, vmin=np.min(imgdepth), vmax=np.max(imgdepth));"
   ]
  },
  {
   "cell_type": "code",
   "execution_count": 40,
   "metadata": {},
   "outputs": [
    {
     "data": {
      "text/plain": [
       "(0.0044, 0.0157)"
      ]
     },
     "execution_count": 40,
     "metadata": {},
     "output_type": "execute_result"
    }
   ],
   "source": [
    "imgdepth.min(), imgdepth.max()"
   ]
  },
  {
   "cell_type": "code",
   "execution_count": null,
   "metadata": {},
   "outputs": [],
   "source": []
  },
  {
   "cell_type": "code",
   "execution_count": 77,
   "metadata": {},
   "outputs": [
    {
     "data": {
      "text/plain": [
       "(530, 730, 3)"
      ]
     },
     "execution_count": 77,
     "metadata": {},
     "output_type": "execute_result"
    }
   ],
   "source": [
    "imgRGBWithAnnotations.shape"
   ]
  },
  {
   "cell_type": "code",
   "execution_count": 78,
   "metadata": {},
   "outputs": [
    {
     "data": {
      "text/plain": [
       "9"
      ]
     },
     "execution_count": 78,
     "metadata": {},
     "output_type": "execute_result"
    }
   ],
   "source": [
    "len(frameData.annotation2D)"
   ]
  },
  {
   "cell_type": "code",
   "execution_count": 57,
   "metadata": {},
   "outputs": [
    {
     "data": {
      "text/plain": [
       "((36, 2), dtype('int32'))"
      ]
     },
     "execution_count": 57,
     "metadata": {},
     "output_type": "execute_result"
    }
   ],
   "source": [
    "frameData.annotation2D[0].shape, frameData.annotation2D[0].dtype"
   ]
  },
  {
   "cell_type": "code",
   "execution_count": null,
   "metadata": {},
   "outputs": [],
   "source": [
    "for i, p in enumerate(frameData.annotation2D):\n",
    "    #print(p)\n",
    "    x_coord = p[:,0]\n",
    "    y_coord = p[:,1]\n",
    "    for y in y_coord:\n",
    "        if y > 730:\n",
    "            print(\"y: \", y)\n",
    "    for x in x_coord:\n",
    "        if x > 530:\n",
    "            print(\"x: \",x)"
   ]
  },
  {
   "cell_type": "code",
   "execution_count": null,
   "metadata": {},
   "outputs": [],
   "source": [
    "for i, p in enumerate(dataset.image_info[img_id][\"polygons\"]):\n",
    "    y_s = p['all_points_y']\n",
    "    x_s = p['all_points_x']\n",
    "    for y in y_s:\n",
    "        if y > 730:\n",
    "            print(\"y: \", y)\n",
    "    for x in x_s:\n",
    "        if x > 530:\n",
    "            print(\"x: \",x)"
   ]
  },
  {
   "cell_type": "code",
   "execution_count": 64,
   "metadata": {},
   "outputs": [
    {
     "data": {
      "text/plain": [
       "array([[833, 119],\n",
       "       [757,  93],\n",
       "       [707, 265],\n",
       "       [833, 285]], dtype=int32)"
      ]
     },
     "execution_count": 64,
     "metadata": {},
     "output_type": "execute_result"
    }
   ],
   "source": [
    "frameData.annotation2D[0]"
   ]
  },
  {
   "cell_type": "code",
   "execution_count": 67,
   "metadata": {},
   "outputs": [
    {
     "data": {
      "text/plain": [
       "array([119,  93, 265, 285], dtype=int32)"
      ]
     },
     "execution_count": 67,
     "metadata": {},
     "output_type": "execute_result"
    }
   ],
   "source": [
    "frameData.annotation2D[0][:,1]"
   ]
  },
  {
   "cell_type": "code",
   "execution_count": 72,
   "metadata": {},
   "outputs": [
    {
     "data": {
      "text/plain": [
       "45"
      ]
     },
     "execution_count": 72,
     "metadata": {},
     "output_type": "execute_result"
    }
   ],
   "source": [
    "len(frameData.annotation2D)"
   ]
  },
  {
   "cell_type": "code",
   "execution_count": 73,
   "metadata": {},
   "outputs": [
    {
     "name": "stdout",
     "output_type": "stream",
     "text": [
      "r c:  [ 94  94  94 ... 284 284 284] [757 758 759 ... 830 831 832]\n"
     ]
    },
    {
     "ename": "IndexError",
     "evalue": "index 757 is out of bounds for axis 1 with size 730",
     "output_type": "error",
     "traceback": [
      "\u001b[0;31m---------------------------------------------------------------------------\u001b[0m",
      "\u001b[0;31mIndexError\u001b[0m                                Traceback (most recent call last)",
      "\u001b[0;32m<ipython-input-73-722b7c9fa44f>\u001b[0m in \u001b[0;36m<module>\u001b[0;34m\u001b[0m\n\u001b[1;32m      6\u001b[0m \u001b[0mrr\u001b[0m\u001b[0;34m,\u001b[0m \u001b[0mcc\u001b[0m \u001b[0;34m=\u001b[0m \u001b[0mskimage\u001b[0m\u001b[0;34m.\u001b[0m\u001b[0mdraw\u001b[0m\u001b[0;34m.\u001b[0m\u001b[0mpolygon\u001b[0m\u001b[0;34m(\u001b[0m\u001b[0mframeData\u001b[0m\u001b[0;34m.\u001b[0m\u001b[0mannotation2D\u001b[0m\u001b[0;34m[\u001b[0m\u001b[0;36m0\u001b[0m\u001b[0;34m]\u001b[0m\u001b[0;34m[\u001b[0m\u001b[0;34m:\u001b[0m\u001b[0;34m,\u001b[0m\u001b[0;36m1\u001b[0m\u001b[0;34m]\u001b[0m\u001b[0;34m,\u001b[0m \u001b[0mframeData\u001b[0m\u001b[0;34m.\u001b[0m\u001b[0mannotation2D\u001b[0m\u001b[0;34m[\u001b[0m\u001b[0;36m0\u001b[0m\u001b[0;34m]\u001b[0m\u001b[0;34m[\u001b[0m\u001b[0;34m:\u001b[0m\u001b[0;34m,\u001b[0m\u001b[0;36m0\u001b[0m\u001b[0;34m]\u001b[0m\u001b[0;34m)\u001b[0m\u001b[0;34m\u001b[0m\u001b[0m\n\u001b[1;32m      7\u001b[0m \u001b[0mprint\u001b[0m\u001b[0;34m(\u001b[0m\u001b[0;34m\"r c: \"\u001b[0m\u001b[0;34m,\u001b[0m\u001b[0mrr\u001b[0m\u001b[0;34m,\u001b[0m \u001b[0mcc\u001b[0m\u001b[0;34m)\u001b[0m\u001b[0;34m\u001b[0m\u001b[0m\n\u001b[0;32m----> 8\u001b[0;31m \u001b[0mmask\u001b[0m\u001b[0;34m[\u001b[0m\u001b[0mrr\u001b[0m\u001b[0;34m,\u001b[0m \u001b[0mcc\u001b[0m\u001b[0;34m,\u001b[0m \u001b[0mi\u001b[0m\u001b[0;34m]\u001b[0m \u001b[0;34m=\u001b[0m \u001b[0;36m1\u001b[0m\u001b[0;34m\u001b[0m\u001b[0m\n\u001b[0m",
      "\u001b[0;31mIndexError\u001b[0m: index 757 is out of bounds for axis 1 with size 730"
     ]
    }
   ],
   "source": [
    "import skimage.draw\n",
    "\n",
    "\n",
    "mask = np.zeros([530, 730, len(frameData.annotation2D)],\n",
    "                        dtype=np.uint8)\n",
    "rr, cc = skimage.draw.polygon(frameData.annotation2D[0][:,1], frameData.annotation2D[0][:,0])\n",
    "\n",
    "print(\"r c: \",rr, cc)\n",
    "mask[rr, cc, i] = 1"
   ]
  },
  {
   "cell_type": "code",
   "execution_count": 130,
   "metadata": {},
   "outputs": [],
   "source": [
    "masks = np.zeros([530, 730, 45])\n",
    "for i in range(45):\n",
    "    mask = np.zeros([530, 730])\n",
    "    cv2.fillPoly(mask, [frameData.annotation2D[i]], 1)\n",
    "    masks[:,:,i] = mask\n"
   ]
  },
  {
   "cell_type": "code",
   "execution_count": 114,
   "metadata": {},
   "outputs": [
    {
     "data": {
      "text/plain": [
       "(13, 2)"
      ]
     },
     "execution_count": 114,
     "metadata": {},
     "output_type": "execute_result"
    }
   ],
   "source": [
    "frameData.annotation2D[3].shape"
   ]
  },
  {
   "cell_type": "code",
   "execution_count": 113,
   "metadata": {},
   "outputs": [
    {
     "data": {
      "text/plain": [
       "array([836,  85], dtype=int32)"
      ]
     },
     "execution_count": 113,
     "metadata": {},
     "output_type": "execute_result"
    }
   ],
   "source": [
    "frameData.annotation2D[1][0]"
   ]
  },
  {
   "cell_type": "code",
   "execution_count": 127,
   "metadata": {},
   "outputs": [
    {
     "data": {
      "text/plain": [
       "(530, 730)"
      ]
     },
     "execution_count": 127,
     "metadata": {},
     "output_type": "execute_result"
    }
   ],
   "source": [
    "mask.shape"
   ]
  },
  {
   "cell_type": "code",
   "execution_count": 138,
   "metadata": {},
   "outputs": [
    {
     "data": {
      "text/plain": [
       "<matplotlib.image.AxesImage at 0x7fce3dcaf630>"
      ]
     },
     "execution_count": 138,
     "metadata": {},
     "output_type": "execute_result"
    },
    {
     "data": {
      "image/png": "[encoded data removed]",
      "text/plain": [
       "<Figure size 432x288 with 1 Axes>"
      ]
     },
     "metadata": {
      "needs_background": "light"
     },
     "output_type": "display_data"
    }
   ],
   "source": [
    "plt.imshow(masks[:,:,3])"
   ]
  },
  {
   "cell_type": "code",
   "execution_count": null,
   "metadata": {},
   "outputs": [],
   "source": [
    "fname = \"5050.jpg\"\n",
    "print( fname.rsplit( \".\", 1 )[ 0 ] )"
   ]
  },
  {
   "cell_type": "code",
   "execution_count": null,
   "metadata": {},
   "outputs": [],
   "source": []
  }
 ],
 "metadata": {
  "kernelspec": {
   "display_name": "Python 3",
   "language": "python",
   "name": "python3"
  },
  "language_info": {
   "codemirror_mode": {
    "name": "ipython",
    "version": 3
   },
   "file_extension": ".py",
   "mimetype": "text/x-python",
   "name": "python",
   "nbconvert_exporter": "python",
   "pygments_lexer": "ipython3",
   "version": "3.5.2"
  }
 },
 "nbformat": 4,
 "nbformat_minor": 4
}
