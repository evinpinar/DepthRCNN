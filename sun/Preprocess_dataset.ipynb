{
 "cells": [
  {
   "cell_type": "code",
   "execution_count": 1,
   "metadata": {},
   "outputs": [],
   "source": [
    "import cv2\n",
    "import SUNRGBD\n",
    "import random as rand\n",
    "import pandas as pd\n",
    "import numpy as np\n",
    "import json\n",
    "import os\n",
    "import shutil\n",
    "import sys\n",
    "import h5py\n",
    "import scipy.io"
   ]
  },
  {
   "cell_type": "code",
<<<<<<< HEAD
   "execution_count": 3,
   "metadata": {},
   "outputs": [],
   "source": [
    "path_to_sun = \"./../../SUNRGBD/\""
=======
   "execution_count": 2,
   "metadata": {},
   "outputs": [],
   "source": [
    "path_to_sun = \"../../SUNRGBD/\""
>>>>>>> c2946805b74b942682977c484d3475801b8a522b
   ]
  },
  {
   "cell_type": "code",
<<<<<<< HEAD
   "execution_count": 2,
=======
   "execution_count": 3,
>>>>>>> c2946805b74b942682977c484d3475801b8a522b
   "metadata": {},
   "outputs": [
    {
     "data": {
      "text/plain": [
<<<<<<< HEAD
       "'/Users/evinpinar/Documents/Classes/THESIS/planercnn/sun'"
      ]
     },
     "execution_count": 2,
=======
       "'/home/orneke/planercnn/sun'"
      ]
     },
     "execution_count": 3,
>>>>>>> c2946805b74b942682977c484d3475801b8a522b
     "metadata": {},
     "output_type": "execute_result"
    }
   ],
   "source": [
    "%pwd"
   ]
  },
  {
   "cell_type": "code",
   "execution_count": 4,
   "metadata": {},
   "outputs": [],
   "source": [
    "store = []\n",
    "for f in os.listdir(path_to_sun):\n",
    "    if not f.startswith('.'):\n",
    "        store.append(f)\n",
    "        \n",
    "b = []\n",
    "for i in range(len(store)):\n",
    "    for f in os.listdir(path_to_sun + store[i]):\n",
    "        if not f.startswith('.'):\n",
    "            b.append(path_to_sun + store[i] + \"/\" + f + \"/\")\n",
    "store = []\n",
    "\n",
    "c = []\n",
    "for i in range(len(b)):\n",
    "    if b[i] != (path_to_sun + \"xtion/sun3ddata/\"):\n",
    "        for f in os.listdir(b[i]):\n",
    "            if not f.startswith('.'):\n",
    "                store.append(b[i]  + f + \"/\")\n",
    "    else:\n",
    "        for f in os.listdir(b[i]):\n",
    "            if not f.startswith('.'):\n",
    "                c.append(b[i]  + f + \"/\")"
   ]
  },
  {
   "cell_type": "code",
   "execution_count": 5,
   "metadata": {},
   "outputs": [],
   "source": [
    "for i in range(len(c)):\n",
    "    for f in os.listdir(c[i]):\n",
    "        if not f.startswith('.'):\n",
    "            for r in os.listdir(c[i]  + f + \"/\"):\n",
    "                if not r.startswith('.'):\n",
    "                    store.append(c[i]  + f + \"/\" + r + \"/\")"
   ]
  },
  {
   "cell_type": "code",
   "execution_count": 6,
   "metadata": {},
   "outputs": [
    {
     "data": {
      "text/plain": [
       "10335"
      ]
     },
     "execution_count": 6,
     "metadata": {},
     "output_type": "execute_result"
    }
   ],
   "source": [
    "#just excluded\n",
    "#'/Users/ekaterina/Desktop/diploma/mask_rcnn/datasets/SUNRGBD/kv2/kinect2data/000667_2014-06-09_21-06-12_260595134347_rgbf000145-resize/'\n",
    "#checking that we collected all the pictures\n",
    "len(store)"
   ]
  },
  {
   "cell_type": "code",
   "execution_count": 7,
   "metadata": {},
<<<<<<< HEAD
=======
   "outputs": [
    {
     "data": {
      "text/plain": [
       "'../../SUNRGBD/kv2/kinect2data/001441_2014-06-19_16-54-36_260595134347_rgbf000050-resize/'"
      ]
     },
     "execution_count": 7,
     "metadata": {},
     "output_type": "execute_result"
    }
   ],
   "source": [
    "store[0]"
   ]
  },
  {
   "cell_type": "code",
   "execution_count": 20,
   "metadata": {},
   "outputs": [],
   "source": [
    "tests = np.load('../../test_files.npy')"
   ]
  },
  {
   "cell_type": "code",
   "execution_count": 24,
   "metadata": {},
   "outputs": [],
   "source": [
    "store = []\n",
    "for i in range(5050):\n",
    "    store.append('../../' + tests[i] + '/')"
   ]
  },
  {
   "cell_type": "code",
   "execution_count": 25,
   "metadata": {},
   "outputs": [
    {
     "data": {
      "text/plain": [
       "('SUNRGBD/kv2/kinect2data/000002_2014-05-26_14-23-37_260595134347_rgbf000103-resize',\n",
       " '../../SUNRGBD/kv2/kinect2data/000002_2014-05-26_14-23-37_260595134347_rgbf000103-resize/')"
      ]
     },
     "execution_count": 25,
     "metadata": {},
     "output_type": "execute_result"
    }
   ],
   "source": [
    "tests[0], store[0]"
   ]
  },
  {
   "cell_type": "code",
   "execution_count": 36,
   "metadata": {},
   "outputs": [
    {
     "data": {
      "text/plain": [
       "'../../SUNRGBD/'"
      ]
     },
     "execution_count": 36,
     "metadata": {},
     "output_type": "execute_result"
    }
   ],
   "source": [
    "path_to_sun"
   ]
  },
  {
   "cell_type": "code",
   "execution_count": 8,
   "metadata": {},
>>>>>>> c2946805b74b942682977c484d3475801b8a522b
   "outputs": [],
   "source": [
    "#The standdard trainval-test split uses the first 5050 images for testing and the rest for trainval.\n",
    "if not os.path.exists((path_to_sun + \"test\") or (path_to_sun + \"train\")):\n",
    "    os.makedirs(path_to_sun + \"test\")\n",
    "    os.makedirs(path_to_sun + \"train\")\n",
    "if not os.path.exists((path_to_sun + \"train\" + \"/train\") or (path_to_sun + \"train\"+ \"/val\")):\n",
    "    os.makedirs(path_to_sun + \"train\" + \"/train\")\n",
    "    os.makedirs(path_to_sun + \"train\"+ \"/val\")"
   ]
  },
  {
   "cell_type": "markdown",
   "metadata": {},
   "source": [
    "# Work with a class mapping"
   ]
  },
  {
   "cell_type": "code",
<<<<<<< HEAD
   "execution_count": 8,
=======
   "execution_count": 9,
>>>>>>> c2946805b74b942682977c484d3475801b8a522b
   "metadata": {},
   "outputs": [],
   "source": [
    "import pandas as pd\n",
    "import scipy.io\n",
    "\n",
    "mat = scipy.io.loadmat('classMapping40.mat')\n",
    "\n",
    "label_13 = [1,2,3,4,5,6,7,8,9,10,11,12,13]\n",
    "name_13 = [\"bed\", \"books\", \"ceiling\", \n",
    "                 \"chair\", \"floor\", \"furniture\", \n",
    "                 \"objects\", \"picture\", \"sofa\", \n",
    "                 \"table\", \"tv\", \"wall\", \"window\"]\n",
    "\n",
    "labels_13 = pd.DataFrame({\n",
    "     'label_13': label_13,\n",
    "     'name_13': name_13})"
   ]
  },
  {
   "cell_type": "code",
<<<<<<< HEAD
   "execution_count": 9,
=======
   "execution_count": 10,
   "metadata": {},
   "outputs": [
    {
     "data": {
      "text/plain": [
       "{'__globals__': [],\n",
       " '__header__': b'MATLAB 5.0 MAT-file, Platform: GLNXA64, Created on: Wed Apr  3 23:24:27 2013',\n",
       " '__version__': '1.0',\n",
       " 'allClassName': array([[array(['book'], dtype='<U4'), array(['bottle'], dtype='<U6'),\n",
       "         array(['cabinet'], dtype='<U7'), array(['ceiling'], dtype='<U7'),\n",
       "         array(['chair'], dtype='<U5'), array(['cone'], dtype='<U4'),\n",
       "         array(['counter'], dtype='<U7'),\n",
       "         array(['dishwasher'], dtype='<U10'),\n",
       "         array(['faucet'], dtype='<U6'),\n",
       "         array(['fire extinguisher'], dtype='<U17'),\n",
       "         array(['floor'], dtype='<U5'),\n",
       "         array(['garbage bin'], dtype='<U11'),\n",
       "         array(['microwave'], dtype='<U9'),\n",
       "         array(['paper towel dispenser'], dtype='<U21'),\n",
       "         array(['paper'], dtype='<U5'), array(['pot'], dtype='<U3'),\n",
       "         array(['refridgerator'], dtype='<U13'),\n",
       "         array(['stove burner'], dtype='<U12'),\n",
       "         array(['table'], dtype='<U5'), array(['unknown'], dtype='<U7'),\n",
       "         array(['wall'], dtype='<U4'), array(['bowl'], dtype='<U4'),\n",
       "         array(['magnet'], dtype='<U6'), array(['sink'], dtype='<U4'),\n",
       "         array(['air vent'], dtype='<U8'), array(['box'], dtype='<U3'),\n",
       "         array(['door knob'], dtype='<U9'), array(['door'], dtype='<U4'),\n",
       "         array(['scissor'], dtype='<U7'),\n",
       "         array(['tape dispenser'], dtype='<U14'),\n",
       "         array(['telephone cord'], dtype='<U14'),\n",
       "         array(['telephone'], dtype='<U9'),\n",
       "         array(['track light'], dtype='<U11'),\n",
       "         array(['cork board'], dtype='<U10'), array(['cup'], dtype='<U3'),\n",
       "         array(['desk'], dtype='<U4'), array(['laptop'], dtype='<U6'),\n",
       "         array(['air duct'], dtype='<U8'), array(['basket'], dtype='<U6'),\n",
       "         array(['camera'], dtype='<U6'), array(['pipe'], dtype='<U4'),\n",
       "         array(['shelves'], dtype='<U7'),\n",
       "         array(['stacked chairs'], dtype='<U14'),\n",
       "         array(['styrofoam object'], dtype='<U16'),\n",
       "         array(['whiteboard'], dtype='<U10'),\n",
       "         array(['computer'], dtype='<U8'),\n",
       "         array(['keyboard'], dtype='<U8'), array(['ladder'], dtype='<U6'),\n",
       "         array(['monitor'], dtype='<U7'), array(['stand'], dtype='<U5'),\n",
       "         array(['bar'], dtype='<U3'),\n",
       "         array(['motion camera'], dtype='<U13'),\n",
       "         array(['projector screen'], dtype='<U16'),\n",
       "         array(['speaker'], dtype='<U7'), array(['bag'], dtype='<U3'),\n",
       "         array(['clock'], dtype='<U5'),\n",
       "         array(['green screen'], dtype='<U12'),\n",
       "         array(['mantel'], dtype='<U6'), array(['window'], dtype='<U6'),\n",
       "         array(['ball'], dtype='<U4'),\n",
       "         array(['hole puncher'], dtype='<U12'),\n",
       "         array(['light'], dtype='<U5'),\n",
       "         array(['manilla envelope'], dtype='<U16'),\n",
       "         array(['picture'], dtype='<U7'),\n",
       "         array(['mail shelf'], dtype='<U10'),\n",
       "         array(['printer'], dtype='<U7'), array(['stapler'], dtype='<U7'),\n",
       "         array(['fax machine'], dtype='<U11'),\n",
       "         array(['folder'], dtype='<U6'), array(['jar'], dtype='<U3'),\n",
       "         array(['magazine'], dtype='<U8'), array(['ruler'], dtype='<U5'),\n",
       "         array(['cable modem'], dtype='<U11'),\n",
       "         array(['fan'], dtype='<U3'), array(['file'], dtype='<U4'),\n",
       "         array(['hand sanitizer'], dtype='<U14'),\n",
       "         array(['paper rack'], dtype='<U10'),\n",
       "         array(['vase'], dtype='<U4'),\n",
       "         array(['air conditioner'], dtype='<U15'),\n",
       "         array(['blinds'], dtype='<U6'), array(['flower'], dtype='<U6'),\n",
       "         array(['plant'], dtype='<U5'), array(['sofa'], dtype='<U4'),\n",
       "         array(['stereo'], dtype='<U6'), array(['books'], dtype='<U5'),\n",
       "         array(['exit sign'], dtype='<U9'),\n",
       "         array(['room divider'], dtype='<U12'),\n",
       "         array(['bookshelf'], dtype='<U9'),\n",
       "         array(['curtain'], dtype='<U7'),\n",
       "         array(['projector'], dtype='<U9'), array(['modem'], dtype='<U5'),\n",
       "         array(['wire'], dtype='<U4'),\n",
       "         array(['water purifier'], dtype='<U14'),\n",
       "         array(['column'], dtype='<U6'), array(['hooks'], dtype='<U5'),\n",
       "         array(['hanging hooks'], dtype='<U13'),\n",
       "         array(['pen'], dtype='<U3'),\n",
       "         array(['electrical outlet'], dtype='<U17'),\n",
       "         array(['doll'], dtype='<U4'), array(['eraser'], dtype='<U6'),\n",
       "         array(['pencil holder'], dtype='<U13'),\n",
       "         array(['water carboy'], dtype='<U12'),\n",
       "         array(['mouse'], dtype='<U5'),\n",
       "         array(['cable rack'], dtype='<U10'),\n",
       "         array(['wire rack'], dtype='<U9'),\n",
       "         array(['flipboard'], dtype='<U9'), array(['map'], dtype='<U3'),\n",
       "         array(['paper cutter'], dtype='<U12'),\n",
       "         array(['tape'], dtype='<U4'),\n",
       "         array(['thermostat'], dtype='<U10'),\n",
       "         array(['heater'], dtype='<U6'),\n",
       "         array(['circuit breaker box'], dtype='<U19'),\n",
       "         array(['paper towel'], dtype='<U11'),\n",
       "         array(['stamp'], dtype='<U5'), array(['duster'], dtype='<U6'),\n",
       "         array(['poster case'], dtype='<U11'),\n",
       "         array(['whiteboard marker'], dtype='<U17'),\n",
       "         array(['ethernet jack'], dtype='<U13'),\n",
       "         array(['pillow'], dtype='<U6'),\n",
       "         array(['hair brush'], dtype='<U10'),\n",
       "         array(['makeup brush'], dtype='<U12'),\n",
       "         array(['mirror'], dtype='<U6'),\n",
       "         array(['shower curtain'], dtype='<U14'),\n",
       "         array(['toilet'], dtype='<U6'),\n",
       "         array(['toiletries bag'], dtype='<U14'),\n",
       "         array(['toothbrush holder'], dtype='<U17'),\n",
       "         array(['toothbrush'], dtype='<U10'),\n",
       "         array(['toothpaste'], dtype='<U10'),\n",
       "         array(['platter'], dtype='<U7'), array(['rug'], dtype='<U3'),\n",
       "         array(['squeeze tube'], dtype='<U12'),\n",
       "         array(['shower cap'], dtype='<U10'),\n",
       "         array(['soap'], dtype='<U4'), array(['towel rod'], dtype='<U9'),\n",
       "         array(['towel'], dtype='<U5'), array(['bathtub'], dtype='<U7'),\n",
       "         array(['candle'], dtype='<U6'),\n",
       "         array(['tissue box'], dtype='<U10'),\n",
       "         array(['toilet paper'], dtype='<U12'),\n",
       "         array(['container'], dtype='<U9'),\n",
       "         array(['clothes'], dtype='<U7'),\n",
       "         array(['electric toothbrush'], dtype='<U19'),\n",
       "         array(['floor mat'], dtype='<U9'), array(['lamp'], dtype='<U4'),\n",
       "         array(['drum'], dtype='<U4'),\n",
       "         array(['flower pot'], dtype='<U10'),\n",
       "         array(['banana'], dtype='<U6'),\n",
       "         array(['candlestick'], dtype='<U11'),\n",
       "         array(['shoe'], dtype='<U4'), array(['stool'], dtype='<U5'),\n",
       "         array(['urn'], dtype='<U3'), array(['earplugs'], dtype='<U8'),\n",
       "         array(['mailshelf'], dtype='<U9'),\n",
       "         array(['placemat'], dtype='<U8'),\n",
       "         array(['excercise ball'], dtype='<U14'),\n",
       "         array(['alarm clock'], dtype='<U11'),\n",
       "         array(['bed'], dtype='<U3'),\n",
       "         array(['night stand'], dtype='<U11'),\n",
       "         array(['deoderant'], dtype='<U9'),\n",
       "         array(['headphones'], dtype='<U10'),\n",
       "         array(['headboard'], dtype='<U9'),\n",
       "         array(['basketball hoop'], dtype='<U15'),\n",
       "         array(['foot rest'], dtype='<U9'),\n",
       "         array(['laundry basket'], dtype='<U14'),\n",
       "         array(['sock'], dtype='<U4'), array(['football'], dtype='<U8'),\n",
       "         array(['mens suit'], dtype='<U9'),\n",
       "         array(['cable box'], dtype='<U9'),\n",
       "         array(['dresser'], dtype='<U7'),\n",
       "         array(['dvd player'], dtype='<U10'),\n",
       "         array(['shaver'], dtype='<U6'),\n",
       "         array(['television'], dtype='<U10'),\n",
       "         array(['contact lens solution bottle'], dtype='<U28'),\n",
       "         array(['drawer'], dtype='<U6'),\n",
       "         array(['remote control'], dtype='<U14'),\n",
       "         array(['cologne'], dtype='<U7'),\n",
       "         array(['stuffed animal'], dtype='<U14'),\n",
       "         array(['lint roller'], dtype='<U11'),\n",
       "         array(['tray'], dtype='<U4'), array(['lock'], dtype='<U4'),\n",
       "         array(['purse'], dtype='<U5'),\n",
       "         array(['toy bottle'], dtype='<U10'),\n",
       "         array(['crate'], dtype='<U5'), array(['vasoline'], dtype='<U8'),\n",
       "         array(['gift wrapping roll'], dtype='<U18'),\n",
       "         array(['wall decoration'], dtype='<U15'),\n",
       "         array(['hookah'], dtype='<U6'), array(['radio'], dtype='<U5'),\n",
       "         array(['bicycle'], dtype='<U7'), array(['pen box'], dtype='<U7'),\n",
       "         array(['mask'], dtype='<U4'), array(['shorts'], dtype='<U6'),\n",
       "         array(['hat'], dtype='<U3'),\n",
       "         array(['hockey glove'], dtype='<U12'),\n",
       "         array(['hockey stick'], dtype='<U12'),\n",
       "         array(['vuvuzela'], dtype='<U8'), array(['dvd'], dtype='<U3'),\n",
       "         array(['chessboard'], dtype='<U10'),\n",
       "         array(['suitcase'], dtype='<U8'),\n",
       "         array(['calculator'], dtype='<U10'),\n",
       "         array(['flashcard'], dtype='<U9'),\n",
       "         array(['staple remover'], dtype='<U14'),\n",
       "         array(['umbrella'], dtype='<U8'), array(['bench'], dtype='<U5'),\n",
       "         array(['yoga mat'], dtype='<U8'),\n",
       "         array(['backpack'], dtype='<U8'), array(['cd'], dtype='<U2'),\n",
       "         array(['sign'], dtype='<U4'), array(['hangers'], dtype='<U7'),\n",
       "         array(['notebook'], dtype='<U8'), array(['hanger'], dtype='<U6'),\n",
       "         array(['security camera'], dtype='<U15'),\n",
       "         array(['folders'], dtype='<U7'),\n",
       "         array(['clothing hanger'], dtype='<U15'),\n",
       "         array(['stairs'], dtype='<U6'),\n",
       "         array(['glass rack'], dtype='<U10'),\n",
       "         array(['saucer'], dtype='<U6'), array(['tag'], dtype='<U3'),\n",
       "         array(['dolly'], dtype='<U5'), array(['machine'], dtype='<U7'),\n",
       "         array(['trolly'], dtype='<U6'),\n",
       "         array(['shopping baskets'], dtype='<U16'),\n",
       "         array(['gate'], dtype='<U4'), array(['bookrack'], dtype='<U8'),\n",
       "         array(['blackboard'], dtype='<U10'),\n",
       "         array(['coffee bag'], dtype='<U10'),\n",
       "         array(['coffee packet'], dtype='<U13'),\n",
       "         array(['hot water heater'], dtype='<U16'),\n",
       "         array(['muffins'], dtype='<U7'),\n",
       "         array(['napkin dispenser'], dtype='<U16'),\n",
       "         array(['plaque'], dtype='<U6'),\n",
       "         array(['plastic tub'], dtype='<U11'),\n",
       "         array(['plate'], dtype='<U5'),\n",
       "         array(['coffee machine'], dtype='<U14'),\n",
       "         array(['napkin holder'], dtype='<U13'),\n",
       "         array(['radiator'], dtype='<U8'),\n",
       "         array(['coffee grinder'], dtype='<U14'),\n",
       "         array(['oven'], dtype='<U4'), array(['plant pot'], dtype='<U9'),\n",
       "         array(['scarf'], dtype='<U5'),\n",
       "         array(['spice rack'], dtype='<U10'),\n",
       "         array(['stove'], dtype='<U5'),\n",
       "         array(['tea kettle'], dtype='<U10'),\n",
       "         array(['napkin'], dtype='<U6'),\n",
       "         array(['bag of chips'], dtype='<U12'),\n",
       "         array(['bread'], dtype='<U5'),\n",
       "         array(['cutting board'], dtype='<U13'),\n",
       "         array(['dish brush'], dtype='<U10'),\n",
       "         array(['serving spoon'], dtype='<U13'),\n",
       "         array(['sponge'], dtype='<U6'), array(['toaster'], dtype='<U7'),\n",
       "         array(['cooking pan'], dtype='<U11'),\n",
       "         array(['kitchen items'], dtype='<U13'),\n",
       "         array(['ladel'], dtype='<U5'), array(['spatula'], dtype='<U7'),\n",
       "         array(['spice stand'], dtype='<U11'),\n",
       "         array(['trivet'], dtype='<U6'),\n",
       "         array(['knife rack'], dtype='<U10'),\n",
       "         array(['knife'], dtype='<U5'),\n",
       "         array(['baking dish'], dtype='<U11'),\n",
       "         array(['dish scrubber'], dtype='<U13'),\n",
       "         array(['drying rack'], dtype='<U11'),\n",
       "         array(['vessel'], dtype='<U6'),\n",
       "         array(['kichen towel'], dtype='<U12'),\n",
       "         array(['tin foil'], dtype='<U8'),\n",
       "         array(['kitchen utensil'], dtype='<U15'),\n",
       "         array(['utensil'], dtype='<U7'), array(['blender'], dtype='<U7'),\n",
       "         array(['garbage bag'], dtype='<U11'),\n",
       "         array(['sink protector'], dtype='<U14'),\n",
       "         array(['box of ziplock bags'], dtype='<U19'),\n",
       "         array(['spice bottle'], dtype='<U12'),\n",
       "         array(['pitcher'], dtype='<U7'),\n",
       "         array(['pizza box'], dtype='<U9'),\n",
       "         array(['toaster oven'], dtype='<U12'),\n",
       "         array(['step stool'], dtype='<U10'),\n",
       "         array(['vegetable peeler'], dtype='<U16'),\n",
       "         array(['washing machine'], dtype='<U15'),\n",
       "         array(['can opener'], dtype='<U10'),\n",
       "         array(['can of food'], dtype='<U11'),\n",
       "         array(['paper towel holder'], dtype='<U18'),\n",
       "         array(['spoon stand'], dtype='<U11'),\n",
       "         array(['spoon'], dtype='<U5'),\n",
       "         array(['wooden kitchen utensils'], dtype='<U23'),\n",
       "         array(['bag of flour'], dtype='<U12'),\n",
       "         array(['fruit'], dtype='<U5'),\n",
       "         array(['sheet of metal'], dtype='<U14'),\n",
       "         array(['waffle maker'], dtype='<U12'),\n",
       "         array(['cake'], dtype='<U4'),\n",
       "         array(['cell phone'], dtype='<U10'),\n",
       "         array(['tv stand'], dtype='<U8'),\n",
       "         array(['tablecloth'], dtype='<U10'),\n",
       "         array(['wine glass'], dtype='<U10'),\n",
       "         array(['sculpture'], dtype='<U9'),\n",
       "         array(['wall stand'], dtype='<U10'),\n",
       "         array(['iphone'], dtype='<U6'),\n",
       "         array(['coke bottle'], dtype='<U11'),\n",
       "         array(['piano'], dtype='<U5'), array(['wine rack'], dtype='<U9'),\n",
       "         array(['guitar'], dtype='<U6'),\n",
       "         array(['light switch'], dtype='<U12'),\n",
       "         array(['shirts in hanger'], dtype='<U16'),\n",
       "         array(['router'], dtype='<U6'),\n",
       "         array(['glass pot'], dtype='<U9'), array(['cart'], dtype='<U4'),\n",
       "         array(['vacuum cleaner'], dtype='<U14'),\n",
       "         array(['bin'], dtype='<U3'), array(['coins'], dtype='<U5'),\n",
       "         array(['hand sculpture'], dtype='<U14'),\n",
       "         array(['ipod'], dtype='<U4'), array(['jersey'], dtype='<U6'),\n",
       "         array(['blanket'], dtype='<U7'),\n",
       "         array(['ironing board'], dtype='<U13'),\n",
       "         array(['pen stand'], dtype='<U9'),\n",
       "         array(['mens tie'], dtype='<U8'),\n",
       "         array(['glass baking dish'], dtype='<U17'),\n",
       "         array(['utensils'], dtype='<U8'),\n",
       "         array(['frying pan'], dtype='<U10'),\n",
       "         array(['shopping cart'], dtype='<U13'),\n",
       "         array(['plastic bowl'], dtype='<U12'),\n",
       "         array(['wooden container'], dtype='<U16'),\n",
       "         array(['onion'], dtype='<U5'), array(['potato'], dtype='<U6'),\n",
       "         array(['jacket'], dtype='<U6'), array(['dvds'], dtype='<U4'),\n",
       "         array(['surge protector'], dtype='<U15'),\n",
       "         array(['tumbler'], dtype='<U7'), array(['broom'], dtype='<U5'),\n",
       "         array(['can'], dtype='<U3'), array(['crock pot'], dtype='<U9'),\n",
       "         array(['person'], dtype='<U6'),\n",
       "         array(['salt shaker'], dtype='<U11'),\n",
       "         array(['wine bottle'], dtype='<U11'),\n",
       "         array(['apple'], dtype='<U5'),\n",
       "         array(['eye glasses'], dtype='<U11'),\n",
       "         array(['menorah'], dtype='<U7'),\n",
       "         array(['bicycle helmet'], dtype='<U14'),\n",
       "         array(['fire alarm'], dtype='<U10'),\n",
       "         array(['water fountain'], dtype='<U14'),\n",
       "         array(['humidifier'], dtype='<U10'),\n",
       "         array(['necklace'], dtype='<U8'),\n",
       "         array(['chandelier'], dtype='<U10'),\n",
       "         array(['barrel'], dtype='<U6'), array(['chest'], dtype='<U5'),\n",
       "         array(['decanter'], dtype='<U8'),\n",
       "         array(['wooden utensils'], dtype='<U15'),\n",
       "         array(['globe'], dtype='<U5'), array(['sheets'], dtype='<U6'),\n",
       "         array(['fork'], dtype='<U4'),\n",
       "         array(['napkin ring'], dtype='<U11'),\n",
       "         array(['gift wrapping'], dtype='<U13'),\n",
       "         array(['bed sheets'], dtype='<U10'),\n",
       "         array(['spot light'], dtype='<U10'),\n",
       "         array(['lighting track'], dtype='<U14'),\n",
       "         array(['cannister'], dtype='<U9'),\n",
       "         array(['coffee table'], dtype='<U12'),\n",
       "         array(['mortar and pestle'], dtype='<U17'),\n",
       "         array(['stack of plates'], dtype='<U15'),\n",
       "         array(['ottoman'], dtype='<U7'), array(['server'], dtype='<U6'),\n",
       "         array(['salt container'], dtype='<U14'),\n",
       "         array(['utensil container'], dtype='<U17'),\n",
       "         array(['phone jack'], dtype='<U10'),\n",
       "         array(['switchbox'], dtype='<U9'),\n",
       "         array(['casserole dish'], dtype='<U14'),\n",
       "         array(['oven handle'], dtype='<U11'),\n",
       "         array(['whisk'], dtype='<U5'),\n",
       "         array(['dish cover'], dtype='<U10'),\n",
       "         array(['electric mixer'], dtype='<U14'),\n",
       "         array(['decorative platter'], dtype='<U18'),\n",
       "         array(['drawer handle'], dtype='<U13'),\n",
       "         array(['fireplace'], dtype='<U9'),\n",
       "         array(['stroller'], dtype='<U8'),\n",
       "         array(['bookend'], dtype='<U7'),\n",
       "         array(['table runner'], dtype='<U12'),\n",
       "         array(['typewriter'], dtype='<U10'),\n",
       "         array(['ashtray'], dtype='<U7'), array(['key'], dtype='<U3'),\n",
       "         array(['suit jacket'], dtype='<U11'),\n",
       "         array(['range hood'], dtype='<U10'),\n",
       "         array(['cleaning wipes'], dtype='<U14'),\n",
       "         array(['six pack of beer'], dtype='<U16'),\n",
       "         array(['decorative plate'], dtype='<U16'),\n",
       "         array(['watch'], dtype='<U5'), array(['balloon'], dtype='<U7'),\n",
       "         array(['ipad'], dtype='<U4'), array(['coaster'], dtype='<U7'),\n",
       "         array(['whiteboard eraser'], dtype='<U17'),\n",
       "         array(['toy'], dtype='<U3'),\n",
       "         array(['toys basket'], dtype='<U11'),\n",
       "         array(['toy truck'], dtype='<U9'),\n",
       "         array(['classroom board'], dtype='<U15'),\n",
       "         array(['chart stand'], dtype='<U11'),\n",
       "         array(['picture of fish'], dtype='<U15'),\n",
       "         array(['plastic box'], dtype='<U11'),\n",
       "         array(['pencil'], dtype='<U6'), array(['carton'], dtype='<U6'),\n",
       "         array(['walkie talkie'], dtype='<U13'),\n",
       "         array(['binder'], dtype='<U6'),\n",
       "         array(['coat hanger'], dtype='<U11'),\n",
       "         array(['filing shelves'], dtype='<U14'),\n",
       "         array(['plastic crate'], dtype='<U13'),\n",
       "         array(['plastic rack'], dtype='<U12'),\n",
       "         array(['plastic tray'], dtype='<U12'),\n",
       "         array(['flag'], dtype='<U4'),\n",
       "         array(['poster board'], dtype='<U12'),\n",
       "         array(['lunch bag'], dtype='<U9'), array(['board'], dtype='<U5'),\n",
       "         array(['leg of a girl'], dtype='<U13'),\n",
       "         array(['file holder'], dtype='<U11'),\n",
       "         array(['chart'], dtype='<U5'),\n",
       "         array(['glass pane'], dtype='<U10'),\n",
       "         array(['cardboard tube'], dtype='<U14'),\n",
       "         array(['bassinet'], dtype='<U8'),\n",
       "         array(['toy car'], dtype='<U7'),\n",
       "         array(['toy shelf'], dtype='<U9'),\n",
       "         array(['toy bin'], dtype='<U7'),\n",
       "         array(['toys shelf'], dtype='<U10'),\n",
       "         array(['educational display'], dtype='<U19'),\n",
       "         array(['placard'], dtype='<U7'),\n",
       "         array(['soft toy group'], dtype='<U14'),\n",
       "         array(['soft toy'], dtype='<U8'),\n",
       "         array(['toy cube'], dtype='<U8'),\n",
       "         array(['toy cylinder'], dtype='<U12'),\n",
       "         array(['toy rectangle'], dtype='<U13'),\n",
       "         array(['toy triangle'], dtype='<U12'),\n",
       "         array(['bucket'], dtype='<U6'),\n",
       "         array(['chalkboard'], dtype='<U10'),\n",
       "         array(['game table'], dtype='<U10'),\n",
       "         array(['storage shelvesbooks'], dtype='<U20'),\n",
       "         array(['toy cuboid'], dtype='<U10'),\n",
       "         array(['toy tree'], dtype='<U8'),\n",
       "         array(['wooden toy'], dtype='<U10'),\n",
       "         array(['toy box'], dtype='<U7'),\n",
       "         array(['toy phone'], dtype='<U9'),\n",
       "         array(['toy sink'], dtype='<U8'),\n",
       "         array(['toyhouse'], dtype='<U8'),\n",
       "         array(['notecards'], dtype='<U9'),\n",
       "         array(['toy trucks'], dtype='<U10'),\n",
       "         array(['wall hand sanitizer dispenser'], dtype='<U29'),\n",
       "         array(['cap stand'], dtype='<U9'),\n",
       "         array(['music stereo'], dtype='<U12'),\n",
       "         array(['toys rack'], dtype='<U9'),\n",
       "         array(['display board'], dtype='<U13'),\n",
       "         array(['lid of jar'], dtype='<U10'),\n",
       "         array(['stacked bins  boxes'], dtype='<U19'),\n",
       "         array(['stacked plastic racks'], dtype='<U21'),\n",
       "         array(['storage rack'], dtype='<U12'),\n",
       "         array(['roll of paper towels'], dtype='<U20'),\n",
       "         array(['cables'], dtype='<U6'),\n",
       "         array(['power surge'], dtype='<U11'),\n",
       "         array(['cardboard sheet'], dtype='<U15'),\n",
       "         array(['banister'], dtype='<U8'),\n",
       "         array(['show piece'], dtype='<U10'),\n",
       "         array(['pepper shaker'], dtype='<U13'),\n",
       "         array(['kitchen island'], dtype='<U14'),\n",
       "         array(['excercise equipment'], dtype='<U19'),\n",
       "         array(['treadmill'], dtype='<U9'),\n",
       "         array(['ornamental plant'], dtype='<U16'),\n",
       "         array(['piano bench'], dtype='<U11'),\n",
       "         array(['sheet music'], dtype='<U11'),\n",
       "         array(['grandfather clock'], dtype='<U17'),\n",
       "         array(['iron grill'], dtype='<U10'),\n",
       "         array(['pen holder'], dtype='<U10'),\n",
       "         array(['toy doll'], dtype='<U8'),\n",
       "         array(['globe stand'], dtype='<U11'),\n",
       "         array(['telescope'], dtype='<U9'),\n",
       "         array(['magazine holder'], dtype='<U15'),\n",
       "         array(['file container'], dtype='<U14'),\n",
       "         array(['paper holder'], dtype='<U12'),\n",
       "         array(['flower box'], dtype='<U10'),\n",
       "         array(['pyramid'], dtype='<U7'),\n",
       "         array(['desk mat'], dtype='<U8'),\n",
       "         array(['cordless phone'], dtype='<U14'),\n",
       "         array(['desk drawer'], dtype='<U11'),\n",
       "         array(['envelope'], dtype='<U8'),\n",
       "         array(['window frame'], dtype='<U12'),\n",
       "         array(['id card'], dtype='<U7'),\n",
       "         array(['file stand'], dtype='<U10'),\n",
       "         array(['paper weight'], dtype='<U12'),\n",
       "         array(['toy plane'], dtype='<U9'), array(['money'], dtype='<U5'),\n",
       "         array(['papers'], dtype='<U6'),\n",
       "         array(['comforter'], dtype='<U9'), array(['crib'], dtype='<U4'),\n",
       "         array(['doll house'], dtype='<U10'),\n",
       "         array(['toy chair'], dtype='<U9'),\n",
       "         array(['toy sofa'], dtype='<U8'),\n",
       "         array(['plastic chair'], dtype='<U13'),\n",
       "         array(['toy house'], dtype='<U9'),\n",
       "         array(['child carrier'], dtype='<U13'),\n",
       "         array(['cloth bag'], dtype='<U9'),\n",
       "         array(['cradle'], dtype='<U6'),\n",
       "         array(['baby chair'], dtype='<U10'),\n",
       "         array(['chart roll'], dtype='<U10'),\n",
       "         array(['toys box'], dtype='<U8'),\n",
       "         array(['railing'], dtype='<U7'),\n",
       "         array(['clothing dryer'], dtype='<U14'),\n",
       "         array(['clothing washer'], dtype='<U15'),\n",
       "         array(['laundry detergent jug'], dtype='<U21'),\n",
       "         array(['clothing detergent'], dtype='<U18'),\n",
       "         array(['bottle of soap'], dtype='<U14'),\n",
       "         array(['box of paper'], dtype='<U12'),\n",
       "         array(['trolley'], dtype='<U7'),\n",
       "         array(['hand sanitizer dispenser'], dtype='<U24'),\n",
       "         array(['soap holder'], dtype='<U11'),\n",
       "         array(['water dispenser'], dtype='<U15'),\n",
       "         array(['photo'], dtype='<U5'),\n",
       "         array(['water cooler'], dtype='<U12'),\n",
       "         array(['foosball table'], dtype='<U14'),\n",
       "         array(['crayon'], dtype='<U6'),\n",
       "         array(['hoola hoop'], dtype='<U10'),\n",
       "         array(['horse toy'], dtype='<U9'),\n",
       "         array(['plastic toy container'], dtype='<U21'),\n",
       "         array(['pool table'], dtype='<U10'),\n",
       "         array(['game system'], dtype='<U11'),\n",
       "         array(['pool sticks'], dtype='<U11'),\n",
       "         array(['console system'], dtype='<U14'),\n",
       "         array(['video game'], dtype='<U10'),\n",
       "         array(['pool ball'], dtype='<U9'),\n",
       "         array(['trampoline'], dtype='<U10'),\n",
       "         array(['tricycle'], dtype='<U8'), array(['wii'], dtype='<U3'),\n",
       "         array(['furniture'], dtype='<U9'), array(['alarm'], dtype='<U5'),\n",
       "         array(['toy table'], dtype='<U9'),\n",
       "         array(['ornamental item'], dtype='<U15'),\n",
       "         array(['copper vessel'], dtype='<U13'),\n",
       "         array(['stick'], dtype='<U5'), array(['car'], dtype='<U3'),\n",
       "         array(['mezuza'], dtype='<U6'),\n",
       "         array(['toy cash register'], dtype='<U17'),\n",
       "         array(['lid'], dtype='<U3'),\n",
       "         array(['paper bundle'], dtype='<U12'),\n",
       "         array(['business cards'], dtype='<U14'),\n",
       "         array(['clipboard'], dtype='<U9'),\n",
       "         array(['flatbed scanner'], dtype='<U15'),\n",
       "         array(['paper tray'], dtype='<U10'),\n",
       "         array(['mouse pad'], dtype='<U9'),\n",
       "         array(['display case'], dtype='<U12'),\n",
       "         array(['tree sculpture'], dtype='<U14'),\n",
       "         array(['basketball'], dtype='<U10'),\n",
       "         array(['fiberglass case'], dtype='<U15'),\n",
       "         array(['framed certificate'], dtype='<U18'),\n",
       "         array(['cordless telephone'], dtype='<U18'),\n",
       "         array(['shofar'], dtype='<U6'), array(['trophy'], dtype='<U6'),\n",
       "         array(['cleaner'], dtype='<U7'),\n",
       "         array(['cloth drying stand'], dtype='<U18'),\n",
       "         array(['electric box'], dtype='<U12'),\n",
       "         array(['furnace'], dtype='<U7'),\n",
       "         array(['piece of wood'], dtype='<U13'),\n",
       "         array(['wooden pillar'], dtype='<U13'),\n",
       "         array(['drying stand'], dtype='<U12'),\n",
       "         array(['cane'], dtype='<U4'),\n",
       "         array(['clothing drying rack'], dtype='<U20'),\n",
       "         array(['iron box'], dtype='<U8'),\n",
       "         array(['excercise machine'], dtype='<U17'),\n",
       "         array(['sheet'], dtype='<U5'), array(['rope'], dtype='<U4'),\n",
       "         array(['sticks'], dtype='<U6'),\n",
       "         array(['wooden planks'], dtype='<U13'),\n",
       "         array(['toilet plunger'], dtype='<U14'),\n",
       "         array(['bar of soap'], dtype='<U11'),\n",
       "         array(['toilet bowl brush'], dtype='<U17'),\n",
       "         array(['light bulb'], dtype='<U10'),\n",
       "         array(['drain'], dtype='<U5'),\n",
       "         array(['faucet handle'], dtype='<U13'),\n",
       "         array(['nailclipper'], dtype='<U11'),\n",
       "         array(['shaving cream'], dtype='<U13'),\n",
       "         array(['rolled carpet'], dtype='<U13'),\n",
       "         array(['clothing iron'], dtype='<U13'),\n",
       "         array(['window cover'], dtype='<U12'),\n",
       "         array(['charger and wire'], dtype='<U16'),\n",
       "         array(['quilt'], dtype='<U5'), array(['mattress'], dtype='<U8'),\n",
       "         array(['hair dryer'], dtype='<U10'),\n",
       "         array(['stones'], dtype='<U6'),\n",
       "         array(['pepper grinder'], dtype='<U14'),\n",
       "         array(['cat cage'], dtype='<U8'),\n",
       "         array(['dish rack'], dtype='<U9'),\n",
       "         array(['curtain rod'], dtype='<U11'),\n",
       "         array(['calendar'], dtype='<U8'),\n",
       "         array(['head phones'], dtype='<U11'),\n",
       "         array(['cd disc'], dtype='<U7'),\n",
       "         array(['head phone'], dtype='<U10'),\n",
       "         array(['usb drive'], dtype='<U9'),\n",
       "         array(['water heater'], dtype='<U12'),\n",
       "         array(['pan'], dtype='<U3'), array(['tuna cans'], dtype='<U9'),\n",
       "         array(['baby gate'], dtype='<U9'),\n",
       "         array(['spoon sets'], dtype='<U10'),\n",
       "         array(['cans of cat food'], dtype='<U16'),\n",
       "         array(['cat'], dtype='<U3'),\n",
       "         array(['flower basket'], dtype='<U13'),\n",
       "         array(['fruit platter'], dtype='<U13'),\n",
       "         array(['grapefruit'], dtype='<U10'),\n",
       "         array(['kiwi'], dtype='<U4'),\n",
       "         array(['hand blender'], dtype='<U12'),\n",
       "         array(['knobs'], dtype='<U5'), array(['vessels'], dtype='<U7'),\n",
       "         array(['cell phone charger'], dtype='<U18'),\n",
       "         array(['wire basket'], dtype='<U11'),\n",
       "         array(['tub of tupperware'], dtype='<U17'),\n",
       "         array(['candelabra'], dtype='<U10'),\n",
       "         array(['litter box'], dtype='<U10'),\n",
       "         array(['shovel'], dtype='<U6'), array(['cat bed'], dtype='<U7'),\n",
       "         array(['door way'], dtype='<U8'), array(['belt'], dtype='<U4'),\n",
       "         array(['surge protect'], dtype='<U13'),\n",
       "         array(['glass'], dtype='<U5'),\n",
       "         array(['console controller'], dtype='<U18'),\n",
       "         array(['shoe rack'], dtype='<U9'),\n",
       "         array(['door frame'], dtype='<U10'),\n",
       "         array(['computer disk'], dtype='<U13'),\n",
       "         array(['briefcase'], dtype='<U9'),\n",
       "         array(['mail tray'], dtype='<U9'),\n",
       "         array(['file pad'], dtype='<U8'),\n",
       "         array(['letter stand'], dtype='<U12'),\n",
       "         array(['plastic cup of coffee'], dtype='<U21'),\n",
       "         array(['glass box'], dtype='<U9'),\n",
       "         array(['ping pong ball'], dtype='<U14'),\n",
       "         array(['ping pong racket'], dtype='<U16'),\n",
       "         array(['ping pong table'], dtype='<U15'),\n",
       "         array(['tennis racket'], dtype='<U13'),\n",
       "         array(['ping pong racquet'], dtype='<U17'),\n",
       "         array(['xbox'], dtype='<U4'),\n",
       "         array(['electric toothbrush base'], dtype='<U24'),\n",
       "         array(['toilet brush'], dtype='<U12'),\n",
       "         array(['toiletries'], dtype='<U10'),\n",
       "         array(['razor'], dtype='<U5'),\n",
       "         array(['bottle of contact lens solution'], dtype='<U31'),\n",
       "         array(['contact lens case'], dtype='<U17'),\n",
       "         array(['cream'], dtype='<U5'),\n",
       "         array(['glass container'], dtype='<U15'),\n",
       "         array(['container of skin cream'], dtype='<U23'),\n",
       "         array(['soap dish'], dtype='<U9'), array(['scale'], dtype='<U5'),\n",
       "         array(['soap stand'], dtype='<U10'),\n",
       "         array(['cactus'], dtype='<U6'),\n",
       "         array(['door  window  reflection'], dtype='<U24'),\n",
       "         array(['ceramic frog'], dtype='<U12'),\n",
       "         array(['incense candle'], dtype='<U14'),\n",
       "         array(['storage space'], dtype='<U13'),\n",
       "         array(['door lock'], dtype='<U9'),\n",
       "         array(['toilet paper holder'], dtype='<U19'),\n",
       "         array(['tissue'], dtype='<U6'),\n",
       "         array(['personal care liquid'], dtype='<U20'),\n",
       "         array(['shower head'], dtype='<U11'),\n",
       "         array(['shower knob'], dtype='<U11'),\n",
       "         array(['knob'], dtype='<U4'),\n",
       "         array(['cream tube'], dtype='<U10'),\n",
       "         array(['perfume box'], dtype='<U11'),\n",
       "         array(['perfume'], dtype='<U7'),\n",
       "         array(['back scrubber'], dtype='<U13'),\n",
       "         array(['door facing trimreflection'], dtype='<U26'),\n",
       "         array(['doorreflection'], dtype='<U14'),\n",
       "         array(['light switchreflection'], dtype='<U22'),\n",
       "         array(['medicine tube'], dtype='<U13'),\n",
       "         array(['wallet'], dtype='<U6'),\n",
       "         array(['soap tray'], dtype='<U9'),\n",
       "         array(['door curtain'], dtype='<U12'),\n",
       "         array(['shower pipe'], dtype='<U11'),\n",
       "         array(['face wash cream'], dtype='<U15'),\n",
       "         array(['flashlight'], dtype='<U10'),\n",
       "         array(['shower base'], dtype='<U11'),\n",
       "         array(['window shelf'], dtype='<U12'),\n",
       "         array(['shower hose'], dtype='<U11'),\n",
       "         array(['toothpaste holder'], dtype='<U17'),\n",
       "         array(['soap box'], dtype='<U8'),\n",
       "         array(['incense holder'], dtype='<U14'),\n",
       "         array(['conch shell'], dtype='<U11'),\n",
       "         array(['roll of toilet paper'], dtype='<U20'),\n",
       "         array(['shower tube'], dtype='<U11'),\n",
       "         array(['bottle of listerine'], dtype='<U19'),\n",
       "         array(['bottle of hand wash liquid'], dtype='<U26'),\n",
       "         array(['tea pot'], dtype='<U7'),\n",
       "         array(['lazy susan'], dtype='<U10'),\n",
       "         array(['avocado'], dtype='<U7'),\n",
       "         array(['fruit stand'], dtype='<U11'),\n",
       "         array(['fruitplate'], dtype='<U10'),\n",
       "         array(['oil container'], dtype='<U13'),\n",
       "         array(['package of water'], dtype='<U16'),\n",
       "         array(['bottle of liquid'], dtype='<U16'),\n",
       "         array(['door way arch'], dtype='<U13'),\n",
       "         array(['jug'], dtype='<U3'), array(['bulb'], dtype='<U4'),\n",
       "         array(['bagel'], dtype='<U5'),\n",
       "         array(['bag of bagels'], dtype='<U13'),\n",
       "         array(['banana peel'], dtype='<U11'),\n",
       "         array(['bag of oreo'], dtype='<U11'),\n",
       "         array(['flask'], dtype='<U5'), array(['collander'], dtype='<U9'),\n",
       "         array(['brick'], dtype='<U5'), array(['torch'], dtype='<U5'),\n",
       "         array(['dog bowl'], dtype='<U8'),\n",
       "         array(['wooden plank'], dtype='<U12'),\n",
       "         array(['eggs'], dtype='<U4'), array(['grill'], dtype='<U5'),\n",
       "         array(['dog'], dtype='<U3'), array(['chimney'], dtype='<U7'),\n",
       "         array(['dog cage'], dtype='<U8'),\n",
       "         array(['orange plastic cap'], dtype='<U18'),\n",
       "         array(['glass set'], dtype='<U9'),\n",
       "         array(['vessel set'], dtype='<U10'),\n",
       "         array(['mellon'], dtype='<U6'),\n",
       "         array(['aluminium foil'], dtype='<U14'),\n",
       "         array(['orange'], dtype='<U6'), array(['peach'], dtype='<U5'),\n",
       "         array(['tea coaster'], dtype='<U11'),\n",
       "         array(['butterfly sculpture'], dtype='<U19'),\n",
       "         array(['corkscrew'], dtype='<U9'),\n",
       "         array(['heating tray'], dtype='<U12'),\n",
       "         array(['food processor'], dtype='<U14'),\n",
       "         array(['corn'], dtype='<U4'), array(['squash'], dtype='<U6'),\n",
       "         array(['watermellon'], dtype='<U11'),\n",
       "         array(['vegetables'], dtype='<U10'),\n",
       "         array(['celery'], dtype='<U6'),\n",
       "         array(['glass dish'], dtype='<U10'),\n",
       "         array(['hot dogs'], dtype='<U8'),\n",
       "         array(['plastic dish'], dtype='<U12'),\n",
       "         array(['vegetable'], dtype='<U9'),\n",
       "         array(['sticker'], dtype='<U7'),\n",
       "         array(['chapstick'], dtype='<U9'),\n",
       "         array(['sifter'], dtype='<U6'),\n",
       "         array(['fruit basket'], dtype='<U12'),\n",
       "         array(['glove'], dtype='<U5'),\n",
       "         array(['measuring cup'], dtype='<U13'),\n",
       "         array(['water filter'], dtype='<U12'),\n",
       "         array(['wine accessory'], dtype='<U14'),\n",
       "         array(['dishes'], dtype='<U6'), array(['file box'], dtype='<U8'),\n",
       "         array(['ornamental pot'], dtype='<U14'),\n",
       "         array(['dog toy'], dtype='<U7'),\n",
       "         array(['salt and pepper'], dtype='<U15'),\n",
       "         array(['electrical kettle'], dtype='<U17'),\n",
       "         array(['kitchen container plastic'], dtype='<U25'),\n",
       "         array(['pineapple'], dtype='<U9'),\n",
       "         array(['suger jar'], dtype='<U9'),\n",
       "         array(['steamer'], dtype='<U7'), array(['charger'], dtype='<U7'),\n",
       "         array(['mug holder'], dtype='<U10'),\n",
       "         array(['orange juicer'], dtype='<U13'),\n",
       "         array(['juicer'], dtype='<U6'),\n",
       "         array(['bag of hot dog buns'], dtype='<U19'),\n",
       "         array(['hamburger bun'], dtype='<U13'),\n",
       "         array(['mug hanger'], dtype='<U10'),\n",
       "         array(['bottle of ketchup'], dtype='<U17'),\n",
       "         array(['toy kitchen'], dtype='<U11'),\n",
       "         array(['food wrapped on a tray'], dtype='<U22'),\n",
       "         array(['kitchen utensils'], dtype='<U16'),\n",
       "         array(['oven mitt'], dtype='<U9'),\n",
       "         array(['bottle of comet'], dtype='<U15'),\n",
       "         array(['wooden utensil'], dtype='<U14'),\n",
       "         array(['decorative dish'], dtype='<U15'),\n",
       "         array(['handle'], dtype='<U6'), array(['label'], dtype='<U5'),\n",
       "         array(['flask set'], dtype='<U9'),\n",
       "         array(['cooking pot cover'], dtype='<U17'),\n",
       "         array(['tupperware'], dtype='<U10'),\n",
       "         array(['garlic'], dtype='<U6'),\n",
       "         array(['tissue roll'], dtype='<U11'),\n",
       "         array(['lemon'], dtype='<U5'), array(['wine'], dtype='<U4'),\n",
       "         array(['decorative bottle'], dtype='<U17'),\n",
       "         array(['wire tray'], dtype='<U9'),\n",
       "         array(['tea cannister'], dtype='<U13'),\n",
       "         array(['clothing hamper'], dtype='<U15'),\n",
       "         array(['guitar case'], dtype='<U11'),\n",
       "         array(['wardrobe'], dtype='<U8'),\n",
       "         array(['boomerang'], dtype='<U9'),\n",
       "         array(['button'], dtype='<U6'),\n",
       "         array(['karate belts'], dtype='<U12'),\n",
       "         array(['medal'], dtype='<U5'),\n",
       "         array(['window seat'], dtype='<U11'),\n",
       "         array(['window box'], dtype='<U10'),\n",
       "         array(['necklace holder'], dtype='<U15'),\n",
       "         array(['beeper'], dtype='<U6'), array(['webcam'], dtype='<U6'),\n",
       "         array(['fish tank'], dtype='<U9'),\n",
       "         array(['luggage'], dtype='<U7'),\n",
       "         array(['life jacket'], dtype='<U11'),\n",
       "         array(['shoelace'], dtype='<U8'),\n",
       "         array(['pen cup'], dtype='<U7'),\n",
       "         array(['eyeball plastic ball'], dtype='<U20'),\n",
       "         array(['toy pyramid'], dtype='<U11'),\n",
       "         array(['model boat'], dtype='<U10'),\n",
       "         array(['certificate'], dtype='<U11'),\n",
       "         array(['puppy toy'], dtype='<U9'),\n",
       "         array(['wire board'], dtype='<U10'),\n",
       "         array(['quill'], dtype='<U5'), array(['canister'], dtype='<U8'),\n",
       "         array(['toy boat'], dtype='<U8'),\n",
       "         array(['antenna'], dtype='<U7'),\n",
       "         array(['bean bag'], dtype='<U8'),\n",
       "         array(['lint comb'], dtype='<U9'),\n",
       "         array(['travel bag'], dtype='<U10'),\n",
       "         array(['wall divider'], dtype='<U12'),\n",
       "         array(['toy chest'], dtype='<U9'),\n",
       "         array(['headband'], dtype='<U8'),\n",
       "         array(['luggage rack'], dtype='<U12'),\n",
       "         array(['bunk bed'], dtype='<U8'), array(['lego'], dtype='<U4'),\n",
       "         array(['yarmulka'], dtype='<U8'),\n",
       "         array(['package of bedroom sheets'], dtype='<U25'),\n",
       "         array(['bedding package'], dtype='<U15'),\n",
       "         array(['comb'], dtype='<U4'),\n",
       "         array(['dollar bill'], dtype='<U11'),\n",
       "         array(['pig'], dtype='<U3'),\n",
       "         array(['storage bin'], dtype='<U11'),\n",
       "         array(['storage chest'], dtype='<U13'),\n",
       "         array(['slide'], dtype='<U5'), array(['playpen'], dtype='<U7'),\n",
       "         array(['electronic drumset'], dtype='<U18'),\n",
       "         array(['ipod dock'], dtype='<U9'),\n",
       "         array(['microphone'], dtype='<U10'),\n",
       "         array(['music keyboard'], dtype='<U14'),\n",
       "         array(['music stand'], dtype='<U11'),\n",
       "         array(['microphone stand'], dtype='<U16'),\n",
       "         array(['album'], dtype='<U5'), array(['kinect'], dtype='<U6'),\n",
       "         array(['inkwell'], dtype='<U7'),\n",
       "         array(['baseball'], dtype='<U8'),\n",
       "         array(['decorative bowl'], dtype='<U15'),\n",
       "         array(['book holder'], dtype='<U11'),\n",
       "         array(['toy horse'], dtype='<U9'),\n",
       "         array(['desser'], dtype='<U6'),\n",
       "         array(['toy apple'], dtype='<U9'),\n",
       "         array(['toy dog'], dtype='<U7'), array(['scenary'], dtype='<U7'),\n",
       "         array(['drawer knob'], dtype='<U11'),\n",
       "         array(['shoe hanger'], dtype='<U11'),\n",
       "         array(['tent'], dtype='<U4'), array(['figurine'], dtype='<U8'),\n",
       "         array(['soccer ball'], dtype='<U11'),\n",
       "         array(['hand weight'], dtype='<U11'),\n",
       "         array(['magic 8ball'], dtype='<U11'),\n",
       "         array(['bottle of perfume'], dtype='<U17'),\n",
       "         array(['sleeping bag'], dtype='<U12'),\n",
       "         array(['decoration item'], dtype='<U15'),\n",
       "         array(['envelopes'], dtype='<U9'),\n",
       "         array(['trinket'], dtype='<U7'),\n",
       "         array(['hand fan'], dtype='<U8'),\n",
       "         array(['sculpture of the chrysler building'], dtype='<U34'),\n",
       "         array(['sculpture of the eiffel tower'], dtype='<U29'),\n",
       "         array(['sculpture of the empire state building'], dtype='<U38'),\n",
       "         array(['jeans'], dtype='<U5'),\n",
       "         array(['garage door'], dtype='<U11'),\n",
       "         array(['case'], dtype='<U4'), array(['rags'], dtype='<U4'),\n",
       "         array(['decorative item'], dtype='<U15'),\n",
       "         array(['toy stroller'], dtype='<U12'),\n",
       "         array(['shelf frame'], dtype='<U11'),\n",
       "         array(['cat house'], dtype='<U9'),\n",
       "         array(['can of beer'], dtype='<U11'),\n",
       "         array(['dog bed'], dtype='<U7'),\n",
       "         array(['lamp shade'], dtype='<U10'),\n",
       "         array(['bracelet'], dtype='<U8'),\n",
       "         array(['reflection of window shutters'], dtype='<U29'),\n",
       "         array(['decorative egg'], dtype='<U14'),\n",
       "         array(['indoor fountain'], dtype='<U15'),\n",
       "         array(['photo album'], dtype='<U11'),\n",
       "         array(['decorative candle'], dtype='<U17'),\n",
       "         array(['walkietalkie'], dtype='<U12'),\n",
       "         array(['serving dish'], dtype='<U12'),\n",
       "         array(['floor trim'], dtype='<U10'),\n",
       "         array(['mini display platform'], dtype='<U21'),\n",
       "         array(['american flag'], dtype='<U13'),\n",
       "         array(['vhs tapes'], dtype='<U9'), array(['throw'], dtype='<U5'),\n",
       "         array(['newspapers'], dtype='<U10'),\n",
       "         array(['mantle'], dtype='<U6'),\n",
       "         array(['package of bottled water'], dtype='<U24'),\n",
       "         array(['serving platter'], dtype='<U15'),\n",
       "         array(['display platter'], dtype='<U15'),\n",
       "         array(['centerpiece'], dtype='<U11'),\n",
       "         array(['tea box'], dtype='<U7'),\n",
       "         array(['gold piece'], dtype='<U10'),\n",
       "         array(['wreathe'], dtype='<U7'), array(['lectern'], dtype='<U7'),\n",
       "         array(['hammer'], dtype='<U6'), array(['matchbox'], dtype='<U8'),\n",
       "         array(['pepper'], dtype='<U6'),\n",
       "         array(['yellow pepper'], dtype='<U13'),\n",
       "         array(['duck'], dtype='<U4'), array(['eggplant'], dtype='<U8'),\n",
       "         array(['glass ware'], dtype='<U10'),\n",
       "         array(['sewing machine'], dtype='<U14'),\n",
       "         array(['rolled up rug'], dtype='<U13'),\n",
       "         array(['doily'], dtype='<U5'),\n",
       "         array(['coffee pot'], dtype='<U10'),\n",
       "         array(['torah'], dtype='<U5')]], dtype=object),\n",
       " 'className': array([[array(['wall'], dtype='<U4'), array(['floor'], dtype='<U5'),\n",
       "         array(['cabinet'], dtype='<U7'), array(['bed'], dtype='<U3'),\n",
       "         array(['chair'], dtype='<U5'), array(['sofa'], dtype='<U4'),\n",
       "         array(['table'], dtype='<U5'), array(['door'], dtype='<U4'),\n",
       "         array(['window'], dtype='<U6'),\n",
       "         array(['bookshelf'], dtype='<U9'),\n",
       "         array(['picture'], dtype='<U7'), array(['counter'], dtype='<U7'),\n",
       "         array(['blinds'], dtype='<U6'), array(['desk'], dtype='<U4'),\n",
       "         array(['shelves'], dtype='<U7'), array(['curtain'], dtype='<U7'),\n",
       "         array(['dresser'], dtype='<U7'), array(['pillow'], dtype='<U6'),\n",
       "         array(['mirror'], dtype='<U6'),\n",
       "         array(['floor mat'], dtype='<U9'),\n",
       "         array(['clothes'], dtype='<U7'), array(['ceiling'], dtype='<U7'),\n",
       "         array(['books'], dtype='<U5'),\n",
       "         array(['refridgerator'], dtype='<U13'),\n",
       "         array(['television'], dtype='<U10'),\n",
       "         array(['paper'], dtype='<U5'), array(['towel'], dtype='<U5'),\n",
       "         array(['shower curtain'], dtype='<U14'),\n",
       "         array(['box'], dtype='<U3'), array(['whiteboard'], dtype='<U10'),\n",
       "         array(['person'], dtype='<U6'),\n",
       "         array(['night stand'], dtype='<U11'),\n",
       "         array(['toilet'], dtype='<U6'), array(['sink'], dtype='<U4'),\n",
       "         array(['lamp'], dtype='<U4'), array(['bathtub'], dtype='<U7'),\n",
       "         array(['bag'], dtype='<U3'),\n",
       "         array(['otherstructure'], dtype='<U14'),\n",
       "         array(['otherfurniture'], dtype='<U14'),\n",
       "         array(['otherprop'], dtype='<U9')]], dtype=object),\n",
       " 'mapClass': array([[40, 40,  3, 22,  5, 40, 12, 38, 40, 40,  2, 39, 40, 40, 26, 40,\n",
       "         24, 40,  7, 40,  1, 40, 40, 34, 38, 29, 40,  8, 40, 40, 40, 40,\n",
       "         38, 40, 40, 14, 40, 38, 40, 40, 40, 15, 39, 40, 30, 40, 40, 39,\n",
       "         40, 39, 38, 40, 38, 40, 37, 40, 38, 38,  9, 40, 40, 38, 40, 11,\n",
       "         38, 40, 40, 40, 40, 40, 40, 40, 40, 40, 40, 40, 40, 40, 38, 13,\n",
       "         40, 40,  6, 40, 23, 40, 39, 10, 16, 40, 40, 40, 40, 38, 40, 40,\n",
       "         40, 40, 40, 40, 40, 40, 40, 38, 40, 39, 40, 40, 40, 40, 39, 38,\n",
       "         40, 40, 40, 40, 40, 40, 18, 40, 40, 19, 28, 33, 40, 40, 40, 40,\n",
       "         40, 40, 40, 40, 40, 38, 27, 36, 40, 40, 40, 40, 21, 40, 20, 35,\n",
       "         40, 40, 40, 40, 40, 40, 40, 40, 38, 40, 40, 40,  4, 32, 40, 40,\n",
       "         39, 40, 39, 40, 40, 40, 40, 40, 17, 40, 40, 25, 40, 39, 40, 40,\n",
       "         40, 40, 40, 40, 40, 40, 39, 40, 40, 40, 40, 40, 40, 40, 40, 40,\n",
       "         40, 40, 40, 40, 40, 40, 40, 40, 40, 40, 40, 39, 40, 40, 40, 40,\n",
       "         40, 40, 40, 40, 40, 39, 38, 38, 40, 40, 39, 40, 39, 40, 38, 39,\n",
       "         38, 40, 40, 40, 40, 40, 40, 40, 40, 40, 40, 39, 40, 38, 40, 40,\n",
       "         38, 38, 40, 40, 40, 40, 40, 40, 40, 40, 40, 40, 40, 40, 40, 38,\n",
       "         40, 40, 40, 40, 40, 39, 40, 40, 40, 40, 40, 40, 40, 40, 40, 40,\n",
       "         40, 40, 40, 40, 40, 39, 40, 40, 40, 40, 40, 40, 40, 40, 40, 40,\n",
       "         40, 40, 39, 40, 40, 40, 38, 40, 40, 39, 40, 40, 38, 40, 40, 40,\n",
       "         40, 40, 40, 40, 40, 40, 40, 40, 39, 40, 40, 40, 40, 40, 40, 40,\n",
       "         40, 40, 40, 40, 40, 40, 40, 40, 40, 40, 31, 40, 40, 40, 40, 40,\n",
       "         40, 40, 38, 40, 40, 38, 39, 39, 40, 40, 40, 40, 40, 40, 40, 40,\n",
       "         40, 38, 40, 39, 40, 40, 39, 40, 40, 40, 38, 40, 40, 40, 40, 40,\n",
       "         40, 40, 40, 38, 39, 40, 40, 40, 40, 40, 40, 38, 40, 40, 40, 40,\n",
       "         40, 40, 40, 40, 40, 40, 40, 38, 39, 40, 40, 40, 40, 40, 40, 40,\n",
       "         39, 40, 40, 40, 40, 40, 40, 38, 40, 40, 40, 38, 40, 39, 40, 40,\n",
       "         40, 39, 39, 40, 40, 40, 40, 40, 40, 40, 40, 40, 40, 39, 40, 40,\n",
       "         40, 40, 40, 40, 40, 40, 40, 40, 40, 40, 39, 39, 40, 40, 39, 39,\n",
       "         40, 40, 40, 40, 38, 40, 40, 38, 39, 39, 40, 39, 40, 39, 38, 40,\n",
       "         40, 40, 40, 40, 40, 40, 40, 40, 40, 40, 39, 40, 38, 40, 39, 40,\n",
       "         40, 40, 40, 40, 39, 39, 40, 40, 40, 40, 40, 40, 39, 39, 40, 40,\n",
       "         38, 39, 39, 40, 40, 40, 40, 40, 40, 40, 40, 40, 39, 39, 40, 40,\n",
       "         40, 40, 39, 40, 40, 40, 40, 40, 39, 40, 40, 39, 40, 40, 40, 40,\n",
       "         40, 40, 40, 40, 40, 40, 40, 40, 40, 40, 40, 39, 38, 40, 40, 40,\n",
       "         40, 40, 40, 40, 39, 38, 39, 40, 38, 39, 40, 39, 40, 39, 40, 40,\n",
       "         40, 40, 40, 40, 40, 40, 38, 40, 40, 40, 40, 40, 38, 40, 40, 39,\n",
       "         40, 40, 40, 39, 40, 38, 40, 40, 40, 40, 40, 40, 40, 40, 38, 40,\n",
       "         40, 40, 40, 40, 40, 40, 40, 40, 40, 40, 40, 40, 40, 40, 40, 39,\n",
       "         38, 40, 40, 38, 40, 40, 38, 40, 40, 40, 40, 40, 40, 40, 40, 40,\n",
       "         39, 40, 40, 40, 40, 40, 40, 40, 40, 40, 40, 40, 40, 40, 40, 40,\n",
       "         40, 38, 40, 40, 38, 40, 40, 40, 40, 40, 40, 40, 40, 40, 40, 40,\n",
       "         38, 38, 38, 40, 40, 40, 38, 40, 40, 40, 38, 38, 40, 40, 40, 40,\n",
       "         40, 40, 40, 40, 40, 40, 40, 40, 40, 40, 40, 40, 40, 38, 40, 40,\n",
       "         40, 40, 40, 40, 40, 40, 40, 40, 40, 40, 40, 38, 40, 38, 39, 40,\n",
       "         40, 40, 40, 40, 40, 40, 40, 40, 40, 40, 40, 40, 40, 40, 40, 40,\n",
       "         40, 40, 40, 40, 40, 40, 40, 40, 40, 40, 40, 40, 40, 39, 40, 40,\n",
       "         40, 40, 40, 40, 40, 40, 40, 40, 40, 40, 40, 40, 40, 40, 40, 40,\n",
       "         40, 40, 40, 40, 40, 40, 40, 40, 40, 40, 40, 40, 40, 40, 40, 40,\n",
       "         40, 39, 40, 39, 40, 40, 40, 40, 38, 38, 40, 40, 40, 38, 40, 40,\n",
       "         40, 40, 40, 40, 40, 40, 40, 40, 40, 40, 40, 40, 39, 40, 40, 39,\n",
       "         40, 40, 39, 39, 40, 40, 40, 40, 40, 40, 40, 40, 39, 39, 39, 40,\n",
       "         40, 40, 40, 39, 40, 40, 40, 40, 40, 40, 40, 40, 39, 40, 40, 40,\n",
       "         40, 40, 39, 40, 40, 40, 40, 40, 40, 40, 40, 40, 40, 40, 40, 40,\n",
       "         40, 38, 40, 40, 40, 40, 40, 40, 40, 39, 40, 40, 38, 40, 39, 40,\n",
       "         40, 40, 40, 38, 40, 40, 40, 40, 40, 38, 40, 40, 40, 40, 40, 40,\n",
       "         40, 39, 40, 40, 40, 40, 40, 40, 40, 40, 40, 39, 40, 40]],\n",
       "       dtype=uint8),\n",
       " 'mapToNYUSuperClass': array([[2, 1, 3, 3, 3, 3, 3, 2, 2, 3, 4, 2, 2, 3, 3, 2, 3, 4, 4, 4, 4, 2,\n",
       "         4, 3, 4, 4, 4, 2, 4, 2, 4, 3, 3, 4, 4, 3, 4, 2, 3, 4]],\n",
       "       dtype=uint8),\n",
       " 'mapToNYUSuperClassMat': array([[0, 1, 0, 0, 0, 0, 0, 0, 0, 0, 0, 0, 0, 0, 0, 0, 0, 0, 0, 0, 0, 0,\n",
       "         0, 0, 0, 0, 0, 0, 0, 0, 0, 0, 0, 0, 0, 0, 0, 0, 0, 0],\n",
       "        [1, 0, 0, 0, 0, 0, 0, 1, 1, 0, 0, 1, 1, 0, 0, 1, 0, 0, 0, 0, 0, 1,\n",
       "         0, 0, 0, 0, 0, 1, 0, 1, 0, 0, 0, 0, 0, 0, 0, 1, 0, 0],\n",
       "        [0, 0, 1, 1, 1, 1, 1, 0, 0, 1, 0, 0, 0, 1, 1, 0, 1, 0, 0, 0, 0, 0,\n",
       "         0, 1, 0, 0, 0, 0, 0, 0, 0, 1, 1, 0, 0, 1, 0, 0, 1, 0],\n",
       "        [0, 0, 0, 0, 0, 0, 0, 0, 0, 0, 1, 0, 0, 0, 0, 0, 0, 1, 1, 1, 1, 0,\n",
       "         1, 0, 1, 1, 1, 0, 1, 0, 1, 0, 0, 1, 1, 0, 1, 0, 0, 1]],\n",
       "       dtype=uint8)}"
      ]
     },
     "execution_count": 10,
     "metadata": {},
     "output_type": "execute_result"
    }
   ],
   "source": [
    "mat"
   ]
  },
  {
   "cell_type": "code",
   "execution_count": 11,
   "metadata": {},
   "outputs": [
    {
     "data": {
      "text/plain": [
       "label_13      1\n",
       "name_13     bed\n",
       "Name: 0, dtype: object"
      ]
     },
     "execution_count": 11,
     "metadata": {},
     "output_type": "execute_result"
    }
   ],
   "source": [
    "labels_13.iloc[0]"
   ]
  },
  {
   "cell_type": "code",
   "execution_count": 12,
>>>>>>> c2946805b74b942682977c484d3475801b8a522b
   "metadata": {},
   "outputs": [],
   "source": [
    "list_of_40 = []\n",
    "for i in range(0, len(mat[\"className\"][0])):\n",
    "    list_of_40.append(mat[\"className\"][0][i][0]) \n",
    "    \n",
    "label_of_40 = list(range(1,41))\n",
    "merging = [12,5,6,1,4,9,10,12,13,6,8,6,13,10,6,13,6,7,7,5,7,3,2,6,11,7,7,7,7,7,7,6,7,7,7,7,7,7,6,7]\n",
    "\n",
    "labels_40 = pd.DataFrame({\n",
    "     'Label_40': label_of_40,\n",
    "     'Name_40': list_of_40,\n",
    "     \"label_13\": merging})"
   ]
  },
  {
   "cell_type": "code",
<<<<<<< HEAD
   "execution_count": 9,
   "metadata": {},
   "outputs": [],
   "source": [
    "allClassName_894 = []\n",
    "for i in range(0, len(mat[\"allClassName\"][0])):\n",
    "    allClassName_894.append(mat[\"allClassName\"][0][i][0])\n",
    "\n",
    "mapClass_894 = []\n",
    "for i in range(0, len(mat[\"mapClass\"][0])):\n",
    "    mapClass_894.append(mat[\"mapClass\"][0][i])\n",
    "    \n",
    "labels_894 = pd.DataFrame({\n",
    "     'Label_40': list(mapClass_894),\n",
    "     'Name_894': list(allClassName_894)})"
=======
   "execution_count": 13,
   "metadata": {},
   "outputs": [
    {
     "data": {
      "text/plain": [
       "40"
      ]
     },
     "execution_count": 13,
     "metadata": {},
     "output_type": "execute_result"
    }
   ],
   "source": [
    "len(labels_40)"
   ]
  },
  {
   "cell_type": "code",
   "execution_count": 14,
   "metadata": {},
   "outputs": [],
   "source": [
    "list_of_37 = []\n",
    "for i in range(0, 37):\n",
    "    list_of_37.append(mat[\"className\"][0][i][0]) \n",
    "    \n",
    "label_of_37 = list(range(1,38))\n",
    "merging = [12,5,6,1,4,9,10,12,13,6,8,6,13,10,6,13,6,7,7,5,7,3,2,6,11,7,7,7,7,7,7,6,7,7,7,7,7]\n",
    "\n",
    "labels_37 = pd.DataFrame({\n",
    "     'Label_37': label_of_37,\n",
    "     'Name_37': list_of_37,\n",
    "     \"label_13\": merging})"
>>>>>>> c2946805b74b942682977c484d3475801b8a522b
   ]
  },
  {
   "cell_type": "code",
<<<<<<< HEAD
   "execution_count": 10,
   "metadata": {},
   "outputs": [],
   "source": [
    "df = pd.read_csv('name_mapping_from_toolbox')\n",
    "df = df.drop(['Unnamed: 0'], axis=1)\n",
    "df = pd.merge(df, labels_40, left_on=\"Label_37\", right_on=\"Label_40\").drop([ 'Label_37', 'Name_37'], axis=1)"
=======
   "execution_count": 15,
   "metadata": {},
   "outputs": [
    {
     "data": {
      "text/plain": [
       "37"
      ]
     },
     "execution_count": 15,
     "metadata": {},
     "output_type": "execute_result"
    }
   ],
   "source": [
    "len(labels_37)"
>>>>>>> c2946805b74b942682977c484d3475801b8a522b
   ]
  },
  {
   "cell_type": "code",
<<<<<<< HEAD
   "execution_count": 11,
   "metadata": {},
   "outputs": [
    {
     "name": "stdout",
     "output_type": "stream",
     "text": [
      "   Label_40 Name_894\n",
      "0        40     book\n"
     ]
    }
   ],
   "source": [
    "print(labels_894.loc[labels_894['Name_894'] == 'book'])\n",
    "df3 = pd.merge(labels_894, labels_40)\n",
    "final_dataset = pd.merge(df3, labels_13)"
=======
   "execution_count": 16,
   "metadata": {},
   "outputs": [
    {
     "data": {
      "text/plain": [
       "Label_40       1\n",
       "Name_40     wall\n",
       "label_13      12\n",
       "Name: 0, dtype: object"
      ]
     },
     "execution_count": 16,
     "metadata": {},
     "output_type": "execute_result"
    }
   ],
   "source": [
    "labels_40.iloc[0]"
>>>>>>> c2946805b74b942682977c484d3475801b8a522b
   ]
  },
  {
   "cell_type": "code",
<<<<<<< HEAD
   "execution_count": 12,
   "metadata": {},
   "outputs": [],
   "source": [
    "labels_needed = {}\n",
    "#Converting data to work with 13 classes\n",
    "for i in range(0, len(df)):\n",
    "    labels_needed[str(df.iloc[i]['Name_6585'])] = df.iloc[i]['label_13']\n",
    "    \n",
    "# Adding data for the dun from matlab file\n",
    "#Converting data to work with 13 classes\n",
    "for i in range(0, len(final_dataset)):\n",
    "    labels_needed[str(final_dataset.iloc[i]['Name_894'])] = final_dataset.iloc[i]['label_13']"
=======
   "execution_count": 17,
   "metadata": {},
   "outputs": [
    {
     "data": {
      "text/plain": [
       "Label_37       1\n",
       "Name_37     wall\n",
       "label_13      12\n",
       "Name: 0, dtype: object"
      ]
     },
     "execution_count": 17,
     "metadata": {},
     "output_type": "execute_result"
    }
   ],
   "source": [
    "labels_37.iloc[0]"
   ]
  },
  {
   "cell_type": "code",
   "execution_count": 18,
   "metadata": {},
   "outputs": [],
   "source": [
    "allClassName_894 = []\n",
    "for i in range(0, len(mat[\"allClassName\"][0])):\n",
    "    allClassName_894.append(mat[\"allClassName\"][0][i][0])\n",
    "\n",
    "mapClass_894 = []\n",
    "for i in range(0, len(mat[\"mapClass\"][0])):\n",
    "    mapClass_894.append(mat[\"mapClass\"][0][i])\n",
    "    \n",
    "labels_894 = pd.DataFrame({\n",
    "     'Label_37': list(mapClass_894),\n",
    "     'Name_894': list(allClassName_894)})"
>>>>>>> c2946805b74b942682977c484d3475801b8a522b
   ]
  },
  {
   "cell_type": "code",
<<<<<<< HEAD
   "execution_count": null,
   "metadata": {},
   "outputs": [],
   "source": []
  },
  {
   "cell_type": "markdown",
   "metadata": {},
   "source": [
    "# Start the parsing"
=======
   "execution_count": 19,
   "metadata": {},
   "outputs": [
    {
     "data": {
      "text/plain": [
       "(['book', 'bottle', 'cabinet', 'ceiling', 'chair'], [40, 40, 3, 22, 5])"
      ]
     },
     "execution_count": 19,
     "metadata": {},
     "output_type": "execute_result"
    }
   ],
   "source": [
    "allClassName_894[:5], mapClass_894[:5]"
   ]
  },
  {
   "cell_type": "code",
   "execution_count": 20,
   "metadata": {},
   "outputs": [
    {
     "data": {
      "text/plain": [
       "Label_37        40\n",
       "Name_894    bottle\n",
       "Name: 1, dtype: object"
      ]
     },
     "execution_count": 20,
     "metadata": {},
     "output_type": "execute_result"
    }
   ],
   "source": [
    "labels_894.iloc[1]"
>>>>>>> c2946805b74b942682977c484d3475801b8a522b
   ]
  },
  {
   "cell_type": "code",
<<<<<<< HEAD
   "execution_count": 13,
   "metadata": {},
   "outputs": [],
   "source": [
    "all_labels = []\n",
    "for key in labels_needed.keys():\n",
    "    all_labels.append(key)"
=======
   "execution_count": 21,
   "metadata": {},
   "outputs": [
    {
     "data": {
      "text/plain": [
       "894"
      ]
     },
     "execution_count": 21,
     "metadata": {},
     "output_type": "execute_result"
    }
   ],
   "source": [
    "len(labels_894)"
>>>>>>> c2946805b74b942682977c484d3475801b8a522b
   ]
  },
  {
   "cell_type": "code",
<<<<<<< HEAD
   "execution_count": 14,
   "metadata": {},
   "outputs": [],
   "source": [
    "import stringdist\n",
    "\n",
=======
   "execution_count": 22,
   "metadata": {},
   "outputs": [],
   "source": [
    "df = pd.read_csv('name_mapping_from_toolbox')\n",
    "df = df.drop(['Unnamed: 0'], axis=1)"
   ]
  },
  {
   "cell_type": "code",
   "execution_count": 23,
   "metadata": {},
   "outputs": [
    {
     "data": {
      "text/plain": [
       "Label_37                      21\n",
       "Label_6585                   995\n",
       "Name_6585     clothing detergent\n",
       "Name_37                  clothes\n",
       "Name: 0, dtype: object"
      ]
     },
     "execution_count": 23,
     "metadata": {},
     "output_type": "execute_result"
    }
   ],
   "source": [
    "df.iloc[0]"
   ]
  },
  {
   "cell_type": "code",
   "execution_count": 24,
   "metadata": {},
   "outputs": [
    {
     "data": {
      "text/plain": [
       "37"
      ]
     },
     "execution_count": 24,
     "metadata": {},
     "output_type": "execute_result"
    }
   ],
   "source": [
    "len(df)"
   ]
  },
  {
   "cell_type": "code",
   "execution_count": 25,
   "metadata": {},
   "outputs": [],
   "source": [
    "df = pd.merge(df, labels_37)"
   ]
  },
  {
   "cell_type": "code",
   "execution_count": 26,
   "metadata": {},
   "outputs": [],
   "source": [
    "df = pd.merge(df, labels_40, left_on=\"Label_37\", right_on=\"Label_40\").drop([ 'Label_37', 'Name_37'], axis=1)"
   ]
  },
  {
   "cell_type": "code",
   "execution_count": 27,
   "metadata": {},
   "outputs": [
    {
     "data": {
      "text/plain": [
       "Label_6585                   995\n",
       "Name_6585     clothing detergent\n",
       "label_13_x                     7\n",
       "Label_40                      21\n",
       "Name_40                  clothes\n",
       "label_13_y                     7\n",
       "Name: 0, dtype: object"
      ]
     },
     "execution_count": 27,
     "metadata": {},
     "output_type": "execute_result"
    }
   ],
   "source": [
    "df.iloc[0]"
   ]
  },
  {
   "cell_type": "code",
   "execution_count": 28,
   "metadata": {},
   "outputs": [
    {
     "data": {
      "text/plain": [
       "30"
      ]
     },
     "execution_count": 28,
     "metadata": {},
     "output_type": "execute_result"
    }
   ],
   "source": [
    "len(df)"
   ]
  },
  {
   "cell_type": "code",
   "execution_count": 29,
   "metadata": {},
   "outputs": [
    {
     "name": "stdout",
     "output_type": "stream",
     "text": [
      "   Label_37 Name_894\n",
      "0        40     book\n"
     ]
    }
   ],
   "source": [
    "print(labels_894.loc[labels_894['Name_894'] == 'book'])\n",
    "df3 = pd.merge(labels_894, labels_37)"
   ]
  },
  {
   "cell_type": "code",
   "execution_count": 30,
   "metadata": {},
   "outputs": [
    {
     "data": {
      "text/plain": [
       "37"
      ]
     },
     "execution_count": 30,
     "metadata": {},
     "output_type": "execute_result"
    }
   ],
   "source": [
    "len(df3)"
   ]
  },
  {
   "cell_type": "code",
   "execution_count": 31,
   "metadata": {},
   "outputs": [
    {
     "data": {
      "text/plain": [
       "Label_37      40\n",
       "Name_894    book\n",
       "Name: 0, dtype: object"
      ]
     },
     "execution_count": 31,
     "metadata": {},
     "output_type": "execute_result"
    }
   ],
   "source": [
    "labels_894.iloc[0]"
   ]
  },
  {
   "cell_type": "code",
   "execution_count": 32,
   "metadata": {},
   "outputs": [
    {
     "data": {
      "text/plain": [
       "Label_40       1\n",
       "Name_40     wall\n",
       "label_13      12\n",
       "Name: 0, dtype: object"
      ]
     },
     "execution_count": 32,
     "metadata": {},
     "output_type": "execute_result"
    }
   ],
   "source": [
    "labels_40.iloc[0]"
   ]
  },
  {
   "cell_type": "code",
   "execution_count": 33,
   "metadata": {},
   "outputs": [
    {
     "data": {
      "text/plain": [
       "Label_37          3\n",
       "Name_894    cabinet\n",
       "Name_37     cabinet\n",
       "label_13          6\n",
       "Name: 0, dtype: object"
      ]
     },
     "execution_count": 33,
     "metadata": {},
     "output_type": "execute_result"
    }
   ],
   "source": [
    "df3.iloc[0]"
   ]
  },
  {
   "cell_type": "code",
   "execution_count": 34,
   "metadata": {},
   "outputs": [],
   "source": [
    "final_dataset = pd.merge(df3, labels_13)"
   ]
  },
  {
   "cell_type": "code",
   "execution_count": 35,
   "metadata": {},
   "outputs": [
    {
     "data": {
      "text/plain": [
       "Label_37            3\n",
       "Name_894      cabinet\n",
       "Name_37       cabinet\n",
       "label_13            6\n",
       "name_13     furniture\n",
       "Name: 0, dtype: object"
      ]
     },
     "execution_count": 35,
     "metadata": {},
     "output_type": "execute_result"
    }
   ],
   "source": [
    "final_dataset.iloc[0]"
   ]
  },
  {
   "cell_type": "code",
   "execution_count": 36,
   "metadata": {},
   "outputs": [
    {
     "data": {
      "text/plain": [
       "(30, 37)"
      ]
     },
     "execution_count": 36,
     "metadata": {},
     "output_type": "execute_result"
    }
   ],
   "source": [
    "len(df), len(final_dataset)"
   ]
  },
  {
   "cell_type": "code",
   "execution_count": 37,
   "metadata": {},
   "outputs": [
    {
     "data": {
      "text/plain": [
       "Label_37      40\n",
       "Name_894    book\n",
       "Name: 0, dtype: object"
      ]
     },
     "execution_count": 37,
     "metadata": {},
     "output_type": "execute_result"
    }
   ],
   "source": [
    "labels_894.iloc[0]"
   ]
  },
  {
   "cell_type": "code",
   "execution_count": 38,
   "metadata": {},
   "outputs": [
    {
     "data": {
      "text/plain": [
       "Label_6585                   995\n",
       "Name_6585     clothing detergent\n",
       "label_13_x                     7\n",
       "Label_40                      21\n",
       "Name_40                  clothes\n",
       "label_13_y                     7\n",
       "Name: 0, dtype: object"
      ]
     },
     "execution_count": 38,
     "metadata": {},
     "output_type": "execute_result"
    }
   ],
   "source": [
    "df.iloc[0]"
   ]
  },
  {
   "cell_type": "code",
   "execution_count": 39,
   "metadata": {},
   "outputs": [
    {
     "ename": "MergeError",
     "evalue": "No common columns to perform merge on. Merge options: left_on=None, right_on=None, left_index=False, right_index=False",
     "output_type": "error",
     "traceback": [
      "\u001b[0;31m---------------------------------------------------------------------------\u001b[0m",
      "\u001b[0;31mMergeError\u001b[0m                                Traceback (most recent call last)",
      "\u001b[0;32m<ipython-input-39-6dad2c15ffc8>\u001b[0m in \u001b[0;36m<module>\u001b[0;34m\u001b[0m\n\u001b[0;32m----> 1\u001b[0;31m \u001b[0mdf3\u001b[0m \u001b[0;34m=\u001b[0m \u001b[0mpd\u001b[0m\u001b[0;34m.\u001b[0m\u001b[0mmerge\u001b[0m\u001b[0;34m(\u001b[0m\u001b[0mlabels_894\u001b[0m\u001b[0;34m,\u001b[0m \u001b[0mlabels_13\u001b[0m\u001b[0;34m)\u001b[0m\u001b[0;34m\u001b[0m\u001b[0m\n\u001b[0m",
      "\u001b[0;32m~/venv/lib/python3.5/site-packages/pandas/core/reshape/merge.py\u001b[0m in \u001b[0;36mmerge\u001b[0;34m(left, right, how, on, left_on, right_on, left_index, right_index, sort, suffixes, copy, indicator, validate)\u001b[0m\n\u001b[1;32m     45\u001b[0m                          \u001b[0mright_index\u001b[0m\u001b[0;34m=\u001b[0m\u001b[0mright_index\u001b[0m\u001b[0;34m,\u001b[0m \u001b[0msort\u001b[0m\u001b[0;34m=\u001b[0m\u001b[0msort\u001b[0m\u001b[0;34m,\u001b[0m \u001b[0msuffixes\u001b[0m\u001b[0;34m=\u001b[0m\u001b[0msuffixes\u001b[0m\u001b[0;34m,\u001b[0m\u001b[0;34m\u001b[0m\u001b[0m\n\u001b[1;32m     46\u001b[0m                          \u001b[0mcopy\u001b[0m\u001b[0;34m=\u001b[0m\u001b[0mcopy\u001b[0m\u001b[0;34m,\u001b[0m \u001b[0mindicator\u001b[0m\u001b[0;34m=\u001b[0m\u001b[0mindicator\u001b[0m\u001b[0;34m,\u001b[0m\u001b[0;34m\u001b[0m\u001b[0m\n\u001b[0;32m---> 47\u001b[0;31m                          validate=validate)\n\u001b[0m\u001b[1;32m     48\u001b[0m     \u001b[0;32mreturn\u001b[0m \u001b[0mop\u001b[0m\u001b[0;34m.\u001b[0m\u001b[0mget_result\u001b[0m\u001b[0;34m(\u001b[0m\u001b[0;34m)\u001b[0m\u001b[0;34m\u001b[0m\u001b[0m\n\u001b[1;32m     49\u001b[0m \u001b[0;34m\u001b[0m\u001b[0m\n",
      "\u001b[0;32m~/venv/lib/python3.5/site-packages/pandas/core/reshape/merge.py\u001b[0m in \u001b[0;36m__init__\u001b[0;34m(self, left, right, how, on, left_on, right_on, axis, left_index, right_index, sort, suffixes, copy, indicator, validate)\u001b[0m\n\u001b[1;32m    522\u001b[0m             \u001b[0mwarnings\u001b[0m\u001b[0;34m.\u001b[0m\u001b[0mwarn\u001b[0m\u001b[0;34m(\u001b[0m\u001b[0mmsg\u001b[0m\u001b[0;34m,\u001b[0m \u001b[0mUserWarning\u001b[0m\u001b[0;34m)\u001b[0m\u001b[0;34m\u001b[0m\u001b[0m\n\u001b[1;32m    523\u001b[0m \u001b[0;34m\u001b[0m\u001b[0m\n\u001b[0;32m--> 524\u001b[0;31m         \u001b[0mself\u001b[0m\u001b[0;34m.\u001b[0m\u001b[0m_validate_specification\u001b[0m\u001b[0;34m(\u001b[0m\u001b[0;34m)\u001b[0m\u001b[0;34m\u001b[0m\u001b[0m\n\u001b[0m\u001b[1;32m    525\u001b[0m \u001b[0;34m\u001b[0m\u001b[0m\n\u001b[1;32m    526\u001b[0m         \u001b[0;31m# note this function has side effects\u001b[0m\u001b[0;34m\u001b[0m\u001b[0;34m\u001b[0m\u001b[0m\n",
      "\u001b[0;32m~/venv/lib/python3.5/site-packages/pandas/core/reshape/merge.py\u001b[0m in \u001b[0;36m_validate_specification\u001b[0;34m(self)\u001b[0m\n\u001b[1;32m   1031\u001b[0m                         \u001b[0;34m'left_index={lidx}, right_index={ridx}'\u001b[0m\u001b[0;34m\u001b[0m\u001b[0m\n\u001b[1;32m   1032\u001b[0m                         .format(lon=self.left_on, ron=self.right_on,\n\u001b[0;32m-> 1033\u001b[0;31m                                 lidx=self.left_index, ridx=self.right_index))\n\u001b[0m\u001b[1;32m   1034\u001b[0m                 \u001b[0;32mif\u001b[0m \u001b[0;32mnot\u001b[0m \u001b[0mcommon_cols\u001b[0m\u001b[0;34m.\u001b[0m\u001b[0mis_unique\u001b[0m\u001b[0;34m:\u001b[0m\u001b[0;34m\u001b[0m\u001b[0m\n\u001b[1;32m   1035\u001b[0m                     raise MergeError(\"Data columns not unique: {common!r}\"\n",
      "\u001b[0;31mMergeError\u001b[0m: No common columns to perform merge on. Merge options: left_on=None, right_on=None, left_index=False, right_index=False"
     ]
    }
   ],
   "source": [
    "df3 = pd.merge(labels_894, labels_13)"
   ]
  },
  {
   "cell_type": "code",
   "execution_count": 40,
   "metadata": {},
   "outputs": [],
   "source": [
    "final_dataset = pd.merge(df3, labels_13)"
   ]
  },
  {
   "cell_type": "code",
   "execution_count": 41,
   "metadata": {},
   "outputs": [
    {
     "data": {
      "text/plain": [
       "(30, 37)"
      ]
     },
     "execution_count": 41,
     "metadata": {},
     "output_type": "execute_result"
    }
   ],
   "source": [
    "len(df), len(final_dataset)"
   ]
  },
  {
   "cell_type": "code",
   "execution_count": 42,
   "metadata": {},
   "outputs": [
    {
     "ename": "KeyError",
     "evalue": "'label_13'",
     "output_type": "error",
     "traceback": [
      "\u001b[0;31m---------------------------------------------------------------------------\u001b[0m",
      "\u001b[0;31mTypeError\u001b[0m                                 Traceback (most recent call last)",
      "\u001b[0;32m~/venv/lib/python3.5/site-packages/pandas/core/indexes/base.py\u001b[0m in \u001b[0;36mget_value\u001b[0;34m(self, series, key)\u001b[0m\n\u001b[1;32m   4380\u001b[0m             \u001b[0;32mtry\u001b[0m\u001b[0;34m:\u001b[0m\u001b[0;34m\u001b[0m\u001b[0m\n\u001b[0;32m-> 4381\u001b[0;31m                 \u001b[0;32mreturn\u001b[0m \u001b[0mlibindex\u001b[0m\u001b[0;34m.\u001b[0m\u001b[0mget_value_box\u001b[0m\u001b[0;34m(\u001b[0m\u001b[0ms\u001b[0m\u001b[0;34m,\u001b[0m \u001b[0mkey\u001b[0m\u001b[0;34m)\u001b[0m\u001b[0;34m\u001b[0m\u001b[0m\n\u001b[0m\u001b[1;32m   4382\u001b[0m             \u001b[0;32mexcept\u001b[0m \u001b[0mIndexError\u001b[0m\u001b[0;34m:\u001b[0m\u001b[0;34m\u001b[0m\u001b[0m\n",
      "\u001b[0;32mpandas/_libs/index.pyx\u001b[0m in \u001b[0;36mpandas._libs.index.get_value_box\u001b[0;34m()\u001b[0m\n",
      "\u001b[0;32mpandas/_libs/index.pyx\u001b[0m in \u001b[0;36mpandas._libs.index.get_value_at\u001b[0;34m()\u001b[0m\n",
      "\u001b[0;32mpandas/_libs/util.pxd\u001b[0m in \u001b[0;36mpandas._libs.util.get_value_at\u001b[0;34m()\u001b[0m\n",
      "\u001b[0;32mpandas/_libs/util.pxd\u001b[0m in \u001b[0;36mpandas._libs.util.validate_indexer\u001b[0;34m()\u001b[0m\n",
      "\u001b[0;31mTypeError\u001b[0m: 'str' object cannot be interpreted as an integer",
      "\nDuring handling of the above exception, another exception occurred:\n",
      "\u001b[0;31mKeyError\u001b[0m                                  Traceback (most recent call last)",
      "\u001b[0;32m<ipython-input-42-f0356630fedb>\u001b[0m in \u001b[0;36m<module>\u001b[0;34m\u001b[0m\n\u001b[1;32m      2\u001b[0m \u001b[0;31m#Converting data to work with 13 classes\u001b[0m\u001b[0;34m\u001b[0m\u001b[0;34m\u001b[0m\u001b[0m\n\u001b[1;32m      3\u001b[0m \u001b[0;32mfor\u001b[0m \u001b[0mi\u001b[0m \u001b[0;32min\u001b[0m \u001b[0mrange\u001b[0m\u001b[0;34m(\u001b[0m\u001b[0;36m0\u001b[0m\u001b[0;34m,\u001b[0m \u001b[0mlen\u001b[0m\u001b[0;34m(\u001b[0m\u001b[0mdf\u001b[0m\u001b[0;34m)\u001b[0m\u001b[0;34m)\u001b[0m\u001b[0;34m:\u001b[0m\u001b[0;34m\u001b[0m\u001b[0m\n\u001b[0;32m----> 4\u001b[0;31m     \u001b[0mlabels_needed\u001b[0m\u001b[0;34m[\u001b[0m\u001b[0mstr\u001b[0m\u001b[0;34m(\u001b[0m\u001b[0mdf\u001b[0m\u001b[0;34m.\u001b[0m\u001b[0miloc\u001b[0m\u001b[0;34m[\u001b[0m\u001b[0mi\u001b[0m\u001b[0;34m]\u001b[0m\u001b[0;34m[\u001b[0m\u001b[0;34m'Name_6585'\u001b[0m\u001b[0;34m]\u001b[0m\u001b[0;34m)\u001b[0m\u001b[0;34m]\u001b[0m \u001b[0;34m=\u001b[0m \u001b[0mdf\u001b[0m\u001b[0;34m.\u001b[0m\u001b[0miloc\u001b[0m\u001b[0;34m[\u001b[0m\u001b[0mi\u001b[0m\u001b[0;34m]\u001b[0m\u001b[0;34m[\u001b[0m\u001b[0;34m'label_13'\u001b[0m\u001b[0;34m]\u001b[0m\u001b[0;34m\u001b[0m\u001b[0m\n\u001b[0m\u001b[1;32m      5\u001b[0m \u001b[0;34m\u001b[0m\u001b[0m\n\u001b[1;32m      6\u001b[0m \u001b[0;31m# Adding data for the dun from matlab file\u001b[0m\u001b[0;34m\u001b[0m\u001b[0;34m\u001b[0m\u001b[0m\n",
      "\u001b[0;32m~/venv/lib/python3.5/site-packages/pandas/core/series.py\u001b[0m in \u001b[0;36m__getitem__\u001b[0;34m(self, key)\u001b[0m\n\u001b[1;32m    866\u001b[0m         \u001b[0mkey\u001b[0m \u001b[0;34m=\u001b[0m \u001b[0mcom\u001b[0m\u001b[0;34m.\u001b[0m\u001b[0mapply_if_callable\u001b[0m\u001b[0;34m(\u001b[0m\u001b[0mkey\u001b[0m\u001b[0;34m,\u001b[0m \u001b[0mself\u001b[0m\u001b[0;34m)\u001b[0m\u001b[0;34m\u001b[0m\u001b[0m\n\u001b[1;32m    867\u001b[0m         \u001b[0;32mtry\u001b[0m\u001b[0;34m:\u001b[0m\u001b[0;34m\u001b[0m\u001b[0m\n\u001b[0;32m--> 868\u001b[0;31m             \u001b[0mresult\u001b[0m \u001b[0;34m=\u001b[0m \u001b[0mself\u001b[0m\u001b[0;34m.\u001b[0m\u001b[0mindex\u001b[0m\u001b[0;34m.\u001b[0m\u001b[0mget_value\u001b[0m\u001b[0;34m(\u001b[0m\u001b[0mself\u001b[0m\u001b[0;34m,\u001b[0m \u001b[0mkey\u001b[0m\u001b[0;34m)\u001b[0m\u001b[0;34m\u001b[0m\u001b[0m\n\u001b[0m\u001b[1;32m    869\u001b[0m \u001b[0;34m\u001b[0m\u001b[0m\n\u001b[1;32m    870\u001b[0m             \u001b[0;32mif\u001b[0m \u001b[0;32mnot\u001b[0m \u001b[0mis_scalar\u001b[0m\u001b[0;34m(\u001b[0m\u001b[0mresult\u001b[0m\u001b[0;34m)\u001b[0m\u001b[0;34m:\u001b[0m\u001b[0;34m\u001b[0m\u001b[0m\n",
      "\u001b[0;32m~/venv/lib/python3.5/site-packages/pandas/core/indexes/base.py\u001b[0m in \u001b[0;36mget_value\u001b[0;34m(self, series, key)\u001b[0m\n\u001b[1;32m   4387\u001b[0m                     \u001b[0;32mraise\u001b[0m \u001b[0mInvalidIndexError\u001b[0m\u001b[0;34m(\u001b[0m\u001b[0mkey\u001b[0m\u001b[0;34m)\u001b[0m\u001b[0;34m\u001b[0m\u001b[0m\n\u001b[1;32m   4388\u001b[0m                 \u001b[0;32melse\u001b[0m\u001b[0;34m:\u001b[0m\u001b[0;34m\u001b[0m\u001b[0m\n\u001b[0;32m-> 4389\u001b[0;31m                     \u001b[0;32mraise\u001b[0m \u001b[0me1\u001b[0m\u001b[0;34m\u001b[0m\u001b[0m\n\u001b[0m\u001b[1;32m   4390\u001b[0m             \u001b[0;32mexcept\u001b[0m \u001b[0mException\u001b[0m\u001b[0;34m:\u001b[0m  \u001b[0;31m# pragma: no cover\u001b[0m\u001b[0;34m\u001b[0m\u001b[0m\n\u001b[1;32m   4391\u001b[0m                 \u001b[0;32mraise\u001b[0m \u001b[0me1\u001b[0m\u001b[0;34m\u001b[0m\u001b[0m\n",
      "\u001b[0;32m~/venv/lib/python3.5/site-packages/pandas/core/indexes/base.py\u001b[0m in \u001b[0;36mget_value\u001b[0;34m(self, series, key)\u001b[0m\n\u001b[1;32m   4373\u001b[0m         \u001b[0;32mtry\u001b[0m\u001b[0;34m:\u001b[0m\u001b[0;34m\u001b[0m\u001b[0m\n\u001b[1;32m   4374\u001b[0m             return self._engine.get_value(s, k,\n\u001b[0;32m-> 4375\u001b[0;31m                                           tz=getattr(series.dtype, 'tz', None))\n\u001b[0m\u001b[1;32m   4376\u001b[0m         \u001b[0;32mexcept\u001b[0m \u001b[0mKeyError\u001b[0m \u001b[0;32mas\u001b[0m \u001b[0me1\u001b[0m\u001b[0;34m:\u001b[0m\u001b[0;34m\u001b[0m\u001b[0m\n\u001b[1;32m   4377\u001b[0m             \u001b[0;32mif\u001b[0m \u001b[0mlen\u001b[0m\u001b[0;34m(\u001b[0m\u001b[0mself\u001b[0m\u001b[0;34m)\u001b[0m \u001b[0;34m>\u001b[0m \u001b[0;36m0\u001b[0m \u001b[0;32mand\u001b[0m \u001b[0;34m(\u001b[0m\u001b[0mself\u001b[0m\u001b[0;34m.\u001b[0m\u001b[0mholds_integer\u001b[0m\u001b[0;34m(\u001b[0m\u001b[0;34m)\u001b[0m \u001b[0;32mor\u001b[0m \u001b[0mself\u001b[0m\u001b[0;34m.\u001b[0m\u001b[0mis_boolean\u001b[0m\u001b[0;34m(\u001b[0m\u001b[0;34m)\u001b[0m\u001b[0;34m)\u001b[0m\u001b[0;34m:\u001b[0m\u001b[0;34m\u001b[0m\u001b[0m\n",
      "\u001b[0;32mpandas/_libs/index.pyx\u001b[0m in \u001b[0;36mpandas._libs.index.IndexEngine.get_value\u001b[0;34m()\u001b[0m\n",
      "\u001b[0;32mpandas/_libs/index.pyx\u001b[0m in \u001b[0;36mpandas._libs.index.IndexEngine.get_value\u001b[0;34m()\u001b[0m\n",
      "\u001b[0;32mpandas/_libs/index.pyx\u001b[0m in \u001b[0;36mpandas._libs.index.IndexEngine.get_loc\u001b[0;34m()\u001b[0m\n",
      "\u001b[0;32mpandas/_libs/hashtable_class_helper.pxi\u001b[0m in \u001b[0;36mpandas._libs.hashtable.PyObjectHashTable.get_item\u001b[0;34m()\u001b[0m\n",
      "\u001b[0;32mpandas/_libs/hashtable_class_helper.pxi\u001b[0m in \u001b[0;36mpandas._libs.hashtable.PyObjectHashTable.get_item\u001b[0;34m()\u001b[0m\n",
      "\u001b[0;31mKeyError\u001b[0m: 'label_13'"
     ]
    }
   ],
   "source": [
    "labels_needed = {}\n",
    "#Converting data to work with 13 classes\n",
    "for i in range(0, len(df)):\n",
    "    labels_needed[str(df.iloc[i]['Name_6585'])] = df.iloc[i]['label_13']\n",
    "    \n",
    "# Adding data for the dun from matlab file\n",
    "#Converting data to work with 13 classes\n",
    "for i in range(0, len(final_dataset)):\n",
    "    labels_needed[str(final_dataset.iloc[i]['Name_894'])] = final_dataset.iloc[i]['label_13']"
   ]
  },
  {
   "cell_type": "code",
   "execution_count": 43,
   "metadata": {},
   "outputs": [
    {
     "ename": "KeyError",
     "evalue": "'Label_40'",
     "output_type": "error",
     "traceback": [
      "\u001b[0;31m---------------------------------------------------------------------------\u001b[0m",
      "\u001b[0;31mTypeError\u001b[0m                                 Traceback (most recent call last)",
      "\u001b[0;32m~/venv/lib/python3.5/site-packages/pandas/core/indexes/base.py\u001b[0m in \u001b[0;36mget_value\u001b[0;34m(self, series, key)\u001b[0m\n\u001b[1;32m   4380\u001b[0m             \u001b[0;32mtry\u001b[0m\u001b[0;34m:\u001b[0m\u001b[0;34m\u001b[0m\u001b[0m\n\u001b[0;32m-> 4381\u001b[0;31m                 \u001b[0;32mreturn\u001b[0m \u001b[0mlibindex\u001b[0m\u001b[0;34m.\u001b[0m\u001b[0mget_value_box\u001b[0m\u001b[0;34m(\u001b[0m\u001b[0ms\u001b[0m\u001b[0;34m,\u001b[0m \u001b[0mkey\u001b[0m\u001b[0;34m)\u001b[0m\u001b[0;34m\u001b[0m\u001b[0m\n\u001b[0m\u001b[1;32m   4382\u001b[0m             \u001b[0;32mexcept\u001b[0m \u001b[0mIndexError\u001b[0m\u001b[0;34m:\u001b[0m\u001b[0;34m\u001b[0m\u001b[0m\n",
      "\u001b[0;32mpandas/_libs/index.pyx\u001b[0m in \u001b[0;36mpandas._libs.index.get_value_box\u001b[0;34m()\u001b[0m\n",
      "\u001b[0;32mpandas/_libs/index.pyx\u001b[0m in \u001b[0;36mpandas._libs.index.get_value_at\u001b[0;34m()\u001b[0m\n",
      "\u001b[0;32mpandas/_libs/util.pxd\u001b[0m in \u001b[0;36mpandas._libs.util.get_value_at\u001b[0;34m()\u001b[0m\n",
      "\u001b[0;32mpandas/_libs/util.pxd\u001b[0m in \u001b[0;36mpandas._libs.util.validate_indexer\u001b[0;34m()\u001b[0m\n",
      "\u001b[0;31mTypeError\u001b[0m: 'str' object cannot be interpreted as an integer",
      "\nDuring handling of the above exception, another exception occurred:\n",
      "\u001b[0;31mKeyError\u001b[0m                                  Traceback (most recent call last)",
      "\u001b[0;32m<ipython-input-43-bc3e5013aebb>\u001b[0m in \u001b[0;36m<module>\u001b[0;34m\u001b[0m\n\u001b[1;32m      7\u001b[0m \u001b[0;31m#Converting data to work with 40 classes\u001b[0m\u001b[0;34m\u001b[0m\u001b[0;34m\u001b[0m\u001b[0m\n\u001b[1;32m      8\u001b[0m \u001b[0;32mfor\u001b[0m \u001b[0mi\u001b[0m \u001b[0;32min\u001b[0m \u001b[0mrange\u001b[0m\u001b[0;34m(\u001b[0m\u001b[0;36m0\u001b[0m\u001b[0;34m,\u001b[0m \u001b[0mlen\u001b[0m\u001b[0;34m(\u001b[0m\u001b[0mfinal_dataset\u001b[0m\u001b[0;34m)\u001b[0m\u001b[0;34m)\u001b[0m\u001b[0;34m:\u001b[0m\u001b[0;34m\u001b[0m\u001b[0m\n\u001b[0;32m----> 9\u001b[0;31m     \u001b[0mlabels_needed\u001b[0m\u001b[0;34m[\u001b[0m\u001b[0mstr\u001b[0m\u001b[0;34m(\u001b[0m\u001b[0mfinal_dataset\u001b[0m\u001b[0;34m.\u001b[0m\u001b[0miloc\u001b[0m\u001b[0;34m[\u001b[0m\u001b[0mi\u001b[0m\u001b[0;34m]\u001b[0m\u001b[0;34m[\u001b[0m\u001b[0;34m'Name_894'\u001b[0m\u001b[0;34m]\u001b[0m\u001b[0;34m)\u001b[0m\u001b[0;34m]\u001b[0m \u001b[0;34m=\u001b[0m \u001b[0mfinal_dataset\u001b[0m\u001b[0;34m.\u001b[0m\u001b[0miloc\u001b[0m\u001b[0;34m[\u001b[0m\u001b[0mi\u001b[0m\u001b[0;34m]\u001b[0m\u001b[0;34m[\u001b[0m\u001b[0;34m'Label_40'\u001b[0m\u001b[0;34m]\u001b[0m\u001b[0;34m\u001b[0m\u001b[0m\n\u001b[0m",
      "\u001b[0;32m~/venv/lib/python3.5/site-packages/pandas/core/series.py\u001b[0m in \u001b[0;36m__getitem__\u001b[0;34m(self, key)\u001b[0m\n\u001b[1;32m    866\u001b[0m         \u001b[0mkey\u001b[0m \u001b[0;34m=\u001b[0m \u001b[0mcom\u001b[0m\u001b[0;34m.\u001b[0m\u001b[0mapply_if_callable\u001b[0m\u001b[0;34m(\u001b[0m\u001b[0mkey\u001b[0m\u001b[0;34m,\u001b[0m \u001b[0mself\u001b[0m\u001b[0;34m)\u001b[0m\u001b[0;34m\u001b[0m\u001b[0m\n\u001b[1;32m    867\u001b[0m         \u001b[0;32mtry\u001b[0m\u001b[0;34m:\u001b[0m\u001b[0;34m\u001b[0m\u001b[0m\n\u001b[0;32m--> 868\u001b[0;31m             \u001b[0mresult\u001b[0m \u001b[0;34m=\u001b[0m \u001b[0mself\u001b[0m\u001b[0;34m.\u001b[0m\u001b[0mindex\u001b[0m\u001b[0;34m.\u001b[0m\u001b[0mget_value\u001b[0m\u001b[0;34m(\u001b[0m\u001b[0mself\u001b[0m\u001b[0;34m,\u001b[0m \u001b[0mkey\u001b[0m\u001b[0;34m)\u001b[0m\u001b[0;34m\u001b[0m\u001b[0m\n\u001b[0m\u001b[1;32m    869\u001b[0m \u001b[0;34m\u001b[0m\u001b[0m\n\u001b[1;32m    870\u001b[0m             \u001b[0;32mif\u001b[0m \u001b[0;32mnot\u001b[0m \u001b[0mis_scalar\u001b[0m\u001b[0;34m(\u001b[0m\u001b[0mresult\u001b[0m\u001b[0;34m)\u001b[0m\u001b[0;34m:\u001b[0m\u001b[0;34m\u001b[0m\u001b[0m\n",
      "\u001b[0;32m~/venv/lib/python3.5/site-packages/pandas/core/indexes/base.py\u001b[0m in \u001b[0;36mget_value\u001b[0;34m(self, series, key)\u001b[0m\n\u001b[1;32m   4387\u001b[0m                     \u001b[0;32mraise\u001b[0m \u001b[0mInvalidIndexError\u001b[0m\u001b[0;34m(\u001b[0m\u001b[0mkey\u001b[0m\u001b[0;34m)\u001b[0m\u001b[0;34m\u001b[0m\u001b[0m\n\u001b[1;32m   4388\u001b[0m                 \u001b[0;32melse\u001b[0m\u001b[0;34m:\u001b[0m\u001b[0;34m\u001b[0m\u001b[0m\n\u001b[0;32m-> 4389\u001b[0;31m                     \u001b[0;32mraise\u001b[0m \u001b[0me1\u001b[0m\u001b[0;34m\u001b[0m\u001b[0m\n\u001b[0m\u001b[1;32m   4390\u001b[0m             \u001b[0;32mexcept\u001b[0m \u001b[0mException\u001b[0m\u001b[0;34m:\u001b[0m  \u001b[0;31m# pragma: no cover\u001b[0m\u001b[0;34m\u001b[0m\u001b[0m\n\u001b[1;32m   4391\u001b[0m                 \u001b[0;32mraise\u001b[0m \u001b[0me1\u001b[0m\u001b[0;34m\u001b[0m\u001b[0m\n",
      "\u001b[0;32m~/venv/lib/python3.5/site-packages/pandas/core/indexes/base.py\u001b[0m in \u001b[0;36mget_value\u001b[0;34m(self, series, key)\u001b[0m\n\u001b[1;32m   4373\u001b[0m         \u001b[0;32mtry\u001b[0m\u001b[0;34m:\u001b[0m\u001b[0;34m\u001b[0m\u001b[0m\n\u001b[1;32m   4374\u001b[0m             return self._engine.get_value(s, k,\n\u001b[0;32m-> 4375\u001b[0;31m                                           tz=getattr(series.dtype, 'tz', None))\n\u001b[0m\u001b[1;32m   4376\u001b[0m         \u001b[0;32mexcept\u001b[0m \u001b[0mKeyError\u001b[0m \u001b[0;32mas\u001b[0m \u001b[0me1\u001b[0m\u001b[0;34m:\u001b[0m\u001b[0;34m\u001b[0m\u001b[0m\n\u001b[1;32m   4377\u001b[0m             \u001b[0;32mif\u001b[0m \u001b[0mlen\u001b[0m\u001b[0;34m(\u001b[0m\u001b[0mself\u001b[0m\u001b[0;34m)\u001b[0m \u001b[0;34m>\u001b[0m \u001b[0;36m0\u001b[0m \u001b[0;32mand\u001b[0m \u001b[0;34m(\u001b[0m\u001b[0mself\u001b[0m\u001b[0;34m.\u001b[0m\u001b[0mholds_integer\u001b[0m\u001b[0;34m(\u001b[0m\u001b[0;34m)\u001b[0m \u001b[0;32mor\u001b[0m \u001b[0mself\u001b[0m\u001b[0;34m.\u001b[0m\u001b[0mis_boolean\u001b[0m\u001b[0;34m(\u001b[0m\u001b[0;34m)\u001b[0m\u001b[0;34m)\u001b[0m\u001b[0;34m:\u001b[0m\u001b[0;34m\u001b[0m\u001b[0m\n",
      "\u001b[0;32mpandas/_libs/index.pyx\u001b[0m in \u001b[0;36mpandas._libs.index.IndexEngine.get_value\u001b[0;34m()\u001b[0m\n",
      "\u001b[0;32mpandas/_libs/index.pyx\u001b[0m in \u001b[0;36mpandas._libs.index.IndexEngine.get_value\u001b[0;34m()\u001b[0m\n",
      "\u001b[0;32mpandas/_libs/index.pyx\u001b[0m in \u001b[0;36mpandas._libs.index.IndexEngine.get_loc\u001b[0;34m()\u001b[0m\n",
      "\u001b[0;32mpandas/_libs/hashtable_class_helper.pxi\u001b[0m in \u001b[0;36mpandas._libs.hashtable.PyObjectHashTable.get_item\u001b[0;34m()\u001b[0m\n",
      "\u001b[0;32mpandas/_libs/hashtable_class_helper.pxi\u001b[0m in \u001b[0;36mpandas._libs.hashtable.PyObjectHashTable.get_item\u001b[0;34m()\u001b[0m\n",
      "\u001b[0;31mKeyError\u001b[0m: 'Label_40'"
     ]
    }
   ],
   "source": [
    "labels_needed = {}\n",
    "#Converting data to work with 40 classes\n",
    "for i in range(0, len(df)):\n",
    "    labels_needed[str(df.iloc[i]['Name_6585'])] = df.iloc[i]['Label_40']\n",
    "    \n",
    "# Adding data for the dun from matlab file\n",
    "#Converting data to work with 40 classes\n",
    "for i in range(0, len(final_dataset)):\n",
    "    labels_needed[str(final_dataset.iloc[i]['Name_894'])] = final_dataset.iloc[i]['Label_40']"
   ]
  },
  {
   "cell_type": "code",
   "execution_count": 15,
   "metadata": {},
   "outputs": [
    {
     "data": {
      "text/plain": [
       "['wall',\n",
       " 'floor',\n",
       " 'cabinet',\n",
       " 'bed',\n",
       " 'chair',\n",
       " 'sofa',\n",
       " 'table',\n",
       " 'door',\n",
       " 'window',\n",
       " 'bookshelf',\n",
       " 'picture',\n",
       " 'counter',\n",
       " 'blinds',\n",
       " 'desk',\n",
       " 'shelves',\n",
       " 'curtain',\n",
       " 'dresser',\n",
       " 'pillow',\n",
       " 'mirror',\n",
       " 'floor mat',\n",
       " 'clothes',\n",
       " 'ceiling',\n",
       " 'books',\n",
       " 'refridgerator',\n",
       " 'television',\n",
       " 'paper',\n",
       " 'towel',\n",
       " 'shower curtain',\n",
       " 'box',\n",
       " 'whiteboard',\n",
       " 'person',\n",
       " 'night stand',\n",
       " 'toilet',\n",
       " 'sink',\n",
       " 'lamp',\n",
       " 'bathtub',\n",
       " 'bag',\n",
       " 'otherstructure',\n",
       " 'otherfurniture',\n",
       " 'otherprop']"
      ]
     },
     "execution_count": 15,
     "metadata": {},
     "output_type": "execute_result"
    }
   ],
   "source": [
    "labels_needed = {}\n",
    "#Converting data to work with 37 classes\n",
    "for i in range(0, len(df)):\n",
    "    labels_needed[str(df.iloc[i]['Name_6585'])] = df.iloc[i]['Label_37']\n",
    "    \n",
    "# Adding data for the dun from matlab file\n",
    "#Converting data to work with 37 classes\n",
    "for i in range(0, len(final_dataset)):\n",
    "    labels_needed[str(final_dataset.iloc[i]['Name_894'])] = final_dataset.iloc[i]['Label_37']"
   ]
  },
  {
   "cell_type": "code",
   "execution_count": 57,
   "metadata": {},
   "outputs": [
    {
     "data": {
      "text/plain": [
       "911"
      ]
     },
     "execution_count": 57,
     "metadata": {},
     "output_type": "execute_result"
    }
   ],
   "source": [
    "len(set(labels_needed))"
   ]
  },
  {
   "cell_type": "code",
   "execution_count": 88,
   "metadata": {},
   "outputs": [],
   "source": [
    "labels_full_names = np.load('../../seg37names.npy')"
   ]
  },
  {
   "cell_type": "code",
   "execution_count": 89,
   "metadata": {},
   "outputs": [
    {
     "data": {
      "text/plain": [
       "array(['wall', 'floor', 'cabinet', 'bed', 'chair', 'sofa', 'table',\n",
       "       'door', 'window', 'bookshelf', 'picture', 'counter', 'blinds',\n",
       "       'desk', 'shelves', 'curtain', 'dresser', 'pillow', 'mirror',\n",
       "       'floor_mat', 'clothes', 'ceiling', 'books', 'fridge', 'tv',\n",
       "       'paper', 'towel', 'shower_curtain', 'box', 'whiteboard', 'person',\n",
       "       'night_stand', 'toilet', 'sink', 'lamp', 'bathtub', 'bag'],\n",
       "      dtype='<U14')"
      ]
     },
     "execution_count": 89,
     "metadata": {},
     "output_type": "execute_result"
    }
   ],
   "source": [
    "labels_full_names"
   ]
  },
  {
   "cell_type": "code",
   "execution_count": 92,
   "metadata": {},
   "outputs": [],
   "source": [
    "labels_full_names=np.insert(labels_full_names, 0, 'bg')"
   ]
  },
  {
   "cell_type": "markdown",
   "metadata": {},
   "source": [
    "# Start the parsing"
   ]
  },
  {
   "cell_type": "code",
   "execution_count": 18,
   "metadata": {},
   "outputs": [],
   "source": [
    "all_labels = []\n",
    "for key in labels_needed.keys():\n",
    "    all_labels.append(key)"
   ]
  },
  {
   "cell_type": "code",
   "execution_count": 13,
   "metadata": {},
   "outputs": [],
   "source": [
    "seg_mat = '../../SUNRGBDtoolbox/Metadata/SUNRGBD2Dseg.mat'\n",
    "f = h5py.File(seg_mat, mode='r')"
   ]
  },
  {
   "cell_type": "code",
   "execution_count": 14,
   "metadata": {},
   "outputs": [],
   "source": [
    "def find_first(item, arr):\n",
    "    \"\"\"return the index of the first occurence of item in vec\"\"\"\n",
    "    for i in range(arr.shape[0]):\n",
    "        for j in range(arr.shape[1]):\n",
    "            if item == arr[i][j]:\n",
    "                return [i, j]\n",
    "    return -1"
   ]
  },
  {
   "cell_type": "code",
   "execution_count": 120,
   "metadata": {},
   "outputs": [],
   "source": [
    "unfounds = {\n",
    "    'bedbench' : 'bed',\n",
    "    'bedsheet' : 'bed'\n",
    "}"
   ]
  },
  {
   "cell_type": "code",
   "execution_count": 123,
   "metadata": {},
   "outputs": [],
   "source": [
    "rgb_names = np.load('../../rgb_names.npy')\n",
    "depth_names = np.load('../../depth_names.npy')"
   ]
  },
  {
   "cell_type": "code",
   "execution_count": 121,
   "metadata": {},
   "outputs": [],
   "source": [
    "import stringdist\n",
    "import difflib\n",
    "\n",
>>>>>>> c2946805b74b942682977c484d3475801b8a522b
    "ufo = {}\n",
    "def transformation(image_root, number_of_image):\n",
    "    # Set the paths\n",
    "    image_root = image_root\n",
    "    path_to_image = image_root + \"image/\" + (os.listdir(image_root + \"/image/\")[0])\n",
    "    anotation = image_root + 'annotation2Dfinal'\n",
    "    \n",
    "    with open(anotation + \"/index.json\") as data_file:\n",
    "        data = json.load(data_file)\n",
    "    \n",
    "    numberOfAnot = len(data[\"frames\"][0][\"polygon\"])\n",
    "    element = {}\n",
    "\n",
    "    size =  os.path.getsize(path_to_image)\n",
    "    filename = os.listdir(image_root + \"/image\")\n",
    "    filename = filename[0]\n",
    "\n",
    "    element = {\"fileref\": '', \"size\": size, \n",
    "        \"filename\": str(number_of_image) + \".jpg\", 'base64_img_data': '', 'file_attributes': {}, 'regions': {}}\n",
    "    \n",
    "    anootation2D = []\n",
    "    labels2D = []\n",
    "    regions = {}\n",
    "    \n",
<<<<<<< HEAD
    "    for i in range(0, numberOfAnot):\n",
=======
    "    # check id from seg.mat\n",
    "    seg_mat = scipy.io.loadmat(image_root+'seg.mat')\n",
    "    names = seg_mat['names'][0]\n",
    "    n_d = {}\n",
    "    for i in range(names.shape[0]):\n",
    "        key = str(names[i][0])\n",
    "        n_d[key] = i+1\n",
    "        names[i] = names[i][0]\n",
    "    names = list(names)\n",
    "    seg_labels = np.transpose(seg_mat['seglabel'])\n",
    "    gt_seg = np.array(f[f['SUNRGBD2Dseg']['seglabel'][number_of_image][0]])\n",
    "    \n",
    "    #print(\"numb of annotations: \", numberOfAnot)\n",
    "    #all_labels = []\n",
    "    \n",
    "    for i in range(0, numberOfAnot):\n",
    "        #print(\"i: \", i)\n",
>>>>>>> c2946805b74b942682977c484d3475801b8a522b
    "        x = data[\"frames\"][0][\"polygon\"][i][\"x\"]\n",
    "        y = data[\"frames\"][0][\"polygon\"][i][\"y\"]\n",
    "        idxObj = data[\"frames\"][0][\"polygon\"][i][\"object\"]\n",
    "        if idxObj <= len(data['objects']):\n",
    "            label = data['objects'][idxObj][\"name\"].lower()\n",
    "            label = ''.join(i for i in label if not i.isdigit())\n",
<<<<<<< HEAD
    "            if label in labels_needed:\n",
    "                label = labels_needed[label]\n",
    "            else:\n",
    "                leve = {}\n",
    "                for i in range(0,len(all_labels)):\n",
    "                    leve[all_labels[i]] = stringdist.levenshtein(label, all_labels[i])\n",
    "                label = labels_needed[min(leve, key=leve.get)]\n",
    "                ufo[min(leve, key=leve.get)] = label\n",
=======
    "            #all_labels.append(label)\n",
    "            #continue\n",
    "            ## some labels have spelling error\n",
    "            similars = difflib.get_close_matches(label, names)\n",
    "            if len(similars) > 0:\n",
    "                label = similars[0]\n",
    "            else:\n",
    "                print(\"not found \", label, names)\n",
    "                if label in unfounds:\n",
    "                    label = unfounds[label]\n",
    "                else:\n",
    "                    continue\n",
    "            ## find id of label\n",
    "            label_id = n_d[label]\n",
    "            ## find indice of label\n",
    "            ind = find_first(label_id, seg_labels)\n",
    "            ## get the corresponding object id from 37 labels\n",
    "            if ind != -1:\n",
    "                label = int(gt_seg[ind[0]][ind[1]])\n",
    "            else:\n",
    "                print(\"label not in gt\", label , label_id)\n",
    "                continue\n",
    "            ## get the name of the label as string\n",
    "            #label = labels_full_names[obj_label]\n",
    "            #print(\"final label: \", label)\n",
>>>>>>> c2946805b74b942682977c484d3475801b8a522b
    "            if type(x) == list and type(y) == list:\n",
    "                all_points_x = list(map(round, x))\n",
    "                all_points_y = list(map(round, y))\n",
    "                if len(all_points_y) != 0 and len(all_points_x) != 0:\n",
    "                    shape_attributes = {'name':'polygon',\"all_points_x\":x,\"all_points_y\":y}\n",
<<<<<<< HEAD
    "                    region = {'shape_attributes': {'name': 'polygon',\n",
    "                    'all_points_x': x, 'all_points_y': y}, 'region_attributes': {\"class\": int(label)}}  \n",
    "                    element['regions'][str(i)] = region\n",
=======
    "                    region = {'shape_attributes': {'name': 'polygon','all_points_x': x, 'all_points_y': y}, 'region_attributes': {\"class\": int(label)}}  \n",
    "                    element['regions'][str(i)] = region\n",
    "    \n",
    "    #return all_labels\n",
>>>>>>> c2946805b74b942682977c484d3475801b8a522b
    "    return element"
   ]
  },
  {
   "cell_type": "code",
<<<<<<< HEAD
   "execution_count": 15,
=======
   "execution_count": 20,
   "metadata": {},
   "outputs": [
    {
     "name": "stdout",
     "output_type": "stream",
     "text": [
      "Fuckup with ../../SUNRGBD/realsense/sa/2014_10_24-20_40_16-1311000073/\n",
      "Fuckup with ../../SUNRGBD/kv1/b3dodata/img_0174/\n",
      "Fuckup with ../../SUNRGBD/kv1/b3dodata/img_0139/\n",
      "Fuckup with ../../SUNRGBD/xtion/sun3ddata/harvard_conf_big/hv_conf_big_1/0003496-000117171936/\n",
      "Fuckup with ../../SUNRGBD/xtion/sun3ddata/hotel_beijing/beijing_hotel_1/0000634-000021249144/\n",
      "Fuckup with ../../SUNRGBD/xtion/sun3ddata/brown_cs_7/brown_cs7/0000004-000000105238/\n",
      "Fuckup with ../../SUNRGBD/xtion/sun3ddata/home_md/home_md_scan4_2012_july_29/0003900-000466989990/\n",
      "Fuckup with ../../SUNRGBD/xtion/sun3ddata/mit_26_100/classroom_26100_nov_2_2012_scan1_erika/0006997-000305722660/\n",
      "Fuckup with ../../SUNRGBD/xtion/sun3ddata/home_ph_cz/ph_cz_1/0001900-000063646884/\n",
      "Fuckup with ../../SUNRGBD/xtion/sun3ddata/mit_lab_16/lab_16_nov_2_2012_scan1_erika/0000094-000003787308/\n",
      "Fuckup with ../../SUNRGBD/xtion/sun3ddata/mit_lab_16/lab_16_nov_2_2012_scan1_erika/0011684-000499388400/\n",
      "Fuckup with ../../SUNRGBD/xtion/sun3ddata/mit_46_6lounge/bcs_floor6_long/0002484-000083508909/\n",
      "Fuckup with ../../SUNRGBD/xtion/sun3ddata/mit_46_6lounge/bcs_floor6_long/0006018-000201954453/\n",
      "Fuckup with ../../SUNRGBD/xtion/sun3ddata/mit_dorm_masseeh_xc/dorm_masseeh_xc_oct_29_2012_scan1_erika/0001352-000058820628/\n",
      "Fuckup with ../../SUNRGBD/xtion/sun3ddata/mit_32_144/classroom_32144_nov_2_2012_scan1_erika/0000005-000000203603/\n"
     ]
    }
   ],
   "source": [
    "# For the NYU dataset\n",
    "# 80% of train images - 1160 pics (0, 1160)\n",
    "   # 10% test - 145 pics (1160,1305)\n",
    "   # 10: validation - 144 pics (1305, 1449)\n",
    "# 20% of test images - 289\n",
    "\n",
    "# 5050 test images store[0 : 5049]\n",
    "# 5285 train-val images [5050 : 10334]\n",
    "   # 4226 train images [5050:9275]\n",
    "   # 1056 validation images [9276: 10333]\n",
    "d = {}\n",
    "fail = []\n",
    "# Working with a test dataset - 5050 images\n",
    "for i in range(5050, 9275):\n",
    "    try:\n",
    "        element2 = {}\n",
    "        number_of_image = i\n",
    "        #print(number_of_image)\n",
    "        element2 = transformation(store[i], number_of_image)\n",
    "    #except json.decoder.JSONDecodeError:\n",
    "    except ValueError:\n",
    "        print(\"Fuckup with \" + store[i])\n",
    "        fail.append(store[i])\n",
    "    #print(element2)\n",
    "    if element2:\n",
    "        file_name = os.listdir(store[i] + \"/image\")[0]\n",
    "        file_to_copy = store[i] + \"image/\" + file_name\n",
    "        target_dir = path_to_sun + \"train/train/\"\n",
    "        shutil.copyfile(file_to_copy, target_dir + str(i) + \".jpg\")\n",
    "        d[str(i) + \".jpg\" + str(os.path.getsize(file_to_copy))] = element2\n",
    "\n",
    "jsonname2 =  path_to_sun + \"train/train/\" + \"via_region_data.json\"\n",
    "with open(jsonname2, 'w') as fp:\n",
    "        json.dump(d, fp)"
   ]
  },
  {
   "cell_type": "code",
   "execution_count": 21,
   "metadata": {},
   "outputs": [
    {
     "name": "stdout",
     "output_type": "stream",
     "text": [
      "Pictures failed:15\n",
      "Pictures parsed:4210\n"
     ]
    }
   ],
   "source": [
    "print(\"Pictures failed:\" + str(len(fail)))\n",
    "print(\"Pictures parsed:\" + str(len(d)))"
   ]
  },
  {
   "cell_type": "code",
   "execution_count": null,
   "metadata": {},
   "outputs": [],
   "source": [
    "ufo"
   ]
  },
  {
   "cell_type": "code",
   "execution_count": 64,
   "metadata": {},
   "outputs": [
    {
     "data": {
      "text/plain": [
       "'../../SUNRGBD/'"
      ]
     },
     "execution_count": 64,
     "metadata": {},
     "output_type": "execute_result"
    }
   ],
   "source": [
    "path_to_sun"
   ]
  },
  {
   "cell_type": "code",
   "execution_count": 69,
   "metadata": {},
   "outputs": [
    {
     "data": {
      "text/plain": [
       "'../../SUNRGBD/kv2/kinect2data/000002_2014-05-26_14-23-37_260595134347_rgbf000103-resize/image'"
      ]
     },
     "execution_count": 69,
     "metadata": {},
     "output_type": "execute_result"
    }
   ],
   "source": [
    "store[0]+'image'"
   ]
  },
  {
   "cell_type": "code",
   "execution_count": 71,
   "metadata": {},
   "outputs": [
    {
     "data": {
      "text/plain": [
       "['.ipynb_checkpoints', '0000103.jpg']"
      ]
     },
     "execution_count": 71,
     "metadata": {},
     "output_type": "execute_result"
    }
   ],
   "source": [
    "os.listdir(store[0] + \"image\")"
   ]
  },
  {
   "cell_type": "code",
   "execution_count": 70,
   "metadata": {},
   "outputs": [
    {
     "data": {
      "text/plain": [
       "'.ipynb_checkpoints'"
      ]
     },
     "execution_count": 70,
     "metadata": {},
     "output_type": "execute_result"
    }
   ],
   "source": [
    "file_name = os.listdir(store[0] + \"image\")[0]\n",
    "file_name"
   ]
  },
  {
   "cell_type": "code",
   "execution_count": null,
   "metadata": {},
   "outputs": [],
   "source": [
    "unique_labels = []\n",
    "# Working with a train dataset - 4226 images\n",
    "for i in range(0, 5049): #5049\n",
    "    number_of_image = i\n",
    "    element2 = transformation(store[i], number_of_image)\n",
    "    unique_labels+=element2"
   ]
  },
  {
   "cell_type": "code",
   "execution_count": 112,
   "metadata": {},
   "outputs": [
    {
     "data": {
      "text/plain": [
       "965"
      ]
     },
     "execution_count": 112,
     "metadata": {},
     "output_type": "execute_result"
    }
   ],
   "source": [
    "len(set(unique_labels))"
   ]
  },
  {
   "cell_type": "code",
   "execution_count": 125,
   "metadata": {},
   "outputs": [
    {
     "name": "stdout",
     "output_type": "stream",
     "text": [
      "image i:  0\n",
      "not found  bedbench ['floor', 'wall', 'bed', 'mirror', 'ceiling', 'bed', 'pillow', 'night_stand', 'ottoman', 'dresser', 'lamp']\n",
      "image i:  1\n",
      "label not in gt dressing_table_box 16\n",
      "not found  bedsheet ['ceiling', 'floor', 'wall', 'window', 'bed', 'table', 'sofa', 'light', 'desk', 'bag', 'glass', 'calendar', 'bed', 'bed', 'lamp', 'dressing_table_box', 'lamp', 'table', 'calendar', 'lamp', 'painting', 'pillow', 'bag', 'mirror', 'blanket']\n",
      "label not in gt dressing_table_box 16\n",
      "not found  frame ['ceiling', 'floor', 'wall', 'window', 'bed', 'table', 'sofa', 'light', 'desk', 'bag', 'glass', 'calendar', 'bed', 'bed', 'lamp', 'dressing_table_box', 'lamp', 'table', 'calendar', 'lamp', 'painting', 'pillow', 'bag', 'mirror', 'blanket']\n",
      "image i:  2\n",
      "image i:  3\n",
      "not found  photoframe ['ceiling', 'wall', 'floor', 'wall', 'table', 'picture', 'table', 'lamp', 'bed', 'fire_esexter', 'fire_alarm', 'picture', 'shelves', 'pillar', 'pillar', 'pillow', 'mirror', 'table', 'table', 'scenery', 'scenery', 'mirror']\n",
      "not found  photoframe ['ceiling', 'wall', 'floor', 'wall', 'table', 'picture', 'table', 'lamp', 'bed', 'fire_esexter', 'fire_alarm', 'picture', 'shelves', 'pillar', 'pillar', 'pillow', 'mirror', 'table', 'table', 'scenery', 'scenery', 'mirror']\n",
      "image i:  4\n",
      "label not in gt box 35\n",
      "label not in gt art 46\n",
      "image i:  5\n",
      "label not in gt mirror 5\n",
      "not found  dressingtable ['floor', 'floor', 'ceiling', 'wall', 'mirror', 'art', 'pillar', 'art', 'cupboard', 'cupboard', 'table', 'bed', 'paper', 'lamp', 'drawer', 'art', 'pillow', 'drawer', 'cot', 'pillow', 'box', 'art']\n",
      "label not in gt drawer 18\n",
      "label not in gt drawer 18\n",
      "image i:  6\n",
      "label not in gt dresser 23\n",
      "label not in gt mirror 15\n",
      "label not in gt mirror 15\n",
      "label not in gt dresser 23\n",
      "label not in gt mirror 15\n",
      "label not in gt dresser 23\n",
      "label not in gt window 22\n",
      "label not in gt dresser 23\n",
      "image i:  7\n",
      "not found  dresserwithmirror ['wall', 'wall', 'picture', 'picture', 'window', 'bed', 'night_stand', 'dresser', 'dresser', 'floor', 'picture', 'lamp']\n",
      "not found  picturenexttomirror ['wall', 'wall', 'picture', 'picture', 'window', 'bed', 'night_stand', 'dresser', 'dresser', 'floor', 'picture', 'lamp']\n",
      "image i:  8\n",
      "label not in gt table 13\n",
      "not found  dressingtable ['wall', 'pillow', 'table', 'table', 'album', 'lamp', 'album', 'mirror', 'matress', 'album', 'lamp', 'pillow', 'table', 'mirror', 'pillow', 'matress', 'pillow', 'album', 'ceiling', 'floor', 'wall', 'floor', 'wall', 'price_tag', 'price_tag', 'price_tag', 'head_board', 'price_tag', 'foot_board', 'price_tag', 'price_tag', 'pillow', 'mattress']\n",
      "label not in gt table 13\n",
      "image i:  9\n",
      "label not in gt sofa 13\n",
      "image i:  10\n",
      "label not in gt picture 23\n",
      "label not in gt picture 23\n",
      "label not in gt picture 23\n",
      "image i:  11\n",
      "label not in gt picture 5\n",
      "label not in gt picture 5\n",
      "image i:  12\n",
      "label not in gt picture 7\n",
      "label not in gt painting 15\n",
      "label not in gt painting 15\n",
      "not found  knickknack ['ceiling', 'floor', 'wall', 'wall', 'lamp', 'night_stand', 'picture', 'books', 'dresser', 'dresser', 'mirror', 'suitcase', 'painting', 'flowers', 'painting', 'dresser', 'dresser', 'wall', 'mirror', 'lamp', 'dresser', 'lamp', 'decoration', 'bed']\n",
      "not found  fourposterbed ['ceiling', 'floor', 'wall', 'wall', 'lamp', 'night_stand', 'picture', 'books', 'dresser', 'dresser', 'mirror', 'suitcase', 'painting', 'flowers', 'painting', 'dresser', 'dresser', 'wall', 'mirror', 'lamp', 'dresser', 'lamp', 'decoration', 'bed']\n",
      "image i:  13\n",
      "not found  bedframe ['wall', 'picture', 'picture', 'bureau', 'head_board', 'bureau', 'bed', 'night_stand', 'mirror', 'mattress', 'ceiling', 'night_stand', 'pillow', 'vase', 'picture', 'lamp', 'lamp']\n",
      "label not in gt vase 14\n",
      "image i:  14\n",
      "not found  frame ['floor', 'wall', 'painting', 'pillow', 'pillow', 'headboard', 'footboard', 'tag', 'mattress', 'picture', 'picture', 'dresser', 'dresser', 'dresser', 'dresser', 'dresser', 'mirror', 'tv', 'floor', 'decoration', 'night_stand', 'lamp']\n",
      "not found  detailtag ['floor', 'wall', 'painting', 'pillow', 'pillow', 'headboard', 'footboard', 'tag', 'mattress', 'picture', 'picture', 'dresser', 'dresser', 'dresser', 'dresser', 'dresser', 'mirror', 'tv', 'floor', 'decoration', 'night_stand', 'lamp']\n",
      "label not in gt dresser 16\n",
      "label not in gt dresser 16\n",
      "label not in gt dresser 16\n",
      "label not in gt dresser 16\n",
      "label not in gt dresser 16\n",
      "label not in gt mirror 17\n",
      "label not in gt decoration 20\n",
      "image i:  15\n",
      "not found  floorandwall ['floor', 'floor', 'unknown', 'picture', 'picture', 'picture', 'table', 'bed', 'unknown', 'unknown', 'cups', 'outlet', 'drawer', 'drawer', 'drawer', 'mattress', 'drawer', 'lamp', 'light']\n",
      "not found  cautandbed ['floor', 'floor', 'unknown', 'picture', 'picture', 'picture', 'table', 'bed', 'unknown', 'unknown', 'cups', 'outlet', 'drawer', 'drawer', 'drawer', 'mattress', 'drawer', 'lamp', 'light']\n",
      "not found  kabat ['floor', 'floor', 'unknown', 'picture', 'picture', 'picture', 'table', 'bed', 'unknown', 'unknown', 'cups', 'outlet', 'drawer', 'drawer', 'drawer', 'mattress', 'drawer', 'lamp', 'light']\n",
      "not found  kabat ['floor', 'floor', 'unknown', 'picture', 'picture', 'picture', 'table', 'bed', 'unknown', 'unknown', 'cups', 'outlet', 'drawer', 'drawer', 'drawer', 'mattress', 'drawer', 'lamp', 'light']\n",
      "label not in gt outlet 12\n",
      "image i:  16\n",
      "not found  jewelrybox ['ceiling', 'wall', 'wall', 'picture', 'mirror', 'dresser', 'night_stand', 'picture', 'armoire', 'lamp', 'lamp', 'box', 'sign', 'bannister', 'floor', 'ceiling', 'knickknack', 'banner', 'bed', 'vanity', 'pillow', 'dresser', 'pillow']\n",
      "label not in gt knickknack 17\n",
      "image i:  17\n",
      "label not in gt bed 11\n",
      "label not in gt bed 11\n",
      "label not in gt dresser_set 12\n",
      "image i:  18\n",
      "not found  couch ['wall', 'lamp', 'dresser', 'wall', 'sofa', 'floor', 'bed', 'pillow']\n",
      "image i:  19\n",
      "label not in gt wall 43\n",
      "not found  woodenrack ['ceiling', 'floor', 'wall', 'rack', 'picture', 'picture', 'picture', 'picture', 'picture', 'plug_point', 'ceiling', 'ceiling', 'window', 'table', 'night_stand', 'books', 'bed', 'books', 'doll', 'tag', 'tag', 'tag', 'tag', 'tag', 'tag', 'board', 'draw', 'draw', 'draw', 'sofa', 'sheets', 'pillow', 'pillow', 'pillow', 'towel', 'monitor', 'table', 'table', 'sofa', 'sofa', 'printer', 'mouse', 'wall', 'pillow', 'lamp', 'draw', 'sheets', 'pillow']\n",
      "label not in gt window 13\n",
      "not found  woodenbedstand ['ceiling', 'floor', 'wall', 'rack', 'picture', 'picture', 'picture', 'picture', 'picture', 'plug_point', 'ceiling', 'ceiling', 'window', 'table', 'night_stand', 'books', 'bed', 'books', 'doll', 'tag', 'tag', 'tag', 'tag', 'tag', 'tag', 'board', 'draw', 'draw', 'draw', 'sofa', 'sheets', 'pillow', 'pillow', 'pillow', 'towel', 'monitor', 'table', 'table', 'sofa', 'sofa', 'printer', 'mouse', 'wall', 'pillow', 'lamp', 'draw', 'sheets', 'pillow']\n",
      "label not in gt sofa 40\n"
     ]
    },
    {
     "ename": "KeyboardInterrupt",
     "evalue": "",
     "output_type": "error",
     "traceback": [
      "\u001b[0;31m---------------------------------------------------------------------------\u001b[0m",
      "\u001b[0;31mKeyboardInterrupt\u001b[0m                         Traceback (most recent call last)",
      "\u001b[0;32m<ipython-input-125-a745424d40f4>\u001b[0m in \u001b[0;36m<module>\u001b[0;34m\u001b[0m\n\u001b[1;32m      7\u001b[0m         \u001b[0mnumber_of_image\u001b[0m \u001b[0;34m=\u001b[0m \u001b[0mi\u001b[0m\u001b[0;34m\u001b[0m\u001b[0m\n\u001b[1;32m      8\u001b[0m         \u001b[0mprint\u001b[0m\u001b[0;34m(\u001b[0m\u001b[0;34m\"image i: \"\u001b[0m\u001b[0;34m,\u001b[0m \u001b[0mnumber_of_image\u001b[0m\u001b[0;34m)\u001b[0m\u001b[0;34m\u001b[0m\u001b[0m\n\u001b[0;32m----> 9\u001b[0;31m         \u001b[0melement2\u001b[0m \u001b[0;34m=\u001b[0m \u001b[0mtransformation\u001b[0m\u001b[0;34m(\u001b[0m\u001b[0mstore\u001b[0m\u001b[0;34m[\u001b[0m\u001b[0mi\u001b[0m\u001b[0;34m]\u001b[0m\u001b[0;34m,\u001b[0m \u001b[0mnumber_of_image\u001b[0m\u001b[0;34m)\u001b[0m\u001b[0;34m\u001b[0m\u001b[0m\n\u001b[0m\u001b[1;32m     10\u001b[0m         \u001b[0;31m#print(element2)\u001b[0m\u001b[0;34m\u001b[0m\u001b[0;34m\u001b[0m\u001b[0m\n\u001b[1;32m     11\u001b[0m         \u001b[0;32mif\u001b[0m \u001b[0melement2\u001b[0m\u001b[0;34m:\u001b[0m\u001b[0;34m\u001b[0m\u001b[0m\n",
      "\u001b[0;32m<ipython-input-121-55f0624edfff>\u001b[0m in \u001b[0;36mtransformation\u001b[0;34m(image_root, number_of_image)\u001b[0m\n\u001b[1;32m     64\u001b[0m             \u001b[0mlabel_id\u001b[0m \u001b[0;34m=\u001b[0m \u001b[0mn_d\u001b[0m\u001b[0;34m[\u001b[0m\u001b[0mlabel\u001b[0m\u001b[0;34m]\u001b[0m\u001b[0;34m\u001b[0m\u001b[0m\n\u001b[1;32m     65\u001b[0m             \u001b[0;31m## find indice of label\u001b[0m\u001b[0;34m\u001b[0m\u001b[0;34m\u001b[0m\u001b[0m\n\u001b[0;32m---> 66\u001b[0;31m             \u001b[0mind\u001b[0m \u001b[0;34m=\u001b[0m \u001b[0mfind_first\u001b[0m\u001b[0;34m(\u001b[0m\u001b[0mlabel_id\u001b[0m\u001b[0;34m,\u001b[0m \u001b[0mseg_labels\u001b[0m\u001b[0;34m)\u001b[0m\u001b[0;34m\u001b[0m\u001b[0m\n\u001b[0m\u001b[1;32m     67\u001b[0m             \u001b[0;31m## get the corresponding object id from 37 labels\u001b[0m\u001b[0;34m\u001b[0m\u001b[0;34m\u001b[0m\u001b[0m\n\u001b[1;32m     68\u001b[0m             \u001b[0;32mif\u001b[0m \u001b[0mind\u001b[0m \u001b[0;34m!=\u001b[0m \u001b[0;34m-\u001b[0m\u001b[0;36m1\u001b[0m\u001b[0;34m:\u001b[0m\u001b[0;34m\u001b[0m\u001b[0m\n",
      "\u001b[0;32m<ipython-input-14-128c440d71c6>\u001b[0m in \u001b[0;36mfind_first\u001b[0;34m(item, arr)\u001b[0m\n\u001b[1;32m      3\u001b[0m     \u001b[0;32mfor\u001b[0m \u001b[0mi\u001b[0m \u001b[0;32min\u001b[0m \u001b[0mrange\u001b[0m\u001b[0;34m(\u001b[0m\u001b[0marr\u001b[0m\u001b[0;34m.\u001b[0m\u001b[0mshape\u001b[0m\u001b[0;34m[\u001b[0m\u001b[0;36m0\u001b[0m\u001b[0;34m]\u001b[0m\u001b[0;34m)\u001b[0m\u001b[0;34m:\u001b[0m\u001b[0;34m\u001b[0m\u001b[0m\n\u001b[1;32m      4\u001b[0m         \u001b[0;32mfor\u001b[0m \u001b[0mj\u001b[0m \u001b[0;32min\u001b[0m \u001b[0mrange\u001b[0m\u001b[0;34m(\u001b[0m\u001b[0marr\u001b[0m\u001b[0;34m.\u001b[0m\u001b[0mshape\u001b[0m\u001b[0;34m[\u001b[0m\u001b[0;36m1\u001b[0m\u001b[0;34m]\u001b[0m\u001b[0;34m)\u001b[0m\u001b[0;34m:\u001b[0m\u001b[0;34m\u001b[0m\u001b[0m\n\u001b[0;32m----> 5\u001b[0;31m             \u001b[0;32mif\u001b[0m \u001b[0mitem\u001b[0m \u001b[0;34m==\u001b[0m \u001b[0marr\u001b[0m\u001b[0;34m[\u001b[0m\u001b[0mi\u001b[0m\u001b[0;34m]\u001b[0m\u001b[0;34m[\u001b[0m\u001b[0mj\u001b[0m\u001b[0;34m]\u001b[0m\u001b[0;34m:\u001b[0m\u001b[0;34m\u001b[0m\u001b[0m\n\u001b[0m\u001b[1;32m      6\u001b[0m                 \u001b[0;32mreturn\u001b[0m \u001b[0;34m[\u001b[0m\u001b[0mi\u001b[0m\u001b[0;34m,\u001b[0m \u001b[0mj\u001b[0m\u001b[0;34m]\u001b[0m\u001b[0;34m\u001b[0m\u001b[0m\n\u001b[1;32m      7\u001b[0m     \u001b[0;32mreturn\u001b[0m \u001b[0;34m-\u001b[0m\u001b[0;36m1\u001b[0m\u001b[0;34m\u001b[0m\u001b[0m\n",
      "\u001b[0;31mKeyboardInterrupt\u001b[0m: "
     ]
    }
   ],
   "source": [
    "d2 = {}\n",
    "fail2 = []\n",
    "# Working with a train dataset - 4226 images\n",
    "for i in range(0, 5049): #5049\n",
    "    try:\n",
    "        element2 = {}\n",
    "        number_of_image = i\n",
    "        print(\"image i: \", number_of_image)\n",
    "        element2 = transformation(store[i], number_of_image)\n",
    "        #print(element2)\n",
    "        if element2:\n",
    "            #file_name = os.listdir(store[i] + \"/image\")[0]\n",
    "            file_name = rgb_names[i]\n",
    "            file_to_copy = store[i] + \"image/\" + file_name\n",
    "            target_dir = path_to_sun + \"test/\"\n",
    "            shutil.copyfile(file_to_copy, target_dir + str(i) + \".jpg\")\n",
    "            d2[str(i) + \".jpg\" + str(os.path.getsize(file_to_copy))] = element2\n",
    "            \n",
    "            #depth_file_name = os.listdir(store[i] + \"/depth_bfx\")[0]\n",
    "            depth_file_name = depth_names[i]\n",
    "            depth_file_to_copy = store[i] + \"depth_bfx/\" + depth_file_name\n",
    "            depth_target_dir = path_to_sun + \"test/\"\n",
    "            shutil.copyfile(depth_file_to_copy, depth_target_dir + str(i) + \"_depth.png\")\n",
    "    #except json.decoder.JSONDecodeError:\n",
    "    except ValueError:\n",
    "        print(\"Fuckup with \" + store[i])\n",
    "        fail2.append(store[i])\n",
    "\n",
    "jsonname2 =  path_to_sun + \"test/\" + \"via_region_data.json\"\n",
    "with open(jsonname2, 'w') as fp:\n",
    "        json.dump(d2, fp)"
   ]
  },
  {
   "cell_type": "code",
   "execution_count": 39,
   "metadata": {},
   "outputs": [
    {
     "name": "stdout",
     "output_type": "stream",
     "text": [
      "Pictures failed:10\n",
      "Pictures parsed:0\n"
     ]
    }
   ],
   "source": [
    "print(\"Pictures failed:\" + str(len(fail2)))\n",
    "print(\"Pictures parsed:\" + str(len(d2)))"
   ]
  },
  {
   "cell_type": "code",
   "execution_count": 23,
   "metadata": {},
   "outputs": [
    {
     "name": "stdout",
     "output_type": "stream",
     "text": [
      "Pictures failed:21\n",
      "Pictures parsed:5028\n"
     ]
    }
   ],
   "source": [
    "print(\"Pictures failed:\" + str(len(fail2)))\n",
    "print(\"Pictures parsed:\" + str(len(d2)))"
   ]
  },
  {
   "cell_type": "code",
   "execution_count": 24,
>>>>>>> c2946805b74b942682977c484d3475801b8a522b
   "metadata": {},
   "outputs": [
    {
     "name": "stdout",
     "output_type": "stream",
     "text": [
<<<<<<< HEAD
      "0\n",
      "1\n",
      "2\n",
      "3\n",
      "4\n",
      "5\n",
      "6\n",
      "7\n",
      "8\n",
      "9\n",
      "10\n",
      "11\n",
      "12\n",
      "13\n",
      "14\n",
      "15\n",
      "16\n",
      "17\n",
      "18\n",
      "19\n",
      "20\n",
      "21\n",
      "22\n",
      "23\n",
      "24\n",
      "25\n",
      "26\n",
      "27\n",
      "28\n",
      "29\n",
      "30\n",
      "31\n",
      "32\n",
      "33\n",
      "34\n",
      "35\n",
      "36\n",
      "37\n",
      "38\n",
      "39\n",
      "40\n",
      "41\n",
      "42\n",
      "43\n",
      "44\n",
      "45\n",
      "46\n",
      "47\n",
      "48\n",
      "49\n",
      "50\n",
      "51\n",
      "52\n",
      "53\n",
      "54\n",
      "55\n",
      "56\n",
      "57\n",
      "58\n",
      "59\n",
      "60\n",
      "61\n",
      "62\n",
      "63\n",
      "64\n",
      "65\n",
      "66\n",
      "67\n",
      "68\n",
      "69\n",
      "70\n",
      "71\n",
      "72\n",
      "73\n",
      "74\n",
      "75\n",
      "76\n",
      "77\n",
      "78\n",
      "79\n",
      "80\n",
      "81\n",
      "82\n",
      "83\n",
      "84\n",
      "85\n",
      "86\n",
      "87\n",
      "88\n",
      "89\n",
      "90\n",
      "91\n",
      "92\n",
      "93\n",
      "94\n",
      "95\n",
      "96\n",
      "97\n",
      "98\n",
      "99\n",
      "100\n",
      "101\n",
      "102\n",
      "103\n",
      "104\n",
      "105\n",
      "106\n",
      "107\n",
      "108\n",
      "109\n",
      "110\n",
      "111\n",
      "112\n",
      "113\n",
      "114\n",
      "115\n",
      "116\n",
      "117\n",
      "118\n",
      "119\n",
      "120\n",
      "121\n",
      "122\n",
      "123\n",
      "124\n",
      "125\n",
      "126\n",
      "127\n",
      "128\n",
      "129\n",
      "130\n",
      "131\n",
      "132\n",
      "133\n",
      "134\n",
      "135\n",
      "136\n",
      "137\n",
      "138\n",
      "139\n",
      "140\n",
      "141\n",
      "142\n",
      "143\n",
      "144\n",
      "145\n",
      "146\n",
      "147\n",
      "148\n",
      "149\n",
      "150\n",
      "151\n",
      "152\n",
      "153\n",
      "154\n",
      "155\n",
      "156\n",
      "157\n",
      "158\n",
      "159\n",
      "160\n",
      "161\n",
      "162\n",
      "163\n",
      "164\n",
      "165\n",
      "166\n",
      "167\n",
      "168\n",
      "169\n",
      "170\n",
      "171\n",
      "172\n",
      "173\n",
      "174\n",
      "175\n",
      "176\n",
      "177\n",
      "178\n",
      "179\n",
      "180\n",
      "181\n",
      "182\n",
      "183\n",
      "184\n",
      "185\n",
      "186\n",
      "187\n",
      "188\n",
      "189\n",
      "190\n",
      "191\n",
      "192\n",
      "193\n",
      "194\n",
      "195\n",
      "196\n",
      "197\n",
      "198\n",
      "199\n",
      "200\n",
      "201\n",
      "202\n",
      "203\n",
      "204\n",
      "205\n",
      "206\n",
      "207\n",
      "208\n",
      "209\n",
      "210\n",
      "211\n",
      "212\n",
      "213\n",
      "214\n",
      "215\n",
      "216\n",
      "217\n",
      "218\n",
      "219\n",
      "220\n",
      "221\n",
      "222\n",
      "223\n",
      "224\n",
      "225\n",
      "226\n",
      "227\n",
      "228\n",
      "229\n",
      "230\n",
      "231\n",
      "232\n",
      "233\n",
      "234\n",
      "235\n",
      "236\n",
      "237\n",
      "238\n",
      "239\n",
      "240\n",
      "241\n",
      "242\n",
      "243\n",
      "244\n",
      "245\n",
      "246\n",
      "247\n",
      "248\n",
      "249\n",
      "250\n",
      "251\n",
      "252\n",
      "253\n",
      "254\n",
      "255\n",
      "256\n",
      "257\n",
      "258\n",
      "259\n",
      "260\n",
      "261\n",
      "262\n",
      "263\n",
      "264\n",
      "265\n",
      "266\n",
      "267\n",
      "268\n",
      "269\n",
      "270\n",
      "271\n",
      "272\n",
      "273\n",
      "274\n",
      "275\n",
      "276\n",
      "277\n",
      "278\n",
      "279\n",
      "280\n",
      "281\n",
      "282\n",
      "283\n",
      "284\n",
      "285\n",
      "286\n",
      "287\n",
      "288\n",
      "289\n",
      "290\n",
      "291\n",
      "292\n",
      "293\n",
      "294\n",
      "295\n",
      "296\n",
      "297\n",
      "298\n",
      "299\n",
      "300\n",
      "301\n",
      "302\n",
      "303\n",
      "304\n",
      "305\n",
      "306\n",
      "307\n",
      "308\n",
      "309\n",
      "310\n",
      "311\n",
      "312\n",
      "313\n",
      "314\n",
      "315\n",
      "316\n",
      "317\n",
      "318\n",
      "319\n",
      "320\n",
      "321\n",
      "322\n",
      "323\n",
      "324\n",
      "325\n",
      "326\n",
      "327\n",
      "328\n",
      "329\n",
      "330\n",
      "331\n",
      "332\n",
      "333\n",
      "334\n",
      "335\n",
      "336\n",
      "337\n",
      "338\n",
      "339\n",
      "340\n",
      "341\n",
      "342\n",
      "343\n",
      "344\n",
      "345\n",
      "346\n",
      "347\n",
      "348\n",
      "349\n",
      "350\n",
      "351\n",
      "352\n",
      "353\n",
      "354\n",
      "355\n",
      "356\n",
      "357\n",
      "358\n",
      "359\n",
      "360\n",
      "361\n",
      "362\n",
      "363\n",
      "364\n",
      "365\n",
      "366\n",
      "367\n",
      "368\n",
      "369\n",
      "370\n",
      "371\n",
      "372\n",
      "373\n",
      "374\n",
      "375\n",
      "376\n",
      "377\n",
      "378\n",
      "379\n",
      "380\n",
      "381\n",
      "382\n",
      "383\n",
      "384\n",
      "385\n",
      "386\n",
      "387\n",
      "388\n",
      "389\n",
      "390\n",
      "391\n",
      "392\n",
      "393\n",
      "394\n",
      "395\n",
      "396\n",
      "397\n",
      "398\n",
      "399\n",
      "400\n",
      "401\n",
      "402\n",
      "403\n",
      "404\n",
      "405\n",
      "406\n",
      "407\n",
      "408\n",
      "409\n",
      "410\n",
      "411\n",
      "412\n",
      "413\n",
      "414\n",
      "415\n",
      "416\n",
      "417\n",
      "418\n",
      "419\n",
      "420\n",
      "421\n",
      "422\n",
      "423\n",
      "424\n",
      "425\n",
      "426\n",
      "427\n",
      "428\n",
      "429\n",
      "430\n",
      "431\n",
      "432\n",
      "433\n",
      "434\n",
      "435\n",
      "436\n",
      "437\n",
      "438\n",
      "439\n",
      "440\n",
      "441\n",
      "442\n",
      "443\n",
      "444\n",
      "445\n",
      "446\n",
      "447\n",
      "448\n",
      "449\n",
      "450\n",
      "451\n",
      "452\n",
      "453\n",
      "454\n",
      "455\n",
      "456\n",
      "457\n",
      "458\n",
      "459\n",
      "460\n",
      "461\n",
      "462\n",
      "463\n",
      "464\n",
      "465\n",
      "466\n",
      "467\n",
      "468\n",
      "469\n",
      "470\n",
      "471\n",
      "472\n",
      "473\n",
      "474\n",
      "475\n",
      "476\n",
      "477\n",
      "478\n",
      "479\n",
      "480\n",
      "481\n",
      "482\n",
      "483\n",
      "484\n",
      "485\n",
      "486\n",
      "487\n",
      "488\n",
      "489\n",
      "490\n",
      "491\n",
      "492\n",
      "493\n",
      "494\n",
      "495\n",
      "496\n",
      "497\n",
      "498\n",
      "499\n",
      "500\n",
      "501\n",
      "502\n",
      "503\n",
      "504\n",
      "505\n",
      "506\n",
      "507\n",
      "508\n",
      "509\n",
      "510\n",
      "511\n",
      "512\n",
      "513\n",
      "514\n",
      "515\n",
      "516\n",
      "517\n",
      "518\n",
      "519\n",
      "520\n",
      "521\n",
      "522\n",
      "523\n",
      "524\n",
      "525\n",
      "526\n",
      "527\n",
      "528\n",
      "529\n",
      "530\n",
      "531\n",
      "532\n",
      "533\n",
      "534\n",
      "535\n",
      "536\n",
      "537\n",
      "538\n",
      "539\n",
      "540\n",
      "541\n",
      "542\n",
      "543\n",
      "544\n",
      "545\n",
      "546\n",
      "547\n",
      "548\n",
      "549\n",
      "550\n",
      "551\n",
      "552\n",
      "553\n",
      "554\n",
      "555\n",
      "556\n",
      "557\n",
      "558\n",
      "559\n",
      "560\n",
      "561\n",
      "562\n",
      "563\n",
      "564\n",
      "565\n",
      "566\n",
      "567\n",
      "568\n",
      "569\n",
      "570\n",
      "571\n",
      "572\n",
      "573\n",
      "574\n",
      "575\n",
      "576\n",
      "577\n",
      "578\n",
      "579\n",
      "580\n",
      "581\n",
      "582\n",
      "583\n",
      "584\n",
      "585\n",
      "586\n",
      "587\n",
      "588\n",
      "589\n",
      "590\n",
      "591\n",
      "592\n",
      "593\n",
      "594\n",
      "595\n",
      "596\n",
      "597\n",
      "598\n",
      "599\n",
      "600\n",
      "601\n",
      "602\n",
      "603\n",
      "604\n",
      "605\n",
      "606\n",
      "607\n",
      "608\n",
      "609\n",
      "610\n",
      "611\n",
      "612\n",
      "613\n",
      "614\n",
      "615\n",
      "616\n",
      "617\n",
      "618\n",
      "619\n",
      "620\n",
      "621\n",
      "622\n",
      "623\n",
      "624\n",
      "625\n",
      "626\n",
      "627\n",
      "628\n",
      "629\n",
      "630\n",
      "631\n",
      "632\n",
      "633\n",
      "634\n",
      "635\n",
      "636\n",
      "637\n",
      "638\n",
      "639\n",
      "640\n",
      "641\n",
      "642\n",
      "643\n",
      "644\n",
      "645\n",
      "646\n",
      "647\n",
      "648\n",
      "649\n",
      "650\n",
      "651\n",
      "652\n",
      "653\n",
      "654\n",
      "655\n",
      "656\n",
      "657\n",
      "658\n",
      "659\n",
      "660\n",
      "661\n",
      "662\n",
      "663\n",
      "664\n",
      "665\n",
      "666\n",
      "667\n",
      "668\n",
      "669\n",
      "670\n",
      "671\n",
      "672\n",
      "673\n",
      "674\n",
      "675\n",
      "676\n",
      "677\n",
      "678\n",
      "679\n",
      "680\n",
      "681\n",
      "682\n",
      "683\n",
      "684\n",
      "685\n",
      "686\n",
      "687\n",
      "688\n",
      "689\n",
      "690\n",
      "691\n",
      "692\n",
      "693\n",
      "694\n",
      "695\n",
      "696\n",
      "697\n",
      "698\n",
      "699\n",
      "700\n",
      "701\n",
      "702\n",
      "703\n",
      "704\n",
      "705\n",
      "706\n",
      "707\n",
      "708\n",
      "709\n",
      "710\n",
      "711\n",
      "712\n",
      "713\n",
      "714\n",
      "715\n",
      "716\n",
      "717\n",
      "718\n",
      "719\n",
      "720\n",
      "721\n",
      "722\n",
      "723\n",
      "724\n",
      "725\n",
      "726\n",
      "727\n",
      "728\n",
      "729\n",
      "730\n",
      "731\n",
      "732\n",
      "733\n",
      "734\n",
      "735\n",
      "736\n",
      "737\n",
      "738\n",
      "739\n",
      "740\n",
      "741\n",
      "742\n",
      "743\n",
      "744\n",
      "745\n",
      "746\n",
      "747\n",
      "748\n",
      "749\n",
      "750\n",
      "751\n",
      "752\n",
      "753\n",
      "754\n",
      "755\n",
      "756\n",
      "757\n",
      "758\n",
      "759\n",
      "760\n",
      "761\n",
      "762\n",
      "763\n",
      "764\n",
      "765\n",
      "766\n",
      "767\n",
      "768\n",
      "769\n",
      "770\n",
      "771\n",
      "772\n",
      "773\n",
      "774\n",
      "775\n",
      "776\n",
      "777\n",
      "778\n",
      "779\n",
      "780\n",
      "781\n",
      "782\n",
      "783\n",
      "784\n",
      "785\n",
      "786\n",
      "787\n",
      "788\n",
      "789\n",
      "790\n",
      "791\n",
      "792\n",
      "793\n",
      "794\n",
      "795\n",
      "796\n",
      "797\n",
      "798\n",
      "799\n",
      "800\n",
      "801\n",
      "802\n",
      "803\n",
      "804\n",
      "805\n",
      "806\n",
      "807\n",
      "808\n",
      "809\n",
      "810\n",
      "811\n",
      "812\n",
      "813\n",
      "814\n",
      "815\n",
      "816\n",
      "817\n",
      "818\n",
      "819\n",
      "820\n",
      "821\n",
      "822\n",
      "823\n",
      "824\n",
      "825\n",
      "826\n",
      "827\n",
      "828\n",
      "829\n",
      "830\n",
      "831\n",
      "832\n",
      "833\n",
      "834\n",
      "835\n",
      "836\n",
      "837\n",
      "838\n",
      "839\n",
      "840\n",
      "841\n",
      "842\n",
      "843\n",
      "844\n",
      "845\n",
      "846\n",
      "847\n",
      "848\n",
      "849\n",
      "850\n",
      "851\n",
      "852\n",
      "853\n",
      "854\n",
      "855\n",
      "856\n",
      "857\n",
      "858\n",
      "859\n",
      "860\n",
      "861\n",
      "862\n",
      "863\n",
      "864\n",
      "865\n",
      "866\n",
      "867\n",
      "868\n",
      "869\n",
      "870\n",
      "871\n",
      "872\n",
      "873\n",
      "874\n",
      "875\n",
      "876\n",
      "877\n",
      "878\n",
      "879\n",
      "880\n",
      "881\n",
      "882\n",
      "883\n",
      "884\n",
      "885\n",
      "886\n",
      "887\n",
      "888\n",
      "889\n",
      "890\n",
      "891\n",
      "892\n",
      "893\n",
      "894\n",
      "895\n",
      "896\n",
      "897\n",
      "898\n",
      "899\n",
      "900\n",
      "901\n",
      "902\n",
      "903\n",
      "904\n",
      "905\n",
      "906\n",
      "907\n",
      "908\n",
      "909\n",
      "910\n",
      "911\n",
      "912\n",
      "913\n",
      "914\n",
      "915\n",
      "916\n",
      "917\n",
      "918\n",
      "919\n",
      "920\n",
      "921\n",
      "922\n",
      "923\n",
      "924\n",
      "925\n",
      "926\n",
      "927\n",
      "928\n",
      "929\n",
      "930\n",
      "931\n",
      "932\n",
      "933\n",
      "934\n",
      "935\n",
      "936\n",
      "937\n",
      "938\n",
      "939\n",
      "940\n",
      "941\n",
      "942\n",
      "943\n",
      "944\n",
      "945\n",
      "946\n",
      "947\n",
      "948\n",
      "949\n",
      "950\n",
      "951\n",
      "952\n",
      "953\n",
      "954\n",
      "955\n",
      "956\n",
      "957\n",
      "958\n",
      "959\n",
      "960\n",
      "961\n",
      "962\n",
      "963\n",
      "964\n",
      "965\n",
      "966\n",
      "967\n",
      "968\n",
      "969\n",
      "970\n",
      "971\n",
      "972\n",
      "973\n",
      "974\n",
      "975\n",
      "976\n",
      "977\n",
      "978\n",
      "979\n",
      "980\n",
      "981\n",
      "982\n",
      "983\n",
      "984\n",
      "985\n",
      "986\n",
      "987\n",
      "988\n",
      "989\n",
      "990\n",
      "991\n",
      "992\n",
      "993\n",
      "994\n",
      "995\n",
      "996\n",
      "997\n",
      "998\n",
      "999\n",
      "1000\n",
      "1001\n",
      "1002\n",
      "1003\n",
      "1004\n",
      "1005\n",
      "1006\n",
      "1007\n",
      "1008\n",
      "1009\n",
      "1010\n",
      "1011\n",
      "1012\n",
      "1013\n",
      "1014\n",
      "1015\n",
      "1016\n",
      "1017\n",
      "1018\n",
      "1019\n",
      "1020\n",
      "1021\n",
      "1022\n",
      "1023\n",
      "1024\n",
      "1025\n",
      "1026\n",
      "1027\n",
      "1028\n",
      "1029\n",
      "1030\n",
      "1031\n",
      "1032\n",
      "1033\n",
      "1034\n",
      "1035\n",
      "1036\n",
      "1037\n",
      "1038\n",
      "1039\n",
      "1040\n",
      "1041\n",
      "1042\n",
      "1043\n",
      "1044\n",
      "1045\n",
      "1046\n",
      "1047\n",
      "1048\n",
      "1049\n",
      "1050\n",
      "1051\n",
      "1052\n",
      "1053\n",
      "1054\n",
      "1055\n",
      "1056\n",
      "1057\n",
      "1058\n",
      "1059\n",
      "1060\n",
      "1061\n",
      "1062\n",
      "1063\n",
      "1064\n",
      "1065\n",
      "1066\n",
      "1067\n",
      "1068\n",
      "1069\n",
      "1070\n",
      "1071\n",
      "1072\n",
      "1073\n",
      "1074\n",
      "1075\n",
      "1076\n",
      "1077\n",
      "1078\n",
      "1079\n",
      "1080\n",
      "1081\n",
      "1082\n",
      "1083\n",
      "1084\n",
      "1085\n",
      "1086\n",
      "1087\n",
      "1088\n",
      "1089\n",
      "1090\n",
      "1091\n",
      "1092\n",
      "1093\n",
      "1094\n",
      "1095\n",
      "1096\n",
      "1097\n",
      "1098\n",
      "1099\n",
      "1100\n",
      "1101\n",
      "1102\n",
      "1103\n",
      "1104\n",
      "1105\n",
      "1106\n",
      "1107\n",
      "1108\n",
      "1109\n",
      "1110\n",
      "1111\n",
      "1112\n",
      "1113\n",
      "1114\n",
      "1115\n",
      "1116\n",
      "1117\n",
      "1118\n",
      "1119\n",
      "1120\n",
      "1121\n",
      "1122\n",
      "1123\n",
      "1124\n",
      "1125\n",
      "1126\n",
      "1127\n",
      "1128\n",
      "1129\n",
      "1130\n",
      "1131\n",
      "1132\n",
      "1133\n",
      "1134\n",
      "1135\n",
      "1136\n",
      "1137\n",
      "1138\n",
      "1139\n",
      "1140\n",
      "1141\n",
      "1142\n",
      "1143\n",
      "1144\n",
      "1145\n",
      "1146\n",
      "1147\n",
      "1148\n",
      "1149\n",
      "1150\n",
      "1151\n",
      "1152\n",
      "1153\n",
      "1154\n",
      "1155\n",
      "1156\n",
      "1157\n",
      "1158\n",
      "1159\n"
=======
      "Fuckup with ../../SUNRGBD/xtion/sun3ddata/mit_dorm_mcc_flr1/dorm_mcc_flr1_oct_31_2012_scan1_erika/0001153-000051532234/\n",
      "Fuckup with ../../SUNRGBD/xtion/sun3ddata/hotel_uc/scan2/0000311-000157225998/\n",
      "Fuckup with ../../SUNRGBD/xtion/sun3ddata/brown_cs_5/brown_cs5/0000634-000021457030/\n",
      "Fuckup with ../../SUNRGBD/xtion/sun3ddata/mit_dorm_mcc_wph/dorm_mcc_wph_oct_31_2012_scan1_erika/0005980-000266256626/\n"
>>>>>>> c2946805b74b942682977c484d3475801b8a522b
     ]
    }
   ],
   "source": [
<<<<<<< HEAD
    "# For the NYU dataset\n",
    "# 80% of train images - 1160 pics (0, 1160)\n",
    "   # 10% test - 145 pics (1160,1305)\n",
    "   # 10: validation - 144 pics (1305, 1449)\n",
    "# 20% of test images - 289\n",
    "\n",
    "# 5050 test images store[0 : 5049]\n",
    "# 5285 train-val images [5050 : 10334]\n",
    "   # 4226 train images [5050:9275]\n",
    "   # 1056 validation images [9276: 10333]\n",
    "d = {}\n",
    "fail = []\n",
    "# Working with a test dataset - 5050 images\n",
    "for i in range(0, 1160):\n",
    "    try:\n",
    "        element2 = {}\n",
    "        number_of_image = i\n",
    "        print(number_of_image)\n",
    "        element2 = transformation(store[i], number_of_image)\n",
    "    #except json.decoder.JSONDecodeError:\n",
    "    except ValueError:\n",
    "        print(\"Fuckup with \" + store[i])\n",
    "        fail.append(store[i])\n",
=======
    "d3 = {}\n",
    "fail3 = []\n",
    "# Working with a train dataset - 4226 images\n",
    "for i in range(9276, 10333):\n",
    "    try:\n",
    "        element2 = {}\n",
    "        number_of_image = i\n",
    "        #print(number_of_image)\n",
    "        element2 = transformation(store[i], number_of_image)\n",
    "    except json.decoder.JSONDecodeError:\n",
    "        print(\"Fuckup with \" + store[i])\n",
    "        fail3.append(store[i])\n",
>>>>>>> c2946805b74b942682977c484d3475801b8a522b
    "    #print(element2)\n",
    "    if element2:\n",
    "        file_name = os.listdir(store[i] + \"/image\")[0]\n",
    "        file_to_copy = store[i] + \"image/\" + file_name\n",
<<<<<<< HEAD
    "        target_dir = path_to_sun + \"train/train/\"\n",
    "        shutil.copyfile(file_to_copy, target_dir + str(i) + \".jpg\")\n",
    "        d[str(i) + \".jpg\" + str(os.path.getsize(file_to_copy))] = element2\n",
    "\n",
    "jsonname2 =  path_to_sun + \"train/train/\" + \"via_region_data.json\"\n",
    "with open(jsonname2, 'w') as fp:\n",
    "        json.dump(d, fp)"
=======
    "        target_dir = path_to_sun + \"train/val/\"\n",
    "        shutil.copyfile(file_to_copy, target_dir + str(i) + \".jpg\")\n",
    "        d3[str(i) + \".jpg\" + str(os.path.getsize(file_to_copy))] = element2\n",
    "\n",
    "jsonname2 =  path_to_sun + \"train/val/\" + \"via_region_data.json\"\n",
    "with open(jsonname2, 'w') as fp:\n",
    "        json.dump(d3, fp)"
   ]
  },
  {
   "cell_type": "code",
   "execution_count": 25,
   "metadata": {},
   "outputs": [
    {
     "name": "stdout",
     "output_type": "stream",
     "text": [
      "Pictures failed:4\n",
      "Pictures parsed:1053\n"
     ]
    }
   ],
   "source": [
    "print(\"Pictures failed:\" + str(len(fail3)))\n",
    "print(\"Pictures parsed:\" + str(len(d3)))"
   ]
  },
  {
   "cell_type": "code",
   "execution_count": 15,
   "metadata": {},
   "outputs": [
    {
     "data": {
      "text/plain": [
       "10335"
      ]
     },
     "execution_count": 15,
     "metadata": {},
     "output_type": "execute_result"
    }
   ],
   "source": [
    "len(store)"
   ]
  },
  {
   "cell_type": "code",
   "execution_count": 13,
   "metadata": {},
   "outputs": [],
   "source": [
    "image_root = store[6029]"
   ]
  },
  {
   "cell_type": "code",
   "execution_count": 14,
   "metadata": {},
   "outputs": [
    {
     "data": {
      "text/plain": [
       "'../../SUNRGBD/kv1/NYUdata/NYU0006/'"
      ]
     },
     "execution_count": 14,
     "metadata": {},
     "output_type": "execute_result"
    }
   ],
   "source": [
    "image_root"
   ]
  },
  {
   "cell_type": "code",
   "execution_count": null,
   "metadata": {},
   "outputs": [],
   "source": []
  },
  {
   "cell_type": "code",
   "execution_count": 15,
   "metadata": {},
   "outputs": [],
   "source": [
    "frameData = SUNRGBD.readFrame(image_root, True )"
   ]
  },
  {
   "cell_type": "code",
   "execution_count": 16,
   "metadata": {},
   "outputs": [
    {
     "data": {
      "text/plain": [
       "((427, 561, 3), dtype('uint8'))"
      ]
     },
     "execution_count": 16,
     "metadata": {},
     "output_type": "execute_result"
    }
   ],
   "source": [
    "frameData.imgRGB.shape, frameData.imgRGB.dtype"
   ]
  },
  {
   "cell_type": "code",
   "execution_count": 17,
   "metadata": {},
   "outputs": [
    {
     "data": {
      "text/plain": [
       "26"
      ]
     },
     "execution_count": 17,
     "metadata": {},
     "output_type": "execute_result"
    }
   ],
   "source": [
    "len(frameData.annotation2D)"
   ]
  },
  {
   "cell_type": "code",
   "execution_count": null,
   "metadata": {},
   "outputs": [],
   "source": [
    "import matplotlib.pyplot as plt\n",
    "imgRGBWithAnnotations = np.array(frameData.imgRGB, copy=True)\n",
    "\n",
    "for i in range(0, len(frameData.annotation2D)):\n",
    "    color = [rand.randint(0,255), rand.randint(0,255), rand.randint(0,255)]\n",
    "    cv2.fillPoly(imgRGBWithAnnotations, [frameData.annotation2D[i]], color)\n",
    "    "
   ]
  },
  {
   "cell_type": "code",
   "execution_count": null,
   "metadata": {},
   "outputs": [],
   "source": [
    "for i in range(0, len(frameData.annotation2D)):\n",
    "    data = frameData.annotation2D[i];\n",
    "    centroid = np.mean(data,axis=0)\n",
    "    cv2.putText(imgRGBWithAnnotations, frameData.labels2D[i], (int(centroid[0]), int(centroid[1])), cv2.FONT_HERSHEY_SIMPLEX, 0.7, [0,0,0],2)\n",
    "    "
   ]
  },
  {
   "cell_type": "code",
   "execution_count": 71,
   "metadata": {},
   "outputs": [],
   "source": [
    "data = frameData.annotation2D\n",
    "data2 = frameData.labels2D"
   ]
  },
  {
   "cell_type": "code",
   "execution_count": 72,
   "metadata": {},
   "outputs": [],
   "source": [
    "anotation2D = image_root + \"/annotation2Dfinal/index.json\"\n",
    "\n",
    "with open(anotation2D) as data_file:    \n",
    "    data = json.load(data_file)\n",
    "\n",
    "    numberOfAnot = len(data[\"frames\"][0][\"polygon\"]);\n",
    "    anootation2D = [];\n",
    "    labels2D = [];\n",
    "    for i in range(0,numberOfAnot):\n",
    "        x = data[\"frames\"][0][\"polygon\"][i][\"x\"]\n",
    "        y = data[\"frames\"][0][\"polygon\"][i][\"y\"]\n",
    "\n",
    "        idxObj = data[\"frames\"][0][\"polygon\"][i][\"object\"];\n",
    "        pts2 = np.array([x,y], np.int32)\n",
    "        pts2 = np.transpose(pts2);\n",
    "        anootation2D.append(pts2);\n",
    "        labels2D.append(data['objects'][idxObj][\"name\"])"
   ]
  },
  {
   "cell_type": "code",
   "execution_count": 73,
   "metadata": {},
   "outputs": [
    {
     "name": "stdout",
     "output_type": "stream",
     "text": [
      "Depth data\n"
     ]
    },
    {
     "data": {
      "image/png": "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\n",
      "text/plain": [
       "<Figure size 432x288 with 1 Axes>"
      ]
     },
     "metadata": {
      "needs_background": "light"
     },
     "output_type": "display_data"
    }
   ],
   "source": [
    "print(\"Depth data\")\n",
    "plt.imshow(frameData.imgD);"
   ]
  },
  {
   "cell_type": "code",
   "execution_count": 74,
   "metadata": {},
   "outputs": [
    {
     "name": "stdout",
     "output_type": "stream",
     "text": [
      "RGB Image\n"
     ]
    },
    {
     "data": {
      "image/png": "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\n",
      "text/plain": [
       "<Figure size 432x288 with 1 Axes>"
      ]
     },
     "metadata": {
      "needs_background": "light"
     },
     "output_type": "display_data"
    }
   ],
   "source": [
    "print(\"RGB Image\")\n",
    "plt.imshow(frameData.imgRGB);"
>>>>>>> c2946805b74b942682977c484d3475801b8a522b
   ]
  },
  {
   "cell_type": "code",
<<<<<<< HEAD
   "execution_count": 16,
=======
   "execution_count": 75,
>>>>>>> c2946805b74b942682977c484d3475801b8a522b
   "metadata": {},
   "outputs": [
    {
     "name": "stdout",
     "output_type": "stream",
     "text": [
<<<<<<< HEAD
      "Pictures failed:0\n",
      "Pictures parsed:1160\n"
     ]
    }
   ],
   "source": [
    "print(\"Pictures failed:\" + str(len(fail)))\n",
    "print(\"Pictures parsed:\" + str(len(d)))"
=======
      "Annotated Image\n"
     ]
    },
    {
     "data": {
      "image/png": "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\n",
      "text/plain": [
       "<Figure size 432x288 with 1 Axes>"
      ]
     },
     "metadata": {
      "needs_background": "light"
     },
     "output_type": "display_data"
    }
   ],
   "source": [
    "print(\"Annotated Image\")\n",
    "plt.imshow(imgRGBWithAnnotations);"
>>>>>>> c2946805b74b942682977c484d3475801b8a522b
   ]
  },
  {
   "cell_type": "code",
<<<<<<< HEAD
   "execution_count": 17,
=======
   "execution_count": 81,
>>>>>>> c2946805b74b942682977c484d3475801b8a522b
   "metadata": {},
   "outputs": [
    {
     "data": {
      "text/plain": [
<<<<<<< HEAD
       "{'air conditioner': 7,\n",
       " 'air duct': 7,\n",
       " 'air vent': 7,\n",
       " 'aluminium foil': 7,\n",
       " 'american flag': 7,\n",
       " 'baby gate': 7,\n",
       " 'back scrubber': 7,\n",
       " 'baking dish': 7,\n",
       " 'banana peel': 7,\n",
       " 'basketball hoop': 7,\n",
       " 'bedding package': 7,\n",
       " 'bicycle helmet': 7,\n",
       " 'binder': 7,\n",
       " 'book': 7,\n",
       " 'book holder': 7,\n",
       " 'bottle of comet': 7,\n",
       " 'bottle of liquid': 7,\n",
       " 'bottle of listerine': 7,\n",
       " 'bottle of perfume': 7,\n",
       " 'bottle of soap': 7,\n",
       " 'bread': 7,\n",
       " 'business cards': 7,\n",
       " 'cable modem': 7,\n",
       " 'cables': 7,\n",
       " 'can of food': 7,\n",
       " 'can opener': 7,\n",
       " 'cap stand': 7,\n",
       " 'cardboard sheet': 7,\n",
       " 'cardboard tube': 7,\n",
       " 'carton': 7,\n",
       " 'casserole dish': 7,\n",
       " 'cat cage': 6,\n",
       " 'cat house': 7,\n",
       " 'cd disc': 7,\n",
       " 'cell phone': 7,\n",
       " 'cell phone charger': 7,\n",
       " 'chair': 4,\n",
       " 'charger and wire': 7,\n",
       " 'chart roll': 7,\n",
       " 'chart stand': 6,\n",
       " 'child carrier': 7,\n",
       " 'cleaning wipes': 7,\n",
       " 'clothing detergent': 7,\n",
       " 'clothing dryer': 6,\n",
       " 'clothing hamper': 6,\n",
       " 'clothing iron': 7,\n",
       " 'clothing washer': 6,\n",
       " 'coat hanger': 7,\n",
       " 'coffee grinder': 7,\n",
       " 'coffee machine': 7,\n",
       " 'coins': 7,\n",
       " 'console controller': 7,\n",
       " 'console system': 7,\n",
       " 'contact lens solution bottle': 7,\n",
       " 'container of skin cream': 7,\n",
       " 'cooking pan': 7,\n",
       " 'cooking pot cover': 7,\n",
       " 'cordless phone': 7,\n",
       " 'crayon': 7,\n",
       " 'cream': 7,\n",
       " 'cream tube': 7,\n",
       " 'crock pot': 7,\n",
       " 'curtain rod': 7,\n",
       " 'cutting board': 7,\n",
       " 'decanter': 7,\n",
       " 'decoration item': 7,\n",
       " 'decorative bowl': 7,\n",
       " 'decorative dish': 7,\n",
       " 'decorative egg': 7,\n",
       " 'decorative item': 7,\n",
       " 'decorative plate': 7,\n",
       " 'decorative platter': 7,\n",
       " 'deoderant': 7,\n",
       " 'dish brush': 7,\n",
       " 'dish cover': 7,\n",
       " 'dish rack': 7,\n",
       " 'dish scrubber': 7,\n",
       " 'dishes': 7,\n",
       " 'display case': 6,\n",
       " 'display platter': 7,\n",
       " 'dog bowl': 7,\n",
       " 'dog cage': 6,\n",
       " 'doll house': 6,\n",
       " 'dollar bill': 7,\n",
       " 'door  window  reflection': 7,\n",
       " 'door facing trimreflection': 7,\n",
       " 'door way': 7,\n",
       " 'door way arch': 7,\n",
       " 'drawer': 6,\n",
       " 'drawer knob': 7,\n",
       " 'drum': 7,\n",
       " 'drying rack': 6,\n",
       " 'drying stand': 6,\n",
       " 'dvd': 7,\n",
       " 'dvd player': 7,\n",
       " 'educational display': 6,\n",
       " 'electric mixer': 7,\n",
       " 'electric toothbrush base': 7,\n",
       " 'electrical outlet': 7,\n",
       " 'ethernet jack': 7,\n",
       " 'excercise ball': 7,\n",
       " 'excercise equipment': 6,\n",
       " 'excercise machine': 6,\n",
       " 'exit sign': 7,\n",
       " 'face wash cream': 7,\n",
       " 'fax machine': 7,\n",
       " 'fiberglass case': 7,\n",
       " 'file container': 7,\n",
       " 'file holder': 7,\n",
       " 'file pad': 7,\n",
       " 'filing shelves': 6,\n",
       " 'fire alarm': 7,\n",
       " 'fireplace': 7,\n",
       " 'fish tank': 7,\n",
       " 'flask set': 7,\n",
       " 'floor_mats': 5,\n",
       " 'flower': 7,\n",
       " 'flower basket': 7,\n",
       " 'flower pot': 7,\n",
       " 'food processor': 7,\n",
       " 'food wrapped on a tray': 7,\n",
       " 'foosball table': 6,\n",
       " 'framed certificate': 7,\n",
       " 'fruit platter': 7,\n",
       " 'fruit stand': 7,\n",
       " 'frying pan': 7,\n",
       " 'game table': 7,\n",
       " 'garbage bin': 6,\n",
       " 'gift wrapping': 7,\n",
       " 'glass': 7,\n",
       " 'glass container': 7,\n",
       " 'glass dish': 7,\n",
       " 'glass set': 7,\n",
       " 'glass ware': 7,\n",
       " 'globe stand': 7,\n",
       " 'gold piece': 7,\n",
       " 'grandfather clock': 6,\n",
       " 'guitar case': 7,\n",
       " 'hair brush': 7,\n",
       " 'hair dryer': 7,\n",
       " 'hamburger bun': 7,\n",
       " 'hand blender': 7,\n",
       " 'hand fan': 7,\n",
       " 'hand sanitizer': 7,\n",
       " 'hand sanitizer dispenser': 7,\n",
       " 'hand sculpture': 7,\n",
       " 'heating tray': 7,\n",
       " 'hockey glove': 7,\n",
       " 'hockey stick': 7,\n",
       " 'hole puncher': 7,\n",
       " 'hooks': 7,\n",
       " 'hoola hoop': 7,\n",
       " 'horse toy': 7,\n",
       " 'hot dogs': 7,\n",
       " 'hot water heater': 7,\n",
       " 'id card': 7,\n",
       " 'incense candle': 7,\n",
       " 'incense holder': 7,\n",
       " 'indoor fountain': 6,\n",
       " 'ipod dock': 7,\n",
       " 'iron grill': 7,\n",
       " 'ironing board': 6,\n",
       " 'karate belts': 7,\n",
       " 'kitchen utensil': 7,\n",
       " 'kitchen utensils': 7,\n",
       " 'knife rack': 7,\n",
       " 'ladel': 7,\n",
       " 'laundry basket': 7,\n",
       " 'laundry detergent jug': 7,\n",
       " 'lazy susan': 7,\n",
       " 'leg of a girl': 7,\n",
       " 'letter stand': 7,\n",
       " 'lid of jar': 7,\n",
       " 'life jacket': 7,\n",
       " 'light bulb': 7,\n",
       " 'light switch': 7,\n",
       " 'light switchreflection': 7,\n",
       " 'lighting track': 7,\n",
       " 'lint roller': 7,\n",
       " 'litter box': 7,\n",
       " 'luggage rack': 6,\n",
       " 'magazine': 7,\n",
       " 'mail tray': 7,\n",
       " 'mask': 7,\n",
       " 'measuring cup': 7,\n",
       " 'medicine tube': 7,\n",
       " 'mens suit': 7,\n",
       " 'mens tie': 7,\n",
       " 'mortar and pestle': 7,\n",
       " 'mouse pad': 7,\n",
       " 'mug hanger': 7,\n",
       " 'mug holder': 7,\n",
       " 'napkin dispenser': 7,\n",
       " 'napkin holder': 7,\n",
       " 'napkin ring': 7,\n",
       " 'necklace holder': 7,\n",
       " 'newspapers': 7,\n",
       " 'night_syand': 6,\n",
       " 'oil container': 7,\n",
       " 'orange': 7,\n",
       " 'orange juicer': 7,\n",
       " 'orange plastic cap': 7,\n",
       " 'ornamental plant': 7,\n",
       " 'ornamental pot': 7,\n",
       " 'oven handle': 7,\n",
       " 'oven mitt': 7,\n",
       " 'package of water': 7,\n",
       " 'paper rack': 7,\n",
       " 'paper towel': 7,\n",
       " 'paper towel dispenser': 7,\n",
       " 'paper towel holder': 7,\n",
       " 'paper tray': 7,\n",
       " 'pen holder': 7,\n",
       " 'pen stand': 7,\n",
       " 'pencil holder': 7,\n",
       " 'pepper grinder': 7,\n",
       " 'pepper shaker': 7,\n",
       " 'personal care liquid': 7,\n",
       " 'phone jack': 7,\n",
       " 'photo album': 7,\n",
       " 'piano bench': 6,\n",
       " 'ping pong ball': 7,\n",
       " 'ping pong racket': 7,\n",
       " 'ping pong racquet': 7,\n",
       " 'ping pong table': 6,\n",
       " 'plant pot': 7,\n",
       " 'plastic bowl': 7,\n",
       " 'plastic cup of coffee': 7,\n",
       " 'plastic dish': 7,\n",
       " 'plastic toy container': 7,\n",
       " 'plastic tray': 7,\n",
       " 'pool ball': 7,\n",
       " 'pool sticks': 7,\n",
       " 'pool table': 6,\n",
       " 'poster board': 7,\n",
       " 'poster case': 7,\n",
       " 'projector screen': 7,\n",
       " 'puppy toy': 7,\n",
       " 'range hood': 7,\n",
       " 'remote control': 7,\n",
       " 'rolled up rug': 7,\n",
       " 'salt and pepper': 7,\n",
       " 'salt container': 7,\n",
       " 'salt shaker': 7,\n",
       " 'scenary': 7,\n",
       " 'serving dish': 7,\n",
       " 'serving platter': 7,\n",
       " 'serving spoon': 7,\n",
       " 'sewing machine': 7,\n",
       " 'shaving cream': 7,\n",
       " 'sheet': 7,\n",
       " 'sheet of metal': 7,\n",
       " 'shelf frame': 7,\n",
       " 'shoe': 7,\n",
       " 'shoe hanger': 7,\n",
       " 'shopping cart': 7,\n",
       " 'show piece': 7,\n",
       " 'shower base': 7,\n",
       " 'shower curtain': 7,\n",
       " 'shower hose': 7,\n",
       " 'shower tube': 7,\n",
       " 'sleeping bag': 7,\n",
       " 'soap dish': 7,\n",
       " 'soap holder': 7,\n",
       " 'soap tray': 7,\n",
       " 'soft toy': 7,\n",
       " 'soft toy group': 7,\n",
       " 'spice bottle': 7,\n",
       " 'spice rack': 7,\n",
       " 'spoon sets': 7,\n",
       " 'spoon stand': 7,\n",
       " 'spot light': 7,\n",
       " 'stack of plates': 7,\n",
       " 'stacked plastic racks': 6,\n",
       " 'stand': 6,\n",
       " 'staple remover': 7,\n",
       " 'step stool': 7,\n",
       " 'storage bin': 7,\n",
       " 'storage chest': 6,\n",
       " 'storage space': 7,\n",
       " 'stove burner': 7,\n",
       " 'styrofoam object': 7,\n",
       " 'suitcase': 7,\n",
       " 'surge protector': 7,\n",
       " 'tape': 7,\n",
       " 'tape dispenser': 7,\n",
       " 'tea cannister': 7,\n",
       " 'tea coaster': 7,\n",
       " 'tea kettle': 7,\n",
       " 'tea pot': 7,\n",
       " 'telephone cord': 7,\n",
       " 'tennis racket': 7,\n",
       " 'throw': 7,\n",
       " 'tissue roll': 7,\n",
       " 'toaster oven': 7,\n",
       " 'toilet bowl brush': 7,\n",
       " 'toilet paper': 7,\n",
       " 'toilet paper holder': 7,\n",
       " 'toilet plunger': 7,\n",
       " 'toothbrush holder': 7,\n",
       " 'toothpaste holder': 7,\n",
       " 'towel rod': 7,\n",
       " 'toy apple': 7,\n",
       " 'toy bin': 7,\n",
       " 'toy boat': 7,\n",
       " 'toy bottle': 7,\n",
       " 'toy car': 7,\n",
       " 'toy cash register': 7,\n",
       " 'toy chest': 7,\n",
       " 'toy cube': 7,\n",
       " 'toy cuboid': 7,\n",
       " 'toy cylinder': 7,\n",
       " 'toy doll': 7,\n",
       " 'toy house': 7,\n",
       " 'toy kitchen': 7,\n",
       " 'toy phone': 7,\n",
       " 'toy plane': 7,\n",
       " 'toy pyramid': 7,\n",
       " 'toy rectangle': 7,\n",
       " 'toy sofa': 7,\n",
       " 'toy stroller': 7,\n",
       " 'toy tree': 7,\n",
       " 'toy triangle': 7,\n",
       " 'toy trucks': 7,\n",
       " 'toyhouse': 7,\n",
       " 'toys basket': 7,\n",
       " 'toys rack': 6,\n",
       " 'tree sculpture': 7,\n",
       " 'tv stand': 6,\n",
       " 'utensil container': 7,\n",
       " 'vacuum cleaner': 7,\n",
       " 'vegetable peeler': 7,\n",
       " 'vessel set': 7,\n",
       " 'vhs tapes': 7,\n",
       " 'video game': 7,\n",
       " 'waffle maker': 7,\n",
       " 'walkie talkie': 7,\n",
       " 'wall decoration': 7,\n",
       " 'wall hand sanitizer dispenser': 7,\n",
       " 'washing machine': 6,\n",
       " 'water cooler': 6,\n",
       " 'water dispenser': 7,\n",
       " 'water filter': 7,\n",
       " 'water fountain': 7,\n",
       " 'water heater': 7,\n",
       " 'water purifier': 7,\n",
       " 'watermellon': 7,\n",
       " 'whiteboard eraser': 7,\n",
       " 'window cover': 7,\n",
       " 'window frame': 7,\n",
       " 'window seat': 7,\n",
       " 'window shelf': 7,\n",
       " 'wine accessory': 7,\n",
       " 'wine bottle': 7,\n",
       " 'wine glass': 7,\n",
       " 'wine rack': 7,\n",
       " 'wire basket': 7,\n",
       " 'wire board': 7,\n",
       " 'wire rack': 7,\n",
       " 'wire tray': 7,\n",
       " 'wooden container': 7,\n",
       " 'wooden kitchen utensils': 7,\n",
       " 'wooden pillar': 7,\n",
       " 'wooden plank': 7,\n",
       " 'wooden planks': 7,\n",
       " 'wooden toy': 7,\n",
       " 'wooden utensil': 7,\n",
       " 'wooden utensils': 7,\n",
       " 'yellow pepper': 7,\n",
       " 'yoga mat': 7}"
      ]
     },
     "execution_count": 17,
=======
       "((530, 730, 3), dtype('uint8'))"
      ]
     },
     "execution_count": 81,
>>>>>>> c2946805b74b942682977c484d3475801b8a522b
     "metadata": {},
     "output_type": "execute_result"
    }
   ],
<<<<<<< HEAD
   "source": [
    "ufo"
   ]
  },
  {
   "cell_type": "code",
   "execution_count": 18,
   "metadata": {},
   "outputs": [
    {
     "name": "stdout",
     "output_type": "stream",
     "text": [
      "1160\n",
      "1161\n",
      "1162\n",
      "1163\n",
      "1164\n",
      "1165\n",
      "1166\n",
      "1167\n",
      "1168\n",
      "1169\n",
      "1170\n",
      "1171\n",
      "1172\n",
      "1173\n",
      "1174\n",
      "1175\n",
      "1176\n",
      "1177\n",
      "1178\n",
      "1179\n",
      "1180\n",
      "1181\n",
      "1182\n",
      "1183\n",
      "1184\n",
      "1185\n",
      "1186\n",
      "1187\n",
      "1188\n",
      "1189\n",
      "1190\n",
      "1191\n",
      "1192\n",
      "1193\n",
      "1194\n",
      "1195\n",
      "1196\n",
      "1197\n",
      "1198\n",
      "1199\n",
      "1200\n",
      "1201\n",
      "1202\n",
      "1203\n",
      "1204\n",
      "1205\n",
      "1206\n",
      "1207\n",
      "1208\n",
      "1209\n",
      "1210\n",
      "1211\n",
      "1212\n",
      "1213\n",
      "1214\n",
      "1215\n",
      "1216\n",
      "1217\n",
      "1218\n",
      "1219\n",
      "1220\n",
      "1221\n",
      "1222\n",
      "1223\n",
      "1224\n",
      "1225\n",
      "1226\n",
      "1227\n",
      "1228\n",
      "1229\n",
      "1230\n",
      "1231\n",
      "1232\n",
      "1233\n",
      "1234\n",
      "1235\n",
      "1236\n",
      "1237\n",
      "1238\n",
      "1239\n",
      "1240\n",
      "1241\n",
      "1242\n",
      "1243\n",
      "1244\n",
      "1245\n",
      "1246\n",
      "1247\n",
      "1248\n",
      "1249\n",
      "1250\n",
      "1251\n",
      "1252\n",
      "1253\n",
      "1254\n",
      "1255\n",
      "1256\n",
      "1257\n",
      "1258\n",
      "1259\n",
      "1260\n",
      "1261\n",
      "1262\n",
      "1263\n",
      "1264\n",
      "1265\n",
      "1266\n",
      "1267\n",
      "1268\n",
      "1269\n",
      "1270\n",
      "1271\n",
      "1272\n",
      "1273\n",
      "1274\n",
      "1275\n",
      "1276\n",
      "1277\n",
      "1278\n",
      "1279\n",
      "1280\n",
      "1281\n",
      "1282\n",
      "1283\n",
      "1284\n",
      "1285\n",
      "1286\n",
      "1287\n",
      "1288\n",
      "1289\n",
      "1290\n",
      "1291\n",
      "1292\n",
      "1293\n",
      "1294\n",
      "1295\n",
      "1296\n",
      "1297\n",
      "1298\n",
      "1299\n",
      "1300\n",
      "1301\n",
      "1302\n",
      "1303\n",
      "1304\n"
     ]
    }
   ],
   "source": [
    "d2 = {}\n",
    "fail2 = []\n",
    "# Working with a train dataset - 4226 images\n",
    "for i in range(1160,1305):\n",
    "    try:\n",
    "        element2 = {}\n",
    "        number_of_image = i\n",
    "        print(number_of_image)\n",
    "        element2 = transformation(store[i], number_of_image)\n",
    "        #print(element2)\n",
    "        if element2:\n",
    "            file_name = os.listdir(store[i] + \"/image\")[0]\n",
    "            file_to_copy = store[i] + \"image/\" + file_name\n",
    "            target_dir = path_to_sun + \"test/\"\n",
    "            shutil.copyfile(file_to_copy, target_dir + str(i) + \".jpg\")\n",
    "            d2[str(i) + \".jpg\" + str(os.path.getsize(file_to_copy))] = element2\n",
    "    #except json.decoder.JSONDecodeError:\n",
    "    except ValueError:\n",
    "        print(\"Fuckup with \" + store[i])\n",
    "        fail2.append(store[i])\n",
    "\n",
    "jsonname2 =  path_to_sun + \"test/\" + \"via_region_data.json\"\n",
    "with open(jsonname2, 'w') as fp:\n",
    "        json.dump(d2, fp)"
=======
   "source": []
  },
  {
   "cell_type": "code",
   "execution_count": 77,
   "metadata": {},
   "outputs": [
    {
     "data": {
      "text/plain": [
       "(530, 730, 3)"
      ]
     },
     "execution_count": 77,
     "metadata": {},
     "output_type": "execute_result"
    }
   ],
   "source": [
    "imgRGBWithAnnotations.shape"
>>>>>>> c2946805b74b942682977c484d3475801b8a522b
   ]
  },
  {
   "cell_type": "code",
<<<<<<< HEAD
   "execution_count": 19,
   "metadata": {},
   "outputs": [
    {
     "name": "stdout",
     "output_type": "stream",
     "text": [
      "Pictures failed:0\n",
      "Pictures parsed:145\n"
     ]
    }
   ],
   "source": [
    "print(\"Pictures failed:\" + str(len(fail2)))\n",
    "print(\"Pictures parsed:\" + str(len(d2)))"
=======
   "execution_count": 78,
   "metadata": {},
   "outputs": [
    {
     "data": {
      "text/plain": [
       "9"
      ]
     },
     "execution_count": 78,
     "metadata": {},
     "output_type": "execute_result"
    }
   ],
   "source": [
    "len(frameData.annotation2D)"
>>>>>>> c2946805b74b942682977c484d3475801b8a522b
   ]
  },
  {
   "cell_type": "code",
<<<<<<< HEAD
   "execution_count": 20,
   "metadata": {},
   "outputs": [
    {
     "name": "stdout",
     "output_type": "stream",
     "text": [
      "1305\n",
      "1306\n",
      "1307\n",
      "1308\n",
      "1309\n",
      "1310\n",
      "1311\n",
      "1312\n",
      "1313\n",
      "1314\n",
      "1315\n",
      "1316\n",
      "1317\n",
      "1318\n",
      "1319\n",
      "1320\n",
      "1321\n",
      "1322\n",
      "1323\n",
      "1324\n",
      "1325\n",
      "1326\n",
      "1327\n",
      "1328\n",
      "1329\n",
      "1330\n",
      "1331\n",
      "1332\n",
      "1333\n",
      "1334\n",
      "1335\n",
      "1336\n",
      "1337\n",
      "1338\n",
      "1339\n",
      "1340\n",
      "1341\n",
      "1342\n",
      "1343\n",
      "1344\n",
      "1345\n",
      "1346\n",
      "1347\n",
      "1348\n",
      "1349\n",
      "1350\n",
      "1351\n",
      "1352\n",
      "1353\n",
      "1354\n",
      "1355\n",
      "1356\n",
      "1357\n",
      "1358\n",
      "1359\n",
      "1360\n",
      "1361\n",
      "1362\n",
      "1363\n",
      "1364\n",
      "1365\n",
      "1366\n",
      "1367\n",
      "1368\n",
      "1369\n",
      "1370\n",
      "1371\n",
      "1372\n",
      "1373\n",
      "1374\n",
      "1375\n",
      "1376\n",
      "1377\n",
      "1378\n",
      "1379\n",
      "1380\n",
      "1381\n",
      "1382\n",
      "1383\n",
      "1384\n",
      "1385\n",
      "1386\n",
      "1387\n",
      "1388\n",
      "1389\n",
      "1390\n",
      "1391\n",
      "1392\n",
      "1393\n",
      "1394\n",
      "1395\n",
      "1396\n",
      "1397\n",
      "1398\n",
      "1399\n",
      "1400\n",
      "1401\n",
      "1402\n",
      "1403\n",
      "1404\n",
      "1405\n",
      "1406\n",
      "1407\n",
      "1408\n",
      "1409\n",
      "1410\n",
      "1411\n",
      "1412\n",
      "1413\n",
      "1414\n",
      "1415\n",
      "1416\n",
      "1417\n",
      "1418\n",
      "1419\n",
      "1420\n",
      "1421\n",
      "1422\n",
      "1423\n",
      "1424\n",
      "1425\n",
      "1426\n",
      "1427\n",
      "1428\n",
      "1429\n",
      "1430\n",
      "1431\n",
      "1432\n",
      "1433\n",
      "1434\n",
      "1435\n",
      "1436\n",
      "1437\n",
      "1438\n",
      "1439\n",
      "1440\n",
      "1441\n",
      "1442\n",
      "1443\n",
      "1444\n",
      "1445\n",
      "1446\n",
      "1447\n",
      "1448\n"
     ]
    }
   ],
   "source": [
    "d3 = {}\n",
    "fail3 = []\n",
    "# Working with a train dataset - 4226 images\n",
    "for i in range(1305, 1449):\n",
    "    try:\n",
    "        element2 = {}\n",
    "        number_of_image = i\n",
    "        print(number_of_image)\n",
    "        element2 = transformation(store[i], number_of_image)\n",
    "    except json.decoder.JSONDecodeError:\n",
    "        print(\"Fuckup with \" + store[i])\n",
    "        fail3.append(store[i])\n",
    "    #print(element2)\n",
    "    if element2:\n",
    "        file_name = os.listdir(store[i] + \"/image\")[0]\n",
    "        file_to_copy = store[i] + \"image/\" + file_name\n",
    "        target_dir = path_to_sun + \"train/val/\"\n",
    "        shutil.copyfile(file_to_copy, target_dir + str(i) + \".jpg\")\n",
    "        d3[str(i) + \".jpg\" + str(os.path.getsize(file_to_copy))] = element2\n",
    "\n",
    "jsonname2 =  path_to_sun + \"train/val/\" + \"via_region_data.json\"\n",
    "with open(jsonname2, 'w') as fp:\n",
    "        json.dump(d3, fp)"
=======
   "execution_count": 57,
   "metadata": {},
   "outputs": [
    {
     "data": {
      "text/plain": [
       "((36, 2), dtype('int32'))"
      ]
     },
     "execution_count": 57,
     "metadata": {},
     "output_type": "execute_result"
    }
   ],
   "source": [
    "frameData.annotation2D[0].shape, frameData.annotation2D[0].dtype"
>>>>>>> c2946805b74b942682977c484d3475801b8a522b
   ]
  },
  {
   "cell_type": "code",
<<<<<<< HEAD
   "execution_count": 21,
   "metadata": {},
   "outputs": [
    {
     "name": "stdout",
     "output_type": "stream",
     "text": [
      "Pictures failed:0\n",
      "Pictures parsed:144\n"
     ]
    }
   ],
   "source": [
    "print(\"Pictures failed:\" + str(len(fail3)))\n",
    "print(\"Pictures parsed:\" + str(len(d3)))"
=======
   "execution_count": null,
   "metadata": {},
   "outputs": [],
   "source": [
    "for i, p in enumerate(frameData.annotation2D):\n",
    "    #print(p)\n",
    "    x_coord = p[:,0]\n",
    "    y_coord = p[:,1]\n",
    "    for y in y_coord:\n",
    "        if y > 730:\n",
    "            print(\"y: \", y)\n",
    "    for x in x_coord:\n",
    "        if x > 530:\n",
    "            print(\"x: \",x)"
   ]
  },
  {
   "cell_type": "code",
   "execution_count": null,
   "metadata": {},
   "outputs": [],
   "source": [
    "for i, p in enumerate(dataset.image_info[img_id][\"polygons\"]):\n",
    "    y_s = p['all_points_y']\n",
    "    x_s = p['all_points_x']\n",
    "    for y in y_s:\n",
    "        if y > 730:\n",
    "            print(\"y: \", y)\n",
    "    for x in x_s:\n",
    "        if x > 530:\n",
    "            print(\"x: \",x)"
   ]
  },
  {
   "cell_type": "code",
   "execution_count": 64,
   "metadata": {},
   "outputs": [
    {
     "data": {
      "text/plain": [
       "array([[833, 119],\n",
       "       [757,  93],\n",
       "       [707, 265],\n",
       "       [833, 285]], dtype=int32)"
      ]
     },
     "execution_count": 64,
     "metadata": {},
     "output_type": "execute_result"
    }
   ],
   "source": [
    "frameData.annotation2D[0]"
>>>>>>> c2946805b74b942682977c484d3475801b8a522b
   ]
  },
  {
   "cell_type": "code",
<<<<<<< HEAD
   "execution_count": 22,
   "metadata": {},
   "outputs": [],
   "source": [
    "image_root = store[100]"
=======
   "execution_count": 67,
   "metadata": {},
   "outputs": [
    {
     "data": {
      "text/plain": [
       "array([119,  93, 265, 285], dtype=int32)"
      ]
     },
     "execution_count": 67,
     "metadata": {},
     "output_type": "execute_result"
    }
   ],
   "source": [
    "frameData.annotation2D[0][:,1]"
>>>>>>> c2946805b74b942682977c484d3475801b8a522b
   ]
  },
  {
   "cell_type": "code",
<<<<<<< HEAD
   "execution_count": 23,
   "metadata": {},
   "outputs": [],
   "source": [
    "frameData = SUNRGBD.readFrame(image_root, True )"
=======
   "execution_count": 72,
   "metadata": {},
   "outputs": [
    {
     "data": {
      "text/plain": [
       "45"
      ]
     },
     "execution_count": 72,
     "metadata": {},
     "output_type": "execute_result"
    }
   ],
   "source": [
    "len(frameData.annotation2D)"
>>>>>>> c2946805b74b942682977c484d3475801b8a522b
   ]
  },
  {
   "cell_type": "code",
<<<<<<< HEAD
   "execution_count": 24,
   "metadata": {},
   "outputs": [],
   "source": [
    "import matplotlib.pyplot as plt\n",
    "imgRGBWithAnnotations = np.array(frameData.imgRGB, copy=True)\n",
    "\n",
    "for i in range(0, len(frameData.annotation2D)):\n",
    "    color = [rand.randint(0,255), rand.randint(0,255), rand.randint(0,255)]\n",
    "    cv2.fillPoly(imgRGBWithAnnotations, [frameData.annotation2D[i]], color)\n",
    "    \n",
    "for i in range(0, len(frameData.annotation2D)):\n",
    "    data = frameData.annotation2D[i];\n",
    "    centroid = np.mean(data,axis=0)\n",
    "    cv2.putText(imgRGBWithAnnotations, frameData.labels2D[i], (int(centroid[0]), int(centroid[1])), cv2.FONT_HERSHEY_SIMPLEX, 0.7, [0,0,0],2)\n",
    "    "
=======
   "execution_count": 73,
   "metadata": {},
   "outputs": [
    {
     "name": "stdout",
     "output_type": "stream",
     "text": [
      "r c:  [ 94  94  94 ... 284 284 284] [757 758 759 ... 830 831 832]\n"
     ]
    },
    {
     "ename": "IndexError",
     "evalue": "index 757 is out of bounds for axis 1 with size 730",
     "output_type": "error",
     "traceback": [
      "\u001b[0;31m---------------------------------------------------------------------------\u001b[0m",
      "\u001b[0;31mIndexError\u001b[0m                                Traceback (most recent call last)",
      "\u001b[0;32m<ipython-input-73-722b7c9fa44f>\u001b[0m in \u001b[0;36m<module>\u001b[0;34m\u001b[0m\n\u001b[1;32m      6\u001b[0m \u001b[0mrr\u001b[0m\u001b[0;34m,\u001b[0m \u001b[0mcc\u001b[0m \u001b[0;34m=\u001b[0m \u001b[0mskimage\u001b[0m\u001b[0;34m.\u001b[0m\u001b[0mdraw\u001b[0m\u001b[0;34m.\u001b[0m\u001b[0mpolygon\u001b[0m\u001b[0;34m(\u001b[0m\u001b[0mframeData\u001b[0m\u001b[0;34m.\u001b[0m\u001b[0mannotation2D\u001b[0m\u001b[0;34m[\u001b[0m\u001b[0;36m0\u001b[0m\u001b[0;34m]\u001b[0m\u001b[0;34m[\u001b[0m\u001b[0;34m:\u001b[0m\u001b[0;34m,\u001b[0m\u001b[0;36m1\u001b[0m\u001b[0;34m]\u001b[0m\u001b[0;34m,\u001b[0m \u001b[0mframeData\u001b[0m\u001b[0;34m.\u001b[0m\u001b[0mannotation2D\u001b[0m\u001b[0;34m[\u001b[0m\u001b[0;36m0\u001b[0m\u001b[0;34m]\u001b[0m\u001b[0;34m[\u001b[0m\u001b[0;34m:\u001b[0m\u001b[0;34m,\u001b[0m\u001b[0;36m0\u001b[0m\u001b[0;34m]\u001b[0m\u001b[0;34m)\u001b[0m\u001b[0;34m\u001b[0m\u001b[0m\n\u001b[1;32m      7\u001b[0m \u001b[0mprint\u001b[0m\u001b[0;34m(\u001b[0m\u001b[0;34m\"r c: \"\u001b[0m\u001b[0;34m,\u001b[0m\u001b[0mrr\u001b[0m\u001b[0;34m,\u001b[0m \u001b[0mcc\u001b[0m\u001b[0;34m)\u001b[0m\u001b[0;34m\u001b[0m\u001b[0m\n\u001b[0;32m----> 8\u001b[0;31m \u001b[0mmask\u001b[0m\u001b[0;34m[\u001b[0m\u001b[0mrr\u001b[0m\u001b[0;34m,\u001b[0m \u001b[0mcc\u001b[0m\u001b[0;34m,\u001b[0m \u001b[0mi\u001b[0m\u001b[0;34m]\u001b[0m \u001b[0;34m=\u001b[0m \u001b[0;36m1\u001b[0m\u001b[0;34m\u001b[0m\u001b[0m\n\u001b[0m",
      "\u001b[0;31mIndexError\u001b[0m: index 757 is out of bounds for axis 1 with size 730"
     ]
    }
   ],
   "source": [
    "import skimage.draw\n",
    "\n",
    "\n",
    "mask = np.zeros([530, 730, len(frameData.annotation2D)],\n",
    "                        dtype=np.uint8)\n",
    "rr, cc = skimage.draw.polygon(frameData.annotation2D[0][:,1], frameData.annotation2D[0][:,0])\n",
    "\n",
    "print(\"r c: \",rr, cc)\n",
    "mask[rr, cc, i] = 1"
>>>>>>> c2946805b74b942682977c484d3475801b8a522b
   ]
  },
  {
   "cell_type": "code",
<<<<<<< HEAD
   "execution_count": 25,
   "metadata": {},
   "outputs": [],
   "source": [
    "data = frameData.annotation2D\n",
    "data2 = frameData.labels2D"
=======
   "execution_count": 130,
   "metadata": {},
   "outputs": [],
   "source": [
    "masks = np.zeros([530, 730, 45])\n",
    "for i in range(45):\n",
    "    mask = np.zeros([530, 730])\n",
    "    cv2.fillPoly(mask, [frameData.annotation2D[i]], 1)\n",
    "    masks[:,:,i] = mask\n"
>>>>>>> c2946805b74b942682977c484d3475801b8a522b
   ]
  },
  {
   "cell_type": "code",
<<<<<<< HEAD
   "execution_count": 26,
   "metadata": {},
   "outputs": [],
   "source": [
    "anotation2D = image_root + \"/annotation2Dfinal/index.json\"\n",
    "\n",
    "with open(anotation2D) as data_file:    \n",
    "    data = json.load(data_file)\n",
    "\n",
    "    numberOfAnot = len(data[\"frames\"][0][\"polygon\"]);\n",
    "    anootation2D = [];\n",
    "    labels2D = [];\n",
    "    for i in range(0,numberOfAnot):\n",
    "        x = data[\"frames\"][0][\"polygon\"][i][\"x\"]\n",
    "        y = data[\"frames\"][0][\"polygon\"][i][\"y\"]\n",
    "\n",
    "        idxObj = data[\"frames\"][0][\"polygon\"][i][\"object\"];\n",
    "        pts2 = np.array([x,y], np.int32)\n",
    "        pts2 = np.transpose(pts2);\n",
    "        anootation2D.append(pts2);\n",
    "        labels2D.append(data['objects'][idxObj][\"name\"])"
=======
   "execution_count": 114,
   "metadata": {},
   "outputs": [
    {
     "data": {
      "text/plain": [
       "(13, 2)"
      ]
     },
     "execution_count": 114,
     "metadata": {},
     "output_type": "execute_result"
    }
   ],
   "source": [
    "frameData.annotation2D[3].shape"
>>>>>>> c2946805b74b942682977c484d3475801b8a522b
   ]
  },
  {
   "cell_type": "code",
<<<<<<< HEAD
   "execution_count": 27,
   "metadata": {},
   "outputs": [
    {
     "name": "stdout",
     "output_type": "stream",
     "text": [
      "Depth data\n"
     ]
    },
    {
     "data": {
      "image/png": "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\n",
      "text/plain": [
       "<Figure size 432x288 with 1 Axes>"
      ]
     },
     "metadata": {},
     "output_type": "display_data"
    }
   ],
   "source": [
    "print(\"Depth data\")\n",
    "plt.imshow(frameData.imgD);"
=======
   "execution_count": 113,
   "metadata": {},
   "outputs": [
    {
     "data": {
      "text/plain": [
       "array([836,  85], dtype=int32)"
      ]
     },
     "execution_count": 113,
     "metadata": {},
     "output_type": "execute_result"
    }
   ],
   "source": [
    "frameData.annotation2D[1][0]"
>>>>>>> c2946805b74b942682977c484d3475801b8a522b
   ]
  },
  {
   "cell_type": "code",
<<<<<<< HEAD
   "execution_count": 28,
   "metadata": {},
   "outputs": [
    {
     "name": "stdout",
     "output_type": "stream",
     "text": [
      "RGB Image\n"
     ]
    },
    {
     "data": {
      "image/png": "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\n",
      "text/plain": [
       "<Figure size 432x288 with 1 Axes>"
      ]
     },
     "metadata": {},
     "output_type": "display_data"
    }
   ],
   "source": [
    "print(\"RGB Image\")\n",
    "plt.imshow(frameData.imgRGB);"
=======
   "execution_count": 127,
   "metadata": {},
   "outputs": [
    {
     "data": {
      "text/plain": [
       "(530, 730)"
      ]
     },
     "execution_count": 127,
     "metadata": {},
     "output_type": "execute_result"
    }
   ],
   "source": [
    "mask.shape"
>>>>>>> c2946805b74b942682977c484d3475801b8a522b
   ]
  },
  {
   "cell_type": "code",
<<<<<<< HEAD
   "execution_count": 29,
   "metadata": {},
   "outputs": [
    {
     "name": "stdout",
     "output_type": "stream",
     "text": [
      "Annotated Image\n"
     ]
    },
    {
     "data": {
      "image/png": "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\n",
=======
   "execution_count": 138,
   "metadata": {},
   "outputs": [
    {
     "data": {
      "text/plain": [
       "<matplotlib.image.AxesImage at 0x7fce3dcaf630>"
      ]
     },
     "execution_count": 138,
     "metadata": {},
     "output_type": "execute_result"
    },
    {
     "data": {
      "image/png": "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\n",
>>>>>>> c2946805b74b942682977c484d3475801b8a522b
      "text/plain": [
       "<Figure size 432x288 with 1 Axes>"
      ]
     },
<<<<<<< HEAD
     "metadata": {},
=======
     "metadata": {
      "needs_background": "light"
     },
>>>>>>> c2946805b74b942682977c484d3475801b8a522b
     "output_type": "display_data"
    }
   ],
   "source": [
<<<<<<< HEAD
    "print(\"Annotated Image\")\n",
    "plt.imshow(imgRGBWithAnnotations);"
=======
    "plt.imshow(masks[:,:,3])"
>>>>>>> c2946805b74b942682977c484d3475801b8a522b
   ]
  },
  {
   "cell_type": "code",
   "execution_count": null,
   "metadata": {},
   "outputs": [],
   "source": []
  }
 ],
 "metadata": {
  "kernelspec": {
   "display_name": "Python 3",
   "language": "python",
   "name": "python3"
  },
  "language_info": {
   "codemirror_mode": {
    "name": "ipython",
    "version": 3
   },
   "file_extension": ".py",
   "mimetype": "text/x-python",
   "name": "python",
   "nbconvert_exporter": "python",
   "pygments_lexer": "ipython3",
<<<<<<< HEAD
   "version": "3.7.2"
  }
 },
 "nbformat": 4,
 "nbformat_minor": 2
=======
   "version": "3.5.2"
  }
 },
 "nbformat": 4,
 "nbformat_minor": 4
>>>>>>> c2946805b74b942682977c484d3475801b8a522b
}
